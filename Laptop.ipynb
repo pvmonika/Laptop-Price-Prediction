{
 "cells": [
  {
   "cell_type": "markdown",
   "id": "585208cf-699e-4b1b-a412-52deb27ed108",
   "metadata": {},
   "source": [
    "# Laptop Price Prediction"
   ]
  },
  {
   "cell_type": "markdown",
   "id": "6e1e8830-a713-4f05-ba42-818e19631101",
   "metadata": {},
   "source": [
    "## importing all neccesary libaries"
   ]
  },
  {
   "cell_type": "code",
   "execution_count": 558,
   "id": "c3ccbd2f-2291-48f3-85b6-32f41fe3b3ae",
   "metadata": {},
   "outputs": [],
   "source": [
    "import pandas as pd\n",
    "import numpy as np\n",
    "import matplotlib.pyplot as plt                                                                               \n",
    "import seaborn as sns\n",
    "import plotly.express as px\n",
    "import warnings\n",
    "warnings.filterwarnings(action='ignore')\n"
   ]
  },
  {
   "cell_type": "code",
   "execution_count": 559,
   "id": "fdb1bb9f-20f0-4a92-8283-21708f03666d",
   "metadata": {},
   "outputs": [
    {
     "data": {
      "text/html": [
       "<div>\n",
       "<style scoped>\n",
       "    .dataframe tbody tr th:only-of-type {\n",
       "        vertical-align: middle;\n",
       "    }\n",
       "\n",
       "    .dataframe tbody tr th {\n",
       "        vertical-align: top;\n",
       "    }\n",
       "\n",
       "    .dataframe thead th {\n",
       "        text-align: right;\n",
       "    }\n",
       "</style>\n",
       "<table border=\"1\" class=\"dataframe\">\n",
       "  <thead>\n",
       "    <tr style=\"text-align: right;\">\n",
       "      <th></th>\n",
       "      <th>Unnamed: 0.1</th>\n",
       "      <th>Unnamed: 0</th>\n",
       "      <th>Company</th>\n",
       "      <th>TypeName</th>\n",
       "      <th>Inches</th>\n",
       "      <th>ScreenResolution</th>\n",
       "      <th>Cpu</th>\n",
       "      <th>Ram</th>\n",
       "      <th>Memory</th>\n",
       "      <th>Gpu</th>\n",
       "      <th>OpSys</th>\n",
       "      <th>Weight</th>\n",
       "      <th>Price</th>\n",
       "    </tr>\n",
       "  </thead>\n",
       "  <tbody>\n",
       "    <tr>\n",
       "      <th>1298</th>\n",
       "      <td>1298</td>\n",
       "      <td>1298.0</td>\n",
       "      <td>Lenovo</td>\n",
       "      <td>2 in 1 Convertible</td>\n",
       "      <td>14</td>\n",
       "      <td>IPS Panel Full HD / Touchscreen 1920x1080</td>\n",
       "      <td>Intel Core i7 6500U 2.5GHz</td>\n",
       "      <td>4GB</td>\n",
       "      <td>128GB SSD</td>\n",
       "      <td>Intel HD Graphics 520</td>\n",
       "      <td>Windows 10</td>\n",
       "      <td>1.8kg</td>\n",
       "      <td>33992.64</td>\n",
       "    </tr>\n",
       "    <tr>\n",
       "      <th>1299</th>\n",
       "      <td>1299</td>\n",
       "      <td>1299.0</td>\n",
       "      <td>Lenovo</td>\n",
       "      <td>2 in 1 Convertible</td>\n",
       "      <td>13.3</td>\n",
       "      <td>IPS Panel Quad HD+ / Touchscreen 3200x1800</td>\n",
       "      <td>Intel Core i7 6500U 2.5GHz</td>\n",
       "      <td>16GB</td>\n",
       "      <td>512GB SSD</td>\n",
       "      <td>Intel HD Graphics 520</td>\n",
       "      <td>Windows 10</td>\n",
       "      <td>1.3kg</td>\n",
       "      <td>79866.72</td>\n",
       "    </tr>\n",
       "    <tr>\n",
       "      <th>1300</th>\n",
       "      <td>1300</td>\n",
       "      <td>1300.0</td>\n",
       "      <td>Lenovo</td>\n",
       "      <td>Notebook</td>\n",
       "      <td>14</td>\n",
       "      <td>1366x768</td>\n",
       "      <td>Intel Celeron Dual Core N3050 1.6GHz</td>\n",
       "      <td>2GB</td>\n",
       "      <td>64GB Flash Storage</td>\n",
       "      <td>Intel HD Graphics</td>\n",
       "      <td>Windows 10</td>\n",
       "      <td>1.5kg</td>\n",
       "      <td>12201.12</td>\n",
       "    </tr>\n",
       "    <tr>\n",
       "      <th>1301</th>\n",
       "      <td>1301</td>\n",
       "      <td>1301.0</td>\n",
       "      <td>HP</td>\n",
       "      <td>Notebook</td>\n",
       "      <td>15.6</td>\n",
       "      <td>1366x768</td>\n",
       "      <td>Intel Core i7 6500U 2.5GHz</td>\n",
       "      <td>6GB</td>\n",
       "      <td>1TB HDD</td>\n",
       "      <td>AMD Radeon R5 M330</td>\n",
       "      <td>Windows 10</td>\n",
       "      <td>2.19kg</td>\n",
       "      <td>40705.92</td>\n",
       "    </tr>\n",
       "    <tr>\n",
       "      <th>1302</th>\n",
       "      <td>1302</td>\n",
       "      <td>1302.0</td>\n",
       "      <td>Asus</td>\n",
       "      <td>Notebook</td>\n",
       "      <td>15.6</td>\n",
       "      <td>1366x768</td>\n",
       "      <td>Intel Celeron Dual Core N3050 1.6GHz</td>\n",
       "      <td>4GB</td>\n",
       "      <td>500GB HDD</td>\n",
       "      <td>Intel HD Graphics</td>\n",
       "      <td>Windows 10</td>\n",
       "      <td>2.2kg</td>\n",
       "      <td>19660.32</td>\n",
       "    </tr>\n",
       "  </tbody>\n",
       "</table>\n",
       "</div>"
      ],
      "text/plain": [
       "      Unnamed: 0.1  Unnamed: 0 Company            TypeName Inches  \\\n",
       "1298          1298      1298.0  Lenovo  2 in 1 Convertible     14   \n",
       "1299          1299      1299.0  Lenovo  2 in 1 Convertible   13.3   \n",
       "1300          1300      1300.0  Lenovo            Notebook     14   \n",
       "1301          1301      1301.0      HP            Notebook   15.6   \n",
       "1302          1302      1302.0    Asus            Notebook   15.6   \n",
       "\n",
       "                                ScreenResolution  \\\n",
       "1298   IPS Panel Full HD / Touchscreen 1920x1080   \n",
       "1299  IPS Panel Quad HD+ / Touchscreen 3200x1800   \n",
       "1300                                    1366x768   \n",
       "1301                                    1366x768   \n",
       "1302                                    1366x768   \n",
       "\n",
       "                                       Cpu   Ram              Memory  \\\n",
       "1298            Intel Core i7 6500U 2.5GHz   4GB           128GB SSD   \n",
       "1299            Intel Core i7 6500U 2.5GHz  16GB           512GB SSD   \n",
       "1300  Intel Celeron Dual Core N3050 1.6GHz   2GB  64GB Flash Storage   \n",
       "1301            Intel Core i7 6500U 2.5GHz   6GB             1TB HDD   \n",
       "1302  Intel Celeron Dual Core N3050 1.6GHz   4GB           500GB HDD   \n",
       "\n",
       "                        Gpu       OpSys  Weight     Price  \n",
       "1298  Intel HD Graphics 520  Windows 10   1.8kg  33992.64  \n",
       "1299  Intel HD Graphics 520  Windows 10   1.3kg  79866.72  \n",
       "1300      Intel HD Graphics  Windows 10   1.5kg  12201.12  \n",
       "1301     AMD Radeon R5 M330  Windows 10  2.19kg  40705.92  \n",
       "1302      Intel HD Graphics  Windows 10   2.2kg  19660.32  "
      ]
     },
     "execution_count": 559,
     "metadata": {},
     "output_type": "execute_result"
    }
   ],
   "source": [
    "df=pd.read_csv(r'H:\\Odin\\PYTHON\\practice_pandas\\Dataset\\laptop.csv') # read the Dataset and Create a Dataframe\n",
    "df.tail() #displaying last 5 rows of dataset\n"
   ]
  },
  {
   "cell_type": "markdown",
   "id": "a1f2fc76-d10a-42af-a299-d9bd9c843564",
   "metadata": {},
   "source": [
    "## DATA UNDERSTANDING AND EXPLORATION"
   ]
  },
  {
   "cell_type": "markdown",
   "id": "e8cc09fb-39c1-4b1a-95dd-4cd861e727c8",
   "metadata": {},
   "source": [
    "### DATA STRUCTURE "
   ]
  },
  {
   "cell_type": "code",
   "execution_count": 560,
   "id": "e1f20970-c0cc-4448-b5b8-5e2de4761485",
   "metadata": {},
   "outputs": [
    {
     "data": {
      "text/plain": [
       "(1303, 13)"
      ]
     },
     "execution_count": 560,
     "metadata": {},
     "output_type": "execute_result"
    }
   ],
   "source": [
    "df.shape # shape "
   ]
  },
  {
   "cell_type": "code",
   "execution_count": 561,
   "id": "d059ecc4-aa41-4e5e-a45a-439b03585c8c",
   "metadata": {},
   "outputs": [
    {
     "name": "stdout",
     "output_type": "stream",
     "text": [
      "<class 'pandas.core.frame.DataFrame'>\n",
      "RangeIndex: 1303 entries, 0 to 1302\n",
      "Data columns (total 13 columns):\n",
      " #   Column            Non-Null Count  Dtype  \n",
      "---  ------            --------------  -----  \n",
      " 0   Unnamed: 0.1      1303 non-null   int64  \n",
      " 1   Unnamed: 0        1273 non-null   float64\n",
      " 2   Company           1273 non-null   object \n",
      " 3   TypeName          1273 non-null   object \n",
      " 4   Inches            1273 non-null   object \n",
      " 5   ScreenResolution  1273 non-null   object \n",
      " 6   Cpu               1273 non-null   object \n",
      " 7   Ram               1273 non-null   object \n",
      " 8   Memory            1273 non-null   object \n",
      " 9   Gpu               1273 non-null   object \n",
      " 10  OpSys             1273 non-null   object \n",
      " 11  Weight            1273 non-null   object \n",
      " 12  Price             1273 non-null   float64\n",
      "dtypes: float64(2), int64(1), object(10)\n",
      "memory usage: 132.5+ KB\n"
     ]
    }
   ],
   "source": [
    "df.info() "
   ]
  },
  {
   "cell_type": "code",
   "execution_count": 562,
   "id": "bfa5d8d0-aab4-46db-a796-0b96c44b0607",
   "metadata": {},
   "outputs": [
    {
     "data": {
      "text/plain": [
       "Index(['Unnamed: 0.1', 'Unnamed: 0', 'Company', 'TypeName', 'Inches',\n",
       "       'ScreenResolution', 'Cpu', 'Ram', 'Memory', 'Gpu', 'OpSys', 'Weight',\n",
       "       'Price'],\n",
       "      dtype='object')"
      ]
     },
     "execution_count": 562,
     "metadata": {},
     "output_type": "execute_result"
    }
   ],
   "source": [
    "# exploring columns\n",
    "df.columns"
   ]
  },
  {
   "cell_type": "code",
   "execution_count": null,
   "id": "e7d630ca-3589-4e24-802d-a5d794825d58",
   "metadata": {},
   "outputs": [],
   "source": []
  },
  {
   "cell_type": "code",
   "execution_count": 563,
   "id": "77987b58-2fc2-4ba0-8c4d-0ea0063f9b3e",
   "metadata": {},
   "outputs": [
    {
     "data": {
      "text/html": [
       "<div>\n",
       "<style scoped>\n",
       "    .dataframe tbody tr th:only-of-type {\n",
       "        vertical-align: middle;\n",
       "    }\n",
       "\n",
       "    .dataframe tbody tr th {\n",
       "        vertical-align: top;\n",
       "    }\n",
       "\n",
       "    .dataframe thead th {\n",
       "        text-align: right;\n",
       "    }\n",
       "</style>\n",
       "<table border=\"1\" class=\"dataframe\">\n",
       "  <thead>\n",
       "    <tr style=\"text-align: right;\">\n",
       "      <th></th>\n",
       "      <th>Unnamed: 0.1</th>\n",
       "      <th>Unnamed: 0</th>\n",
       "      <th>Price</th>\n",
       "    </tr>\n",
       "  </thead>\n",
       "  <tbody>\n",
       "    <tr>\n",
       "      <th>count</th>\n",
       "      <td>1303.00000</td>\n",
       "      <td>1273.000000</td>\n",
       "      <td>1273.000000</td>\n",
       "    </tr>\n",
       "    <tr>\n",
       "      <th>mean</th>\n",
       "      <td>651.00000</td>\n",
       "      <td>652.674784</td>\n",
       "      <td>59955.814073</td>\n",
       "    </tr>\n",
       "    <tr>\n",
       "      <th>std</th>\n",
       "      <td>376.28801</td>\n",
       "      <td>376.493027</td>\n",
       "      <td>37332.251005</td>\n",
       "    </tr>\n",
       "    <tr>\n",
       "      <th>min</th>\n",
       "      <td>0.00000</td>\n",
       "      <td>0.000000</td>\n",
       "      <td>9270.720000</td>\n",
       "    </tr>\n",
       "    <tr>\n",
       "      <th>25%</th>\n",
       "      <td>325.50000</td>\n",
       "      <td>327.000000</td>\n",
       "      <td>31914.720000</td>\n",
       "    </tr>\n",
       "    <tr>\n",
       "      <th>50%</th>\n",
       "      <td>651.00000</td>\n",
       "      <td>652.000000</td>\n",
       "      <td>52161.120000</td>\n",
       "    </tr>\n",
       "    <tr>\n",
       "      <th>75%</th>\n",
       "      <td>976.50000</td>\n",
       "      <td>980.000000</td>\n",
       "      <td>79333.387200</td>\n",
       "    </tr>\n",
       "    <tr>\n",
       "      <th>max</th>\n",
       "      <td>1302.00000</td>\n",
       "      <td>1302.000000</td>\n",
       "      <td>324954.720000</td>\n",
       "    </tr>\n",
       "  </tbody>\n",
       "</table>\n",
       "</div>"
      ],
      "text/plain": [
       "       Unnamed: 0.1   Unnamed: 0          Price\n",
       "count    1303.00000  1273.000000    1273.000000\n",
       "mean      651.00000   652.674784   59955.814073\n",
       "std       376.28801   376.493027   37332.251005\n",
       "min         0.00000     0.000000    9270.720000\n",
       "25%       325.50000   327.000000   31914.720000\n",
       "50%       651.00000   652.000000   52161.120000\n",
       "75%       976.50000   980.000000   79333.387200\n",
       "max      1302.00000  1302.000000  324954.720000"
      ]
     },
     "execution_count": 563,
     "metadata": {},
     "output_type": "execute_result"
    }
   ],
   "source": [
    "df.describe()"
   ]
  },
  {
   "cell_type": "code",
   "execution_count": 564,
   "id": "243f0a66-8ccf-4519-af03-a8e401094341",
   "metadata": {},
   "outputs": [],
   "source": [
    "# removing unnecessary columns\n",
    "df.drop(columns=['Unnamed: 0.1','Unnamed: 0'],inplace=True)"
   ]
  },
  {
   "cell_type": "code",
   "execution_count": 565,
   "id": "1a1328aa-d534-4706-a628-2e4fc743eaee",
   "metadata": {},
   "outputs": [
    {
     "name": "stdout",
     "output_type": "stream",
     "text": [
      "Company ['Apple' 'HP' 'Acer' 'Asus' 'Dell' 'Lenovo' nan 'Chuwi' 'MSI' 'Microsoft'\n",
      " 'Toshiba' 'Huawei' 'Xiaomi' 'Vero' 'Razer' 'Mediacom' 'Samsung' 'Google'\n",
      " 'Fujitsu' 'LG']\n",
      "Company 19\n",
      "TypeName ['Ultrabook' 'Notebook' nan 'Gaming' '2 in 1 Convertible' 'Workstation'\n",
      " 'Netbook']\n",
      "TypeName 6\n",
      "Inches ['13.3' '15.6' '15.4' '14' '12' nan '17.3' '13.5' '12.5' '13' '18.4'\n",
      " '13.9' '11.6' '25.6' '35.6' '12.3' '27.3' '24' '33.5' '?' '31.6' '17'\n",
      " '15' '14.1' '11.3' '10.1']\n",
      "Inches 25\n",
      "ScreenResolution ['IPS Panel Retina Display 2560x1600' '1440x900' 'Full HD 1920x1080'\n",
      " 'IPS Panel Retina Display 2880x1800' '1366x768'\n",
      " 'IPS Panel Full HD 1920x1080' 'IPS Panel Retina Display 2304x1440'\n",
      " 'IPS Panel Full HD / Touchscreen 1920x1080' nan\n",
      " 'Full HD / Touchscreen 1920x1080' 'Touchscreen / Quad HD+ 3200x1800'\n",
      " 'Touchscreen 2256x1504' 'Quad HD+ / Touchscreen 3200x1800'\n",
      " 'IPS Panel 1366x768' 'IPS Panel 4K Ultra HD / Touchscreen 3840x2160'\n",
      " 'IPS Panel Full HD 2160x1440' '4K Ultra HD / Touchscreen 3840x2160'\n",
      " '1600x900' 'IPS Panel 4K Ultra HD 3840x2160' '4K Ultra HD 3840x2160'\n",
      " 'Touchscreen 1366x768' 'Touchscreen 2560x1440'\n",
      " 'IPS Panel Full HD 1366x768' 'IPS Panel 2560x1440'\n",
      " 'IPS Panel Full HD 2560x1440' 'IPS Panel Retina Display 2736x1824'\n",
      " 'Touchscreen 2400x1600' '2560x1440' 'IPS Panel Quad HD+ 2560x1440'\n",
      " 'IPS Panel Quad HD+ 3200x1800'\n",
      " 'IPS Panel Quad HD+ / Touchscreen 3200x1800'\n",
      " 'IPS Panel Touchscreen 1366x768' '1920x1080'\n",
      " 'IPS Panel Full HD 1920x1200'\n",
      " 'IPS Panel Touchscreen / 4K Ultra HD 3840x2160'\n",
      " 'IPS Panel Touchscreen 2560x1440' 'Touchscreen / Full HD 1920x1080'\n",
      " 'Quad HD+ 3200x1800' 'IPS Panel Touchscreen 1920x1200'\n",
      " 'Touchscreen / 4K Ultra HD 3840x2160' 'IPS Panel Touchscreen 2400x1600']\n",
      "ScreenResolution 40\n",
      "Cpu ['Intel Core i5 2.3GHz' 'Intel Core i5 1.8GHz'\n",
      " 'Intel Core i5 7200U 2.5GHz' 'Intel Core i7 2.7GHz'\n",
      " 'Intel Core i5 3.1GHz' 'AMD A9-Series 9420 3GHz' 'Intel Core i7 2.2GHz'\n",
      " 'Intel Core i7 8550U 1.8GHz' 'Intel Core i5 8250U 1.6GHz'\n",
      " 'Intel Core i3 6006U 2GHz' 'Intel Core i7 2.8GHz'\n",
      " 'Intel Core M m3 1.2GHz' 'Intel Core i7 7500U 2.7GHz'\n",
      " 'Intel Core i7 2.9GHz' 'Intel Core i3 7100U 2.4GHz' nan\n",
      " 'Intel Core i5 7300HQ 2.5GHz' 'AMD E-Series E2-9000e 1.5GHz'\n",
      " 'Intel Core i5 1.6GHz' 'Intel Core i7 8650U 1.9GHz'\n",
      " 'Intel Atom x5-Z8300 1.44GHz' 'AMD E-Series E2-6110 1.5GHz'\n",
      " 'AMD A6-Series 9220 2.5GHz' 'Intel Celeron Dual Core N3350 1.1GHz'\n",
      " 'Intel Core i3 7130U 2.7GHz' 'Intel Core i7 7700HQ 2.8GHz'\n",
      " 'Intel Core i5 2.0GHz' 'AMD Ryzen 1700 3GHz'\n",
      " 'Intel Pentium Quad Core N4200 1.1GHz'\n",
      " 'Intel Celeron Dual Core N3060 1.6GHz' 'Intel Core i5 1.3GHz'\n",
      " 'AMD FX 9830P 3GHz' 'Intel Core i7 7560U 2.4GHz'\n",
      " 'AMD E-Series 6110 1.5GHz' 'Intel Core i5 6200U 2.3GHz'\n",
      " 'Intel Core M 6Y75 1.2GHz' 'Intel Core i5 7500U 2.7GHz'\n",
      " 'Intel Core i3 6006U 2.2GHz' 'AMD A6-Series 9220 2.9GHz'\n",
      " 'Intel Core i7 6920HQ 2.9GHz' 'Intel Core i5 7Y54 1.2GHz'\n",
      " 'Intel Core i7 7820HK 2.9GHz' 'Intel Xeon E3-1505M V6 3GHz'\n",
      " 'Intel Core i7 6500U 2.5GHz' 'AMD E-Series 9000e 1.5GHz'\n",
      " 'AMD A10-Series A10-9620P 2.5GHz' 'AMD A6-Series A6-9220 2.5GHz'\n",
      " 'Intel Core i5 2.9GHz' 'Intel Core i7 6600U 2.6GHz'\n",
      " 'Intel Core i3 6006U 2.0GHz' 'Intel Celeron Dual Core 3205U 1.5GHz'\n",
      " 'Intel Core i7 7820HQ 2.9GHz' 'AMD A10-Series 9600P 2.4GHz'\n",
      " 'Intel Core i7 7600U 2.8GHz' 'AMD A8-Series 7410 2.2GHz'\n",
      " 'Intel Celeron Dual Core 3855U 1.6GHz'\n",
      " 'Intel Pentium Quad Core N3710 1.6GHz' 'AMD A12-Series 9720P 2.7GHz'\n",
      " 'Intel Core i5 7300U 2.6GHz' 'AMD A12-Series 9720P 3.6GHz'\n",
      " 'Intel Celeron Quad Core N3450 1.1GHz'\n",
      " 'Intel Celeron Dual Core N3060 1.60GHz' 'Intel Core i5 6440HQ 2.6GHz'\n",
      " 'Intel Core i7 6820HQ 2.7GHz' 'AMD Ryzen 1600 3.2GHz'\n",
      " 'Intel Core i7 7Y75 1.3GHz' 'Intel Core i5 7440HQ 2.8GHz'\n",
      " 'Intel Core i7 7660U 2.5GHz' 'Intel Core i7 7700HQ 2.7GHz'\n",
      " 'Intel Core M m3-7Y30 2.2GHz' 'Intel Core i5 7Y57 1.2GHz'\n",
      " 'Intel Core i7 6700HQ 2.6GHz' 'Intel Core i3 6100U 2.3GHz'\n",
      " 'Intel Atom x5-Z8350 1.44GHz' 'AMD A10-Series 9620P 2.5GHz'\n",
      " 'AMD E-Series 7110 1.8GHz' 'Intel Celeron Dual Core N3350 2.0GHz'\n",
      " 'AMD A9-Series A9-9420 3GHz' 'Intel Core i7 6820HK 2.7GHz'\n",
      " 'Intel Core M 7Y30 1.0GHz' 'Intel Xeon E3-1535M v6 3.1GHz'\n",
      " 'Intel Celeron Quad Core N3160 1.6GHz' 'Intel Core i5 6300U 2.4GHz'\n",
      " 'Intel Core i3 6100U 2.1GHz' 'AMD E-Series E2-9000 2.2GHz'\n",
      " 'Intel Celeron Dual Core N3050 1.6GHz' 'Intel Core M M3-6Y30 0.9GHz'\n",
      " 'AMD A9-Series 9420 2.9GHz' 'Intel Core i5 6300HQ 2.3GHz'\n",
      " 'AMD A6-Series 7310 2GHz' 'Intel Atom Z8350 1.92GHz'\n",
      " 'Intel Xeon E3-1535M v5 2.9GHz' 'Intel Core i5 6260U 1.8GHz'\n",
      " 'Intel Pentium Dual Core N4200 1.1GHz'\n",
      " 'Intel Celeron Quad Core N3710 1.6GHz' 'Intel Core M 1.2GHz'\n",
      " 'AMD A12-Series 9700P 2.5GHz' 'Intel Core i7 7500U 2.5GHz'\n",
      " 'Intel Pentium Dual Core 4405U 2.1GHz' 'AMD A4-Series 7210 2.2GHz'\n",
      " 'Intel Core i7 6560U 2.2GHz' 'Intel Core M m7-6Y75 1.2GHz'\n",
      " 'AMD FX 8800P 2.1GHz' 'Intel Core M M7-6Y75 1.2GHz'\n",
      " 'Intel Core i5 7200U 2.50GHz' 'Intel Core i5 7200U 2.70GHz'\n",
      " 'Intel Atom X5-Z8350 1.44GHz' 'Intel Core i5 7200U 2.7GHz'\n",
      " 'Intel Core M 1.1GHz' 'Intel Atom x5-Z8550 1.44GHz'\n",
      " 'Intel Pentium Dual Core 4405Y 1.5GHz'\n",
      " 'Intel Pentium Quad Core N3700 1.6GHz' 'Intel Core M 6Y54 1.1GHz'\n",
      " 'Intel Core i7 6500U 2.50GHz' 'Intel Celeron Dual Core N3350 2GHz'\n",
      " 'Samsung Cortex A72&A53 2.0GHz' 'AMD E-Series 9000 2.2GHz'\n",
      " 'Intel Core M 6Y30 0.9GHz' 'AMD A9-Series 9410 2.9GHz']\n",
      "Cpu 118\n",
      "Ram ['8GB' '16GB' '4GB' nan '2GB' '12GB' '64GB' '6GB' '32GB' '24GB' '1GB']\n",
      "Ram 10\n",
      "Memory ['128GB SSD' '128GB Flash Storage' '256GB SSD' '512GB SSD' '500GB HDD'\n",
      " '256GB Flash Storage' '1TB HDD' nan '128GB SSD +  1TB HDD'\n",
      " '256GB SSD +  256GB SSD' '64GB Flash Storage' '32GB Flash Storage'\n",
      " '256GB SSD +  1TB HDD' '256GB SSD +  2TB HDD' '32GB SSD' '2TB HDD'\n",
      " '64GB SSD' '1.0TB Hybrid' '512GB SSD +  1TB HDD' '1TB SSD'\n",
      " '256GB SSD +  500GB HDD' '128GB SSD +  2TB HDD' '512GB SSD +  512GB SSD'\n",
      " '16GB SSD' '16GB Flash Storage' '512GB SSD +  256GB SSD'\n",
      " '512GB SSD +  2TB HDD' '64GB Flash Storage +  1TB HDD' '180GB SSD'\n",
      " '1TB HDD +  1TB HDD' '32GB HDD' '1TB SSD +  1TB HDD' '?'\n",
      " '512GB Flash Storage' '128GB HDD' '240GB SSD' '8GB SSD' '508GB Hybrid'\n",
      " '1.0TB HDD' '512GB SSD +  1.0TB Hybrid' '256GB SSD +  1.0TB Hybrid']\n",
      "Memory 40\n",
      "Gpu ['Intel Iris Plus Graphics 640' 'Intel HD Graphics 6000'\n",
      " 'Intel HD Graphics 620' 'AMD Radeon Pro 455'\n",
      " 'Intel Iris Plus Graphics 650' 'AMD Radeon R5' 'Intel Iris Pro Graphics'\n",
      " 'Nvidia GeForce MX150' 'Intel UHD Graphics 620' 'Intel HD Graphics 520'\n",
      " 'AMD Radeon Pro 555' 'AMD Radeon R5 M430' 'Intel HD Graphics 615'\n",
      " 'AMD Radeon Pro 560' 'Nvidia GeForce 940MX' nan 'Nvidia GeForce GTX 1050'\n",
      " 'AMD Radeon R2' 'AMD Radeon 530' 'Nvidia GeForce 930MX'\n",
      " 'Intel HD Graphics' 'Intel HD Graphics 500' 'Nvidia GeForce 930MX '\n",
      " 'Nvidia GeForce GTX 1060' 'Nvidia GeForce 150MX'\n",
      " 'Intel Iris Graphics 540' 'AMD Radeon RX 580' 'Nvidia GeForce 920MX'\n",
      " 'AMD Radeon R4 Graphics' 'AMD Radeon 520' 'Nvidia GeForce GTX 1070'\n",
      " 'Nvidia GeForce GTX 1050 Ti' 'Intel HD Graphics 400'\n",
      " 'Nvidia GeForce MX130' 'AMD R4 Graphics' 'Nvidia GeForce GTX 940MX'\n",
      " 'AMD Radeon RX 560' 'Nvidia GeForce 920M' 'AMD Radeon R7 M445'\n",
      " 'AMD Radeon RX 550' 'Nvidia GeForce GTX 1050M' 'Intel HD Graphics 515'\n",
      " 'AMD Radeon R5 M420' 'Intel HD Graphics 505' 'Nvidia GTX 980 SLI'\n",
      " 'AMD R17M-M1-70' 'Nvidia GeForce GTX 1080' 'Nvidia Quadro M1200'\n",
      " 'Nvidia GeForce 920MX ' 'Nvidia GeForce GTX 950M' 'AMD FirePro W4190M '\n",
      " 'Nvidia GeForce GTX 980M' 'Intel Iris Graphics 550' 'Nvidia GeForce 930M'\n",
      " 'Intel HD Graphics 630' 'AMD Radeon R5 430' 'Nvidia GeForce GTX 940M'\n",
      " 'Intel HD Graphics 510' 'Intel HD Graphics 405' 'AMD Radeon RX 540'\n",
      " 'Nvidia GeForce GT 940MX' 'AMD FirePro W5130M' 'Nvidia Quadro M2200M'\n",
      " 'AMD Radeon R4' 'Nvidia Quadro M620' 'AMD Radeon R7 M460'\n",
      " 'Intel HD Graphics 530' 'Nvidia GeForce GTX 965M'\n",
      " 'Nvidia GeForce GTX1080' 'Nvidia GeForce GTX1050 Ti'\n",
      " 'Nvidia GeForce GTX 960M' 'AMD Radeon R2 Graphics' 'Nvidia Quadro M620M'\n",
      " 'Nvidia GeForce GTX 970M' 'Nvidia GeForce GTX 960<U+039C>'\n",
      " 'Intel Graphics 620' 'Nvidia GeForce GTX 960' 'AMD Radeon R5 520'\n",
      " 'AMD Radeon R7 M440' 'AMD Radeon R7' 'Nvidia Quadro M520M'\n",
      " 'Nvidia Quadro M2200' 'Nvidia Quadro M2000M' 'Intel HD Graphics 540'\n",
      " 'Nvidia Quadro M1000M' 'AMD Radeon 540' 'Nvidia GeForce GTX 1070M'\n",
      " 'Nvidia GeForce GTX1060' 'Intel HD Graphics 5300' 'AMD Radeon R5 M420X'\n",
      " 'AMD Radeon R7 Graphics' 'Nvidia GeForce 920' 'Nvidia GeForce 940M'\n",
      " 'Nvidia GeForce GTX 930MX' 'AMD Radeon R7 M465' 'AMD Radeon R3'\n",
      " 'Nvidia GeForce GTX 1050Ti' 'AMD Radeon R7 M365X' 'AMD Radeon R9 M385'\n",
      " 'Intel HD Graphics 620 ' 'Nvidia Quadro 3000M' 'Nvidia GeForce GTX 980 '\n",
      " 'AMD Radeon R5 M330' 'AMD FirePro W4190M' 'AMD FirePro W6150M'\n",
      " 'AMD Radeon R5 M315' 'Nvidia Quadro M500M' 'AMD Radeon R7 M360'\n",
      " 'Nvidia Quadro M3000M' 'Nvidia GeForce 960M' 'ARM Mali T860 MP4']\n",
      "Gpu 110\n",
      "OpSys ['macOS' 'No OS' 'Windows 10' 'Mac OS X' nan 'Linux' 'Windows 10 S'\n",
      " 'Chrome OS' 'Windows 7' 'Android']\n",
      "OpSys 9\n",
      "Weight ['1.37kg' '1.34kg' '1.86kg' '1.83kg' '2.1kg' '2.04kg' '1.3kg' '1.6kg'\n",
      " '2.2kg' '0.92kg' '1.22kg' nan '2.5kg' '1.62kg' '1.91kg' '2.3kg' '1.35kg'\n",
      " '1.88kg' '1.89kg' '1.65kg' '2.71kg' '1.2kg' '1.44kg' '2.8kg' '2kg'\n",
      " '2.65kg' '2.77kg' '3.2kg' '1.49kg' '2.4kg' '2.13kg' '2.43kg' '1.7kg'\n",
      " '1.4kg' '1.8kg' '1.9kg' '3kg' '1.252kg' '2.7kg' '2.02kg' '1.63kg'\n",
      " '1.96kg' '1.21kg' '2.45kg' '1.25kg' '1.5kg' '2.62kg' '1.38kg' '1.58kg'\n",
      " '1.85kg' '1.23kg' '2.16kg' '2.36kg' '7.2kg' '2.05kg' '1.32kg' '1.75kg'\n",
      " '0.97kg' '2.56kg' '1.48kg' '1.74kg' '1.1kg' '1.56kg' '2.03kg' '1.05kg'\n",
      " '5.4kg' '4.4kg' '1.90kg' '1.29kg' '2.0kg' '1.95kg' '2.06kg' '1.12kg'\n",
      " '3.49kg' '3.35kg' '2.23kg' '?' '2.9kg' '4.42kg' '2.69kg' '2.37kg' '4.7kg'\n",
      " '3.6kg' '2.08kg' '4.3kg' '1.68kg' '1.41kg' '4.14kg' '2.18kg' '2.24kg'\n",
      " '2.67kg' '4.1kg' '2.14kg' '1.36kg' '2.25kg' '2.15kg' '2.19kg' '2.54kg'\n",
      " '3.42kg' '5.8kg' '1.28kg' '2.33kg' '1.45kg' '2.79kg' '8.23kg' '1.26kg'\n",
      " '1.84kg' '0.0002kg' '2.6kg' '2.26kg' '3.25kg' '1.59kg' '1.13kg' '1.42kg'\n",
      " '1.78kg' '1.10kg' '1.15kg' '1.27kg' '1.43kg' '2.31kg' '1.16kg' '1.64kg'\n",
      " '2.17kg' '1.47kg' '3.78kg' '1.79kg' '0.91kg' '1.99kg' '4.33kg' '1.93kg'\n",
      " '1.87kg' '2.63kg' '3.4kg' '3.14kg' '1.94kg' '1.24kg' '4.6kg' '4.5kg'\n",
      " '8.4kg' '2.73kg' '1.39kg' '2.29kg' '2.59kg' '2.94kg' '11.1kg' '1.14kg'\n",
      " '3.8kg' '6.2kg' '3.31kg' '1.09kg' '3.21kg' '1.19kg' '1.98kg' '1.17kg'\n",
      " '4.36kg' '1.71kg' '2.32kg' '4.2kg' '1.55kg' '0.81kg' '1.18kg' '2.72kg'\n",
      " '1.31kg' '0.920kg' '3.74kg' '1.76kg' '1.54kg' '2.83kg' '2.07kg' '2.38kg'\n",
      " '3.58kg' '1.08kg' '2.20kg' '0.98kg' '2.75kg' '1.70kg' '2.99kg' '1.11kg'\n",
      " '2.09kg' '4kg' '3.0kg' '0.99kg' '0.69kg' '3.52kg' '2.591kg' '2.21kg'\n",
      " '3.3kg' '2.191kg' '2.34kg' '4.0kg']\n",
      "Weight 189\n"
     ]
    }
   ],
   "source": [
    "# unique values for each cat feature\n",
    "cat=df.select_dtypes(include='object')\n",
    "for i in cat:\n",
    "    print(i , df[i].unique())\n",
    "    print(i,df[i].nunique())"
   ]
  },
  {
   "cell_type": "code",
   "execution_count": 566,
   "id": "ef1bcc9b-fe27-4ce4-b7f6-9e9a6c728f17",
   "metadata": {},
   "outputs": [
    {
     "data": {
      "text/plain": [
       "Company             30\n",
       "TypeName            30\n",
       "Inches              30\n",
       "ScreenResolution    30\n",
       "Cpu                 30\n",
       "Ram                 30\n",
       "Memory              30\n",
       "Gpu                 30\n",
       "OpSys               30\n",
       "Weight              30\n",
       "Price               30\n",
       "dtype: int64"
      ]
     },
     "execution_count": 566,
     "metadata": {},
     "output_type": "execute_result"
    }
   ],
   "source": [
    "# checking for missing values\n",
    "df.isna().sum()"
   ]
  },
  {
   "cell_type": "markdown",
   "id": "81b901fe-fc86-4558-adca-754d240bd3c7",
   "metadata": {},
   "source": [
    "## Data Preprocessing"
   ]
  },
  {
   "cell_type": "markdown",
   "id": "8766869d-cee4-46f9-86d8-f6118c2fb59e",
   "metadata": {},
   "source": [
    "### Handling Missing values in dataset\n"
   ]
  },
  {
   "cell_type": "code",
   "execution_count": 567,
   "id": "e2a53971-bc9b-4532-975f-d5013d32baf3",
   "metadata": {
    "scrolled": true
   },
   "outputs": [
    {
     "data": {
      "text/html": [
       "<div>\n",
       "<style scoped>\n",
       "    .dataframe tbody tr th:only-of-type {\n",
       "        vertical-align: middle;\n",
       "    }\n",
       "\n",
       "    .dataframe tbody tr th {\n",
       "        vertical-align: top;\n",
       "    }\n",
       "\n",
       "    .dataframe thead th {\n",
       "        text-align: right;\n",
       "    }\n",
       "</style>\n",
       "<table border=\"1\" class=\"dataframe\">\n",
       "  <thead>\n",
       "    <tr style=\"text-align: right;\">\n",
       "      <th></th>\n",
       "      <th>Company</th>\n",
       "      <th>TypeName</th>\n",
       "      <th>Inches</th>\n",
       "      <th>ScreenResolution</th>\n",
       "      <th>Cpu</th>\n",
       "      <th>Ram</th>\n",
       "      <th>Memory</th>\n",
       "      <th>Gpu</th>\n",
       "      <th>OpSys</th>\n",
       "      <th>Weight</th>\n",
       "      <th>Price</th>\n",
       "    </tr>\n",
       "  </thead>\n",
       "  <tbody>\n",
       "    <tr>\n",
       "      <th>20</th>\n",
       "      <td>NaN</td>\n",
       "      <td>NaN</td>\n",
       "      <td>NaN</td>\n",
       "      <td>NaN</td>\n",
       "      <td>NaN</td>\n",
       "      <td>NaN</td>\n",
       "      <td>NaN</td>\n",
       "      <td>NaN</td>\n",
       "      <td>NaN</td>\n",
       "      <td>NaN</td>\n",
       "      <td>NaN</td>\n",
       "    </tr>\n",
       "    <tr>\n",
       "      <th>46</th>\n",
       "      <td>NaN</td>\n",
       "      <td>NaN</td>\n",
       "      <td>NaN</td>\n",
       "      <td>NaN</td>\n",
       "      <td>NaN</td>\n",
       "      <td>NaN</td>\n",
       "      <td>NaN</td>\n",
       "      <td>NaN</td>\n",
       "      <td>NaN</td>\n",
       "      <td>NaN</td>\n",
       "      <td>NaN</td>\n",
       "    </tr>\n",
       "    <tr>\n",
       "      <th>50</th>\n",
       "      <td>NaN</td>\n",
       "      <td>NaN</td>\n",
       "      <td>NaN</td>\n",
       "      <td>NaN</td>\n",
       "      <td>NaN</td>\n",
       "      <td>NaN</td>\n",
       "      <td>NaN</td>\n",
       "      <td>NaN</td>\n",
       "      <td>NaN</td>\n",
       "      <td>NaN</td>\n",
       "      <td>NaN</td>\n",
       "    </tr>\n",
       "    <tr>\n",
       "      <th>115</th>\n",
       "      <td>NaN</td>\n",
       "      <td>NaN</td>\n",
       "      <td>NaN</td>\n",
       "      <td>NaN</td>\n",
       "      <td>NaN</td>\n",
       "      <td>NaN</td>\n",
       "      <td>NaN</td>\n",
       "      <td>NaN</td>\n",
       "      <td>NaN</td>\n",
       "      <td>NaN</td>\n",
       "      <td>NaN</td>\n",
       "    </tr>\n",
       "    <tr>\n",
       "      <th>125</th>\n",
       "      <td>NaN</td>\n",
       "      <td>NaN</td>\n",
       "      <td>NaN</td>\n",
       "      <td>NaN</td>\n",
       "      <td>NaN</td>\n",
       "      <td>NaN</td>\n",
       "      <td>NaN</td>\n",
       "      <td>NaN</td>\n",
       "      <td>NaN</td>\n",
       "      <td>NaN</td>\n",
       "      <td>NaN</td>\n",
       "    </tr>\n",
       "    <tr>\n",
       "      <th>148</th>\n",
       "      <td>NaN</td>\n",
       "      <td>NaN</td>\n",
       "      <td>NaN</td>\n",
       "      <td>NaN</td>\n",
       "      <td>NaN</td>\n",
       "      <td>NaN</td>\n",
       "      <td>NaN</td>\n",
       "      <td>NaN</td>\n",
       "      <td>NaN</td>\n",
       "      <td>NaN</td>\n",
       "      <td>NaN</td>\n",
       "    </tr>\n",
       "    <tr>\n",
       "      <th>190</th>\n",
       "      <td>NaN</td>\n",
       "      <td>NaN</td>\n",
       "      <td>NaN</td>\n",
       "      <td>NaN</td>\n",
       "      <td>NaN</td>\n",
       "      <td>NaN</td>\n",
       "      <td>NaN</td>\n",
       "      <td>NaN</td>\n",
       "      <td>NaN</td>\n",
       "      <td>NaN</td>\n",
       "      <td>NaN</td>\n",
       "    </tr>\n",
       "    <tr>\n",
       "      <th>209</th>\n",
       "      <td>NaN</td>\n",
       "      <td>NaN</td>\n",
       "      <td>NaN</td>\n",
       "      <td>NaN</td>\n",
       "      <td>NaN</td>\n",
       "      <td>NaN</td>\n",
       "      <td>NaN</td>\n",
       "      <td>NaN</td>\n",
       "      <td>NaN</td>\n",
       "      <td>NaN</td>\n",
       "      <td>NaN</td>\n",
       "    </tr>\n",
       "    <tr>\n",
       "      <th>267</th>\n",
       "      <td>NaN</td>\n",
       "      <td>NaN</td>\n",
       "      <td>NaN</td>\n",
       "      <td>NaN</td>\n",
       "      <td>NaN</td>\n",
       "      <td>NaN</td>\n",
       "      <td>NaN</td>\n",
       "      <td>NaN</td>\n",
       "      <td>NaN</td>\n",
       "      <td>NaN</td>\n",
       "      <td>NaN</td>\n",
       "    </tr>\n",
       "    <tr>\n",
       "      <th>336</th>\n",
       "      <td>NaN</td>\n",
       "      <td>NaN</td>\n",
       "      <td>NaN</td>\n",
       "      <td>NaN</td>\n",
       "      <td>NaN</td>\n",
       "      <td>NaN</td>\n",
       "      <td>NaN</td>\n",
       "      <td>NaN</td>\n",
       "      <td>NaN</td>\n",
       "      <td>NaN</td>\n",
       "      <td>NaN</td>\n",
       "    </tr>\n",
       "    <tr>\n",
       "      <th>350</th>\n",
       "      <td>NaN</td>\n",
       "      <td>NaN</td>\n",
       "      <td>NaN</td>\n",
       "      <td>NaN</td>\n",
       "      <td>NaN</td>\n",
       "      <td>NaN</td>\n",
       "      <td>NaN</td>\n",
       "      <td>NaN</td>\n",
       "      <td>NaN</td>\n",
       "      <td>NaN</td>\n",
       "      <td>NaN</td>\n",
       "    </tr>\n",
       "    <tr>\n",
       "      <th>478</th>\n",
       "      <td>NaN</td>\n",
       "      <td>NaN</td>\n",
       "      <td>NaN</td>\n",
       "      <td>NaN</td>\n",
       "      <td>NaN</td>\n",
       "      <td>NaN</td>\n",
       "      <td>NaN</td>\n",
       "      <td>NaN</td>\n",
       "      <td>NaN</td>\n",
       "      <td>NaN</td>\n",
       "      <td>NaN</td>\n",
       "    </tr>\n",
       "    <tr>\n",
       "      <th>567</th>\n",
       "      <td>NaN</td>\n",
       "      <td>NaN</td>\n",
       "      <td>NaN</td>\n",
       "      <td>NaN</td>\n",
       "      <td>NaN</td>\n",
       "      <td>NaN</td>\n",
       "      <td>NaN</td>\n",
       "      <td>NaN</td>\n",
       "      <td>NaN</td>\n",
       "      <td>NaN</td>\n",
       "      <td>NaN</td>\n",
       "    </tr>\n",
       "    <tr>\n",
       "      <th>616</th>\n",
       "      <td>NaN</td>\n",
       "      <td>NaN</td>\n",
       "      <td>NaN</td>\n",
       "      <td>NaN</td>\n",
       "      <td>NaN</td>\n",
       "      <td>NaN</td>\n",
       "      <td>NaN</td>\n",
       "      <td>NaN</td>\n",
       "      <td>NaN</td>\n",
       "      <td>NaN</td>\n",
       "      <td>NaN</td>\n",
       "    </tr>\n",
       "    <tr>\n",
       "      <th>625</th>\n",
       "      <td>NaN</td>\n",
       "      <td>NaN</td>\n",
       "      <td>NaN</td>\n",
       "      <td>NaN</td>\n",
       "      <td>NaN</td>\n",
       "      <td>NaN</td>\n",
       "      <td>NaN</td>\n",
       "      <td>NaN</td>\n",
       "      <td>NaN</td>\n",
       "      <td>NaN</td>\n",
       "      <td>NaN</td>\n",
       "    </tr>\n",
       "    <tr>\n",
       "      <th>629</th>\n",
       "      <td>NaN</td>\n",
       "      <td>NaN</td>\n",
       "      <td>NaN</td>\n",
       "      <td>NaN</td>\n",
       "      <td>NaN</td>\n",
       "      <td>NaN</td>\n",
       "      <td>NaN</td>\n",
       "      <td>NaN</td>\n",
       "      <td>NaN</td>\n",
       "      <td>NaN</td>\n",
       "      <td>NaN</td>\n",
       "    </tr>\n",
       "    <tr>\n",
       "      <th>666</th>\n",
       "      <td>NaN</td>\n",
       "      <td>NaN</td>\n",
       "      <td>NaN</td>\n",
       "      <td>NaN</td>\n",
       "      <td>NaN</td>\n",
       "      <td>NaN</td>\n",
       "      <td>NaN</td>\n",
       "      <td>NaN</td>\n",
       "      <td>NaN</td>\n",
       "      <td>NaN</td>\n",
       "      <td>NaN</td>\n",
       "    </tr>\n",
       "    <tr>\n",
       "      <th>699</th>\n",
       "      <td>NaN</td>\n",
       "      <td>NaN</td>\n",
       "      <td>NaN</td>\n",
       "      <td>NaN</td>\n",
       "      <td>NaN</td>\n",
       "      <td>NaN</td>\n",
       "      <td>NaN</td>\n",
       "      <td>NaN</td>\n",
       "      <td>NaN</td>\n",
       "      <td>NaN</td>\n",
       "      <td>NaN</td>\n",
       "    </tr>\n",
       "    <tr>\n",
       "      <th>726</th>\n",
       "      <td>NaN</td>\n",
       "      <td>NaN</td>\n",
       "      <td>NaN</td>\n",
       "      <td>NaN</td>\n",
       "      <td>NaN</td>\n",
       "      <td>NaN</td>\n",
       "      <td>NaN</td>\n",
       "      <td>NaN</td>\n",
       "      <td>NaN</td>\n",
       "      <td>NaN</td>\n",
       "      <td>NaN</td>\n",
       "    </tr>\n",
       "    <tr>\n",
       "      <th>747</th>\n",
       "      <td>NaN</td>\n",
       "      <td>NaN</td>\n",
       "      <td>NaN</td>\n",
       "      <td>NaN</td>\n",
       "      <td>NaN</td>\n",
       "      <td>NaN</td>\n",
       "      <td>NaN</td>\n",
       "      <td>NaN</td>\n",
       "      <td>NaN</td>\n",
       "      <td>NaN</td>\n",
       "      <td>NaN</td>\n",
       "    </tr>\n",
       "    <tr>\n",
       "      <th>753</th>\n",
       "      <td>NaN</td>\n",
       "      <td>NaN</td>\n",
       "      <td>NaN</td>\n",
       "      <td>NaN</td>\n",
       "      <td>NaN</td>\n",
       "      <td>NaN</td>\n",
       "      <td>NaN</td>\n",
       "      <td>NaN</td>\n",
       "      <td>NaN</td>\n",
       "      <td>NaN</td>\n",
       "      <td>NaN</td>\n",
       "    </tr>\n",
       "    <tr>\n",
       "      <th>774</th>\n",
       "      <td>NaN</td>\n",
       "      <td>NaN</td>\n",
       "      <td>NaN</td>\n",
       "      <td>NaN</td>\n",
       "      <td>NaN</td>\n",
       "      <td>NaN</td>\n",
       "      <td>NaN</td>\n",
       "      <td>NaN</td>\n",
       "      <td>NaN</td>\n",
       "      <td>NaN</td>\n",
       "      <td>NaN</td>\n",
       "    </tr>\n",
       "    <tr>\n",
       "      <th>922</th>\n",
       "      <td>NaN</td>\n",
       "      <td>NaN</td>\n",
       "      <td>NaN</td>\n",
       "      <td>NaN</td>\n",
       "      <td>NaN</td>\n",
       "      <td>NaN</td>\n",
       "      <td>NaN</td>\n",
       "      <td>NaN</td>\n",
       "      <td>NaN</td>\n",
       "      <td>NaN</td>\n",
       "      <td>NaN</td>\n",
       "    </tr>\n",
       "    <tr>\n",
       "      <th>923</th>\n",
       "      <td>NaN</td>\n",
       "      <td>NaN</td>\n",
       "      <td>NaN</td>\n",
       "      <td>NaN</td>\n",
       "      <td>NaN</td>\n",
       "      <td>NaN</td>\n",
       "      <td>NaN</td>\n",
       "      <td>NaN</td>\n",
       "      <td>NaN</td>\n",
       "      <td>NaN</td>\n",
       "      <td>NaN</td>\n",
       "    </tr>\n",
       "    <tr>\n",
       "      <th>938</th>\n",
       "      <td>NaN</td>\n",
       "      <td>NaN</td>\n",
       "      <td>NaN</td>\n",
       "      <td>NaN</td>\n",
       "      <td>NaN</td>\n",
       "      <td>NaN</td>\n",
       "      <td>NaN</td>\n",
       "      <td>NaN</td>\n",
       "      <td>NaN</td>\n",
       "      <td>NaN</td>\n",
       "      <td>NaN</td>\n",
       "    </tr>\n",
       "    <tr>\n",
       "      <th>978</th>\n",
       "      <td>NaN</td>\n",
       "      <td>NaN</td>\n",
       "      <td>NaN</td>\n",
       "      <td>NaN</td>\n",
       "      <td>NaN</td>\n",
       "      <td>NaN</td>\n",
       "      <td>NaN</td>\n",
       "      <td>NaN</td>\n",
       "      <td>NaN</td>\n",
       "      <td>NaN</td>\n",
       "      <td>NaN</td>\n",
       "    </tr>\n",
       "    <tr>\n",
       "      <th>994</th>\n",
       "      <td>NaN</td>\n",
       "      <td>NaN</td>\n",
       "      <td>NaN</td>\n",
       "      <td>NaN</td>\n",
       "      <td>NaN</td>\n",
       "      <td>NaN</td>\n",
       "      <td>NaN</td>\n",
       "      <td>NaN</td>\n",
       "      <td>NaN</td>\n",
       "      <td>NaN</td>\n",
       "      <td>NaN</td>\n",
       "    </tr>\n",
       "    <tr>\n",
       "      <th>1060</th>\n",
       "      <td>NaN</td>\n",
       "      <td>NaN</td>\n",
       "      <td>NaN</td>\n",
       "      <td>NaN</td>\n",
       "      <td>NaN</td>\n",
       "      <td>NaN</td>\n",
       "      <td>NaN</td>\n",
       "      <td>NaN</td>\n",
       "      <td>NaN</td>\n",
       "      <td>NaN</td>\n",
       "      <td>NaN</td>\n",
       "    </tr>\n",
       "    <tr>\n",
       "      <th>1202</th>\n",
       "      <td>NaN</td>\n",
       "      <td>NaN</td>\n",
       "      <td>NaN</td>\n",
       "      <td>NaN</td>\n",
       "      <td>NaN</td>\n",
       "      <td>NaN</td>\n",
       "      <td>NaN</td>\n",
       "      <td>NaN</td>\n",
       "      <td>NaN</td>\n",
       "      <td>NaN</td>\n",
       "      <td>NaN</td>\n",
       "    </tr>\n",
       "    <tr>\n",
       "      <th>1245</th>\n",
       "      <td>NaN</td>\n",
       "      <td>NaN</td>\n",
       "      <td>NaN</td>\n",
       "      <td>NaN</td>\n",
       "      <td>NaN</td>\n",
       "      <td>NaN</td>\n",
       "      <td>NaN</td>\n",
       "      <td>NaN</td>\n",
       "      <td>NaN</td>\n",
       "      <td>NaN</td>\n",
       "      <td>NaN</td>\n",
       "    </tr>\n",
       "  </tbody>\n",
       "</table>\n",
       "</div>"
      ],
      "text/plain": [
       "     Company TypeName Inches ScreenResolution  Cpu  Ram Memory  Gpu OpSys  \\\n",
       "20       NaN      NaN    NaN              NaN  NaN  NaN    NaN  NaN   NaN   \n",
       "46       NaN      NaN    NaN              NaN  NaN  NaN    NaN  NaN   NaN   \n",
       "50       NaN      NaN    NaN              NaN  NaN  NaN    NaN  NaN   NaN   \n",
       "115      NaN      NaN    NaN              NaN  NaN  NaN    NaN  NaN   NaN   \n",
       "125      NaN      NaN    NaN              NaN  NaN  NaN    NaN  NaN   NaN   \n",
       "148      NaN      NaN    NaN              NaN  NaN  NaN    NaN  NaN   NaN   \n",
       "190      NaN      NaN    NaN              NaN  NaN  NaN    NaN  NaN   NaN   \n",
       "209      NaN      NaN    NaN              NaN  NaN  NaN    NaN  NaN   NaN   \n",
       "267      NaN      NaN    NaN              NaN  NaN  NaN    NaN  NaN   NaN   \n",
       "336      NaN      NaN    NaN              NaN  NaN  NaN    NaN  NaN   NaN   \n",
       "350      NaN      NaN    NaN              NaN  NaN  NaN    NaN  NaN   NaN   \n",
       "478      NaN      NaN    NaN              NaN  NaN  NaN    NaN  NaN   NaN   \n",
       "567      NaN      NaN    NaN              NaN  NaN  NaN    NaN  NaN   NaN   \n",
       "616      NaN      NaN    NaN              NaN  NaN  NaN    NaN  NaN   NaN   \n",
       "625      NaN      NaN    NaN              NaN  NaN  NaN    NaN  NaN   NaN   \n",
       "629      NaN      NaN    NaN              NaN  NaN  NaN    NaN  NaN   NaN   \n",
       "666      NaN      NaN    NaN              NaN  NaN  NaN    NaN  NaN   NaN   \n",
       "699      NaN      NaN    NaN              NaN  NaN  NaN    NaN  NaN   NaN   \n",
       "726      NaN      NaN    NaN              NaN  NaN  NaN    NaN  NaN   NaN   \n",
       "747      NaN      NaN    NaN              NaN  NaN  NaN    NaN  NaN   NaN   \n",
       "753      NaN      NaN    NaN              NaN  NaN  NaN    NaN  NaN   NaN   \n",
       "774      NaN      NaN    NaN              NaN  NaN  NaN    NaN  NaN   NaN   \n",
       "922      NaN      NaN    NaN              NaN  NaN  NaN    NaN  NaN   NaN   \n",
       "923      NaN      NaN    NaN              NaN  NaN  NaN    NaN  NaN   NaN   \n",
       "938      NaN      NaN    NaN              NaN  NaN  NaN    NaN  NaN   NaN   \n",
       "978      NaN      NaN    NaN              NaN  NaN  NaN    NaN  NaN   NaN   \n",
       "994      NaN      NaN    NaN              NaN  NaN  NaN    NaN  NaN   NaN   \n",
       "1060     NaN      NaN    NaN              NaN  NaN  NaN    NaN  NaN   NaN   \n",
       "1202     NaN      NaN    NaN              NaN  NaN  NaN    NaN  NaN   NaN   \n",
       "1245     NaN      NaN    NaN              NaN  NaN  NaN    NaN  NaN   NaN   \n",
       "\n",
       "     Weight  Price  \n",
       "20      NaN    NaN  \n",
       "46      NaN    NaN  \n",
       "50      NaN    NaN  \n",
       "115     NaN    NaN  \n",
       "125     NaN    NaN  \n",
       "148     NaN    NaN  \n",
       "190     NaN    NaN  \n",
       "209     NaN    NaN  \n",
       "267     NaN    NaN  \n",
       "336     NaN    NaN  \n",
       "350     NaN    NaN  \n",
       "478     NaN    NaN  \n",
       "567     NaN    NaN  \n",
       "616     NaN    NaN  \n",
       "625     NaN    NaN  \n",
       "629     NaN    NaN  \n",
       "666     NaN    NaN  \n",
       "699     NaN    NaN  \n",
       "726     NaN    NaN  \n",
       "747     NaN    NaN  \n",
       "753     NaN    NaN  \n",
       "774     NaN    NaN  \n",
       "922     NaN    NaN  \n",
       "923     NaN    NaN  \n",
       "938     NaN    NaN  \n",
       "978     NaN    NaN  \n",
       "994     NaN    NaN  \n",
       "1060    NaN    NaN  \n",
       "1202    NaN    NaN  \n",
       "1245    NaN    NaN  "
      ]
     },
     "execution_count": 567,
     "metadata": {},
     "output_type": "execute_result"
    }
   ],
   "source": [
    "# Handling Missing values in dataset\n",
    "df[df['Price'].isna()]"
   ]
  },
  {
   "cell_type": "code",
   "execution_count": 568,
   "id": "8808a49a-8402-40d1-af6a-e0a3cd83f0cd",
   "metadata": {},
   "outputs": [],
   "source": [
    "# dropping all the NULL values \n",
    "df.dropna(inplace=True)"
   ]
  },
  {
   "cell_type": "code",
   "execution_count": 569,
   "id": "56ec5cad-a923-4c0b-9b06-b34f6edd636b",
   "metadata": {},
   "outputs": [
    {
     "data": {
      "text/plain": [
       "Company             0\n",
       "TypeName            0\n",
       "Inches              0\n",
       "ScreenResolution    0\n",
       "Cpu                 0\n",
       "Ram                 0\n",
       "Memory              0\n",
       "Gpu                 0\n",
       "OpSys               0\n",
       "Weight              0\n",
       "Price               0\n",
       "dtype: int64"
      ]
     },
     "execution_count": 569,
     "metadata": {},
     "output_type": "execute_result"
    }
   ],
   "source": [
    "df.isna().sum()"
   ]
  },
  {
   "cell_type": "code",
   "execution_count": 570,
   "id": "25cfa66d-f7ae-4564-8db3-5c6e40b500ee",
   "metadata": {},
   "outputs": [
    {
     "data": {
      "text/plain": [
       "29"
      ]
     },
     "execution_count": 570,
     "metadata": {},
     "output_type": "execute_result"
    }
   ],
   "source": [
    "# checking for duplicate values\n",
    "df.duplicated().sum()"
   ]
  },
  {
   "cell_type": "code",
   "execution_count": 571,
   "id": "1bd86ad8-e0dc-460b-a3dc-bbde374f2a78",
   "metadata": {
    "scrolled": true
   },
   "outputs": [
    {
     "data": {
      "text/html": [
       "<div>\n",
       "<style scoped>\n",
       "    .dataframe tbody tr th:only-of-type {\n",
       "        vertical-align: middle;\n",
       "    }\n",
       "\n",
       "    .dataframe tbody tr th {\n",
       "        vertical-align: top;\n",
       "    }\n",
       "\n",
       "    .dataframe thead th {\n",
       "        text-align: right;\n",
       "    }\n",
       "</style>\n",
       "<table border=\"1\" class=\"dataframe\">\n",
       "  <thead>\n",
       "    <tr style=\"text-align: right;\">\n",
       "      <th></th>\n",
       "      <th>Company</th>\n",
       "      <th>TypeName</th>\n",
       "      <th>Inches</th>\n",
       "      <th>ScreenResolution</th>\n",
       "      <th>Cpu</th>\n",
       "      <th>Ram</th>\n",
       "      <th>Memory</th>\n",
       "      <th>Gpu</th>\n",
       "      <th>OpSys</th>\n",
       "      <th>Weight</th>\n",
       "      <th>Price</th>\n",
       "    </tr>\n",
       "  </thead>\n",
       "  <tbody>\n",
       "    <tr>\n",
       "      <th>1172</th>\n",
       "      <td>Asus</td>\n",
       "      <td>Notebook</td>\n",
       "      <td>15.6</td>\n",
       "      <td>1366x768</td>\n",
       "      <td>Intel Celeron Dual Core N3050 1.6GHz</td>\n",
       "      <td>4GB</td>\n",
       "      <td>500GB HDD</td>\n",
       "      <td>Intel HD Graphics</td>\n",
       "      <td>Windows 10</td>\n",
       "      <td>2.2kg</td>\n",
       "      <td>19660.3200</td>\n",
       "    </tr>\n",
       "    <tr>\n",
       "      <th>1261</th>\n",
       "      <td>Asus</td>\n",
       "      <td>Ultrabook</td>\n",
       "      <td>13.3</td>\n",
       "      <td>IPS Panel Full HD 1920x1080</td>\n",
       "      <td>Intel Core M 6Y30 0.9GHz</td>\n",
       "      <td>8GB</td>\n",
       "      <td>512GB SSD</td>\n",
       "      <td>Intel HD Graphics 515</td>\n",
       "      <td>Windows 10</td>\n",
       "      <td>1.2kg</td>\n",
       "      <td>38841.1200</td>\n",
       "    </tr>\n",
       "    <tr>\n",
       "      <th>1262</th>\n",
       "      <td>Dell</td>\n",
       "      <td>Notebook</td>\n",
       "      <td>15.6</td>\n",
       "      <td>1366x768</td>\n",
       "      <td>Intel Core i3 7100U 2.4GHz</td>\n",
       "      <td>6GB</td>\n",
       "      <td>1TB HDD</td>\n",
       "      <td>Intel HD Graphics 620</td>\n",
       "      <td>Windows 10</td>\n",
       "      <td>2.3kg</td>\n",
       "      <td>24455.5200</td>\n",
       "    </tr>\n",
       "    <tr>\n",
       "      <th>1263</th>\n",
       "      <td>Acer</td>\n",
       "      <td>Notebook</td>\n",
       "      <td>15.6</td>\n",
       "      <td>1366x768</td>\n",
       "      <td>Intel Celeron Dual Core N3060 1.6GHz</td>\n",
       "      <td>4GB</td>\n",
       "      <td>500GB HDD</td>\n",
       "      <td>Intel HD Graphics 400</td>\n",
       "      <td>Linux</td>\n",
       "      <td>2.4kg</td>\n",
       "      <td>15397.9200</td>\n",
       "    </tr>\n",
       "    <tr>\n",
       "      <th>1264</th>\n",
       "      <td>Dell</td>\n",
       "      <td>Notebook</td>\n",
       "      <td>15.6</td>\n",
       "      <td>1366x768</td>\n",
       "      <td>Intel Celeron Dual Core N3050 1.6GHz</td>\n",
       "      <td>2GB</td>\n",
       "      <td>500GB HDD</td>\n",
       "      <td>Intel HD Graphics</td>\n",
       "      <td>Windows 10</td>\n",
       "      <td>2.20kg</td>\n",
       "      <td>20193.1200</td>\n",
       "    </tr>\n",
       "    <tr>\n",
       "      <th>1265</th>\n",
       "      <td>Lenovo</td>\n",
       "      <td>Notebook</td>\n",
       "      <td>15.6</td>\n",
       "      <td>IPS Panel Full HD 1920x1080</td>\n",
       "      <td>Intel Core i7 6700HQ 2.6GHz</td>\n",
       "      <td>8GB</td>\n",
       "      <td>1TB HDD</td>\n",
       "      <td>Nvidia GeForce GTX 960M</td>\n",
       "      <td>Windows 10</td>\n",
       "      <td>2.6kg</td>\n",
       "      <td>47898.7200</td>\n",
       "    </tr>\n",
       "    <tr>\n",
       "      <th>1266</th>\n",
       "      <td>HP</td>\n",
       "      <td>Notebook</td>\n",
       "      <td>15.6</td>\n",
       "      <td>Full HD 1920x1080</td>\n",
       "      <td>AMD A9-Series 9410 2.9GHz</td>\n",
       "      <td>6GB</td>\n",
       "      <td>1.0TB Hybrid</td>\n",
       "      <td>AMD Radeon R7 M440</td>\n",
       "      <td>Windows 10</td>\n",
       "      <td>2.04kg</td>\n",
       "      <td>29303.4672</td>\n",
       "    </tr>\n",
       "    <tr>\n",
       "      <th>1267</th>\n",
       "      <td>Dell</td>\n",
       "      <td>Notebook</td>\n",
       "      <td>15.6</td>\n",
       "      <td>1366x768</td>\n",
       "      <td>Intel Core i7 7500U 2.7GHz</td>\n",
       "      <td>8GB</td>\n",
       "      <td>1TB HDD</td>\n",
       "      <td>AMD Radeon R5 M430</td>\n",
       "      <td>Linux</td>\n",
       "      <td>2.3kg</td>\n",
       "      <td>42943.1472</td>\n",
       "    </tr>\n",
       "    <tr>\n",
       "      <th>1268</th>\n",
       "      <td>HP</td>\n",
       "      <td>Netbook</td>\n",
       "      <td>11.6</td>\n",
       "      <td>1366x768</td>\n",
       "      <td>Intel Celeron Dual Core N3060 1.6GHz</td>\n",
       "      <td>2GB</td>\n",
       "      <td>32GB Flash Storage</td>\n",
       "      <td>Intel HD Graphics 400</td>\n",
       "      <td>Windows 10</td>\n",
       "      <td>1.17kg</td>\n",
       "      <td>11135.5200</td>\n",
       "    </tr>\n",
       "    <tr>\n",
       "      <th>1269</th>\n",
       "      <td>Asus</td>\n",
       "      <td>Notebook</td>\n",
       "      <td>15.6</td>\n",
       "      <td>1366x768</td>\n",
       "      <td>Intel Core i7 6500U 2.5GHz</td>\n",
       "      <td>4GB</td>\n",
       "      <td>500GB HDD</td>\n",
       "      <td>Nvidia GeForce 920M</td>\n",
       "      <td>Windows 10</td>\n",
       "      <td>2.2kg</td>\n",
       "      <td>38378.6496</td>\n",
       "    </tr>\n",
       "    <tr>\n",
       "      <th>1270</th>\n",
       "      <td>Lenovo</td>\n",
       "      <td>2 in 1 Convertible</td>\n",
       "      <td>14</td>\n",
       "      <td>IPS Panel Full HD / Touchscreen 1920x1080</td>\n",
       "      <td>Intel Core i7 6500U 2.5GHz</td>\n",
       "      <td>4GB</td>\n",
       "      <td>128GB SSD</td>\n",
       "      <td>Intel HD Graphics 520</td>\n",
       "      <td>Windows 10</td>\n",
       "      <td>1.8kg</td>\n",
       "      <td>33992.6400</td>\n",
       "    </tr>\n",
       "    <tr>\n",
       "      <th>1271</th>\n",
       "      <td>Lenovo</td>\n",
       "      <td>2 in 1 Convertible</td>\n",
       "      <td>13.3</td>\n",
       "      <td>IPS Panel Quad HD+ / Touchscreen 3200x1800</td>\n",
       "      <td>Intel Core i7 6500U 2.5GHz</td>\n",
       "      <td>16GB</td>\n",
       "      <td>512GB SSD</td>\n",
       "      <td>Intel HD Graphics 520</td>\n",
       "      <td>Windows 10</td>\n",
       "      <td>1.3kg</td>\n",
       "      <td>79866.7200</td>\n",
       "    </tr>\n",
       "    <tr>\n",
       "      <th>1272</th>\n",
       "      <td>Lenovo</td>\n",
       "      <td>Notebook</td>\n",
       "      <td>14</td>\n",
       "      <td>1366x768</td>\n",
       "      <td>Intel Celeron Dual Core N3050 1.6GHz</td>\n",
       "      <td>2GB</td>\n",
       "      <td>64GB Flash Storage</td>\n",
       "      <td>Intel HD Graphics</td>\n",
       "      <td>Windows 10</td>\n",
       "      <td>1.5kg</td>\n",
       "      <td>12201.1200</td>\n",
       "    </tr>\n",
       "    <tr>\n",
       "      <th>1273</th>\n",
       "      <td>HP</td>\n",
       "      <td>Notebook</td>\n",
       "      <td>15.6</td>\n",
       "      <td>1366x768</td>\n",
       "      <td>Intel Core i7 6500U 2.5GHz</td>\n",
       "      <td>6GB</td>\n",
       "      <td>1TB HDD</td>\n",
       "      <td>AMD Radeon R5 M330</td>\n",
       "      <td>Windows 10</td>\n",
       "      <td>2.19kg</td>\n",
       "      <td>40705.9200</td>\n",
       "    </tr>\n",
       "    <tr>\n",
       "      <th>1274</th>\n",
       "      <td>Asus</td>\n",
       "      <td>Notebook</td>\n",
       "      <td>15.6</td>\n",
       "      <td>1366x768</td>\n",
       "      <td>Intel Celeron Dual Core N3050 1.6GHz</td>\n",
       "      <td>4GB</td>\n",
       "      <td>500GB HDD</td>\n",
       "      <td>Intel HD Graphics</td>\n",
       "      <td>Windows 10</td>\n",
       "      <td>2.2kg</td>\n",
       "      <td>19660.3200</td>\n",
       "    </tr>\n",
       "    <tr>\n",
       "      <th>1275</th>\n",
       "      <td>Asus</td>\n",
       "      <td>Ultrabook</td>\n",
       "      <td>13.3</td>\n",
       "      <td>IPS Panel Full HD 1920x1080</td>\n",
       "      <td>Intel Core M 6Y30 0.9GHz</td>\n",
       "      <td>8GB</td>\n",
       "      <td>512GB SSD</td>\n",
       "      <td>Intel HD Graphics 515</td>\n",
       "      <td>Windows 10</td>\n",
       "      <td>1.2kg</td>\n",
       "      <td>38841.1200</td>\n",
       "    </tr>\n",
       "    <tr>\n",
       "      <th>1276</th>\n",
       "      <td>Dell</td>\n",
       "      <td>Notebook</td>\n",
       "      <td>15.6</td>\n",
       "      <td>1366x768</td>\n",
       "      <td>Intel Core i3 7100U 2.4GHz</td>\n",
       "      <td>6GB</td>\n",
       "      <td>1TB HDD</td>\n",
       "      <td>Intel HD Graphics 620</td>\n",
       "      <td>Windows 10</td>\n",
       "      <td>2.3kg</td>\n",
       "      <td>24455.5200</td>\n",
       "    </tr>\n",
       "    <tr>\n",
       "      <th>1277</th>\n",
       "      <td>Acer</td>\n",
       "      <td>Notebook</td>\n",
       "      <td>15.6</td>\n",
       "      <td>1366x768</td>\n",
       "      <td>Intel Celeron Dual Core N3060 1.6GHz</td>\n",
       "      <td>4GB</td>\n",
       "      <td>500GB HDD</td>\n",
       "      <td>Intel HD Graphics 400</td>\n",
       "      <td>Linux</td>\n",
       "      <td>2.4kg</td>\n",
       "      <td>15397.9200</td>\n",
       "    </tr>\n",
       "    <tr>\n",
       "      <th>1278</th>\n",
       "      <td>Dell</td>\n",
       "      <td>Notebook</td>\n",
       "      <td>15.6</td>\n",
       "      <td>1366x768</td>\n",
       "      <td>Intel Celeron Dual Core N3050 1.6GHz</td>\n",
       "      <td>2GB</td>\n",
       "      <td>500GB HDD</td>\n",
       "      <td>Intel HD Graphics</td>\n",
       "      <td>Windows 10</td>\n",
       "      <td>2.20kg</td>\n",
       "      <td>20193.1200</td>\n",
       "    </tr>\n",
       "    <tr>\n",
       "      <th>1279</th>\n",
       "      <td>Lenovo</td>\n",
       "      <td>Notebook</td>\n",
       "      <td>15.6</td>\n",
       "      <td>IPS Panel Full HD 1920x1080</td>\n",
       "      <td>Intel Core i7 6700HQ 2.6GHz</td>\n",
       "      <td>8GB</td>\n",
       "      <td>1TB HDD</td>\n",
       "      <td>Nvidia GeForce GTX 960M</td>\n",
       "      <td>Windows 10</td>\n",
       "      <td>2.6kg</td>\n",
       "      <td>47898.7200</td>\n",
       "    </tr>\n",
       "    <tr>\n",
       "      <th>1280</th>\n",
       "      <td>HP</td>\n",
       "      <td>Notebook</td>\n",
       "      <td>15.6</td>\n",
       "      <td>Full HD 1920x1080</td>\n",
       "      <td>AMD A9-Series 9410 2.9GHz</td>\n",
       "      <td>6GB</td>\n",
       "      <td>1.0TB Hybrid</td>\n",
       "      <td>AMD Radeon R7 M440</td>\n",
       "      <td>Windows 10</td>\n",
       "      <td>2.04kg</td>\n",
       "      <td>29303.4672</td>\n",
       "    </tr>\n",
       "    <tr>\n",
       "      <th>1281</th>\n",
       "      <td>Dell</td>\n",
       "      <td>Notebook</td>\n",
       "      <td>15.6</td>\n",
       "      <td>1366x768</td>\n",
       "      <td>Intel Core i7 7500U 2.7GHz</td>\n",
       "      <td>8GB</td>\n",
       "      <td>1TB HDD</td>\n",
       "      <td>AMD Radeon R5 M430</td>\n",
       "      <td>Linux</td>\n",
       "      <td>2.3kg</td>\n",
       "      <td>42943.1472</td>\n",
       "    </tr>\n",
       "    <tr>\n",
       "      <th>1282</th>\n",
       "      <td>HP</td>\n",
       "      <td>Netbook</td>\n",
       "      <td>11.6</td>\n",
       "      <td>1366x768</td>\n",
       "      <td>Intel Celeron Dual Core N3060 1.6GHz</td>\n",
       "      <td>2GB</td>\n",
       "      <td>32GB Flash Storage</td>\n",
       "      <td>Intel HD Graphics 400</td>\n",
       "      <td>Windows 10</td>\n",
       "      <td>1.17kg</td>\n",
       "      <td>11135.5200</td>\n",
       "    </tr>\n",
       "    <tr>\n",
       "      <th>1283</th>\n",
       "      <td>Asus</td>\n",
       "      <td>Notebook</td>\n",
       "      <td>15.6</td>\n",
       "      <td>1366x768</td>\n",
       "      <td>Intel Core i7 6500U 2.5GHz</td>\n",
       "      <td>4GB</td>\n",
       "      <td>500GB HDD</td>\n",
       "      <td>Nvidia GeForce 920M</td>\n",
       "      <td>Windows 10</td>\n",
       "      <td>2.2kg</td>\n",
       "      <td>38378.6496</td>\n",
       "    </tr>\n",
       "    <tr>\n",
       "      <th>1284</th>\n",
       "      <td>Lenovo</td>\n",
       "      <td>2 in 1 Convertible</td>\n",
       "      <td>14</td>\n",
       "      <td>IPS Panel Full HD / Touchscreen 1920x1080</td>\n",
       "      <td>Intel Core i7 6500U 2.5GHz</td>\n",
       "      <td>4GB</td>\n",
       "      <td>128GB SSD</td>\n",
       "      <td>Intel HD Graphics 520</td>\n",
       "      <td>Windows 10</td>\n",
       "      <td>1.8kg</td>\n",
       "      <td>33992.6400</td>\n",
       "    </tr>\n",
       "    <tr>\n",
       "      <th>1285</th>\n",
       "      <td>Lenovo</td>\n",
       "      <td>2 in 1 Convertible</td>\n",
       "      <td>13.3</td>\n",
       "      <td>IPS Panel Quad HD+ / Touchscreen 3200x1800</td>\n",
       "      <td>Intel Core i7 6500U 2.5GHz</td>\n",
       "      <td>16GB</td>\n",
       "      <td>512GB SSD</td>\n",
       "      <td>Intel HD Graphics 520</td>\n",
       "      <td>Windows 10</td>\n",
       "      <td>1.3kg</td>\n",
       "      <td>79866.7200</td>\n",
       "    </tr>\n",
       "    <tr>\n",
       "      <th>1286</th>\n",
       "      <td>Lenovo</td>\n",
       "      <td>Notebook</td>\n",
       "      <td>14</td>\n",
       "      <td>1366x768</td>\n",
       "      <td>Intel Celeron Dual Core N3050 1.6GHz</td>\n",
       "      <td>2GB</td>\n",
       "      <td>64GB Flash Storage</td>\n",
       "      <td>Intel HD Graphics</td>\n",
       "      <td>Windows 10</td>\n",
       "      <td>1.5kg</td>\n",
       "      <td>12201.1200</td>\n",
       "    </tr>\n",
       "    <tr>\n",
       "      <th>1287</th>\n",
       "      <td>HP</td>\n",
       "      <td>Notebook</td>\n",
       "      <td>15.6</td>\n",
       "      <td>1366x768</td>\n",
       "      <td>Intel Core i7 6500U 2.5GHz</td>\n",
       "      <td>6GB</td>\n",
       "      <td>1TB HDD</td>\n",
       "      <td>AMD Radeon R5 M330</td>\n",
       "      <td>Windows 10</td>\n",
       "      <td>2.19kg</td>\n",
       "      <td>40705.9200</td>\n",
       "    </tr>\n",
       "    <tr>\n",
       "      <th>1288</th>\n",
       "      <td>Asus</td>\n",
       "      <td>Notebook</td>\n",
       "      <td>15.6</td>\n",
       "      <td>1366x768</td>\n",
       "      <td>Intel Celeron Dual Core N3050 1.6GHz</td>\n",
       "      <td>4GB</td>\n",
       "      <td>500GB HDD</td>\n",
       "      <td>Intel HD Graphics</td>\n",
       "      <td>Windows 10</td>\n",
       "      <td>2.2kg</td>\n",
       "      <td>19660.3200</td>\n",
       "    </tr>\n",
       "  </tbody>\n",
       "</table>\n",
       "</div>"
      ],
      "text/plain": [
       "     Company            TypeName Inches  \\\n",
       "1172    Asus            Notebook   15.6   \n",
       "1261    Asus           Ultrabook   13.3   \n",
       "1262    Dell            Notebook   15.6   \n",
       "1263    Acer            Notebook   15.6   \n",
       "1264    Dell            Notebook   15.6   \n",
       "1265  Lenovo            Notebook   15.6   \n",
       "1266      HP            Notebook   15.6   \n",
       "1267    Dell            Notebook   15.6   \n",
       "1268      HP             Netbook   11.6   \n",
       "1269    Asus            Notebook   15.6   \n",
       "1270  Lenovo  2 in 1 Convertible     14   \n",
       "1271  Lenovo  2 in 1 Convertible   13.3   \n",
       "1272  Lenovo            Notebook     14   \n",
       "1273      HP            Notebook   15.6   \n",
       "1274    Asus            Notebook   15.6   \n",
       "1275    Asus           Ultrabook   13.3   \n",
       "1276    Dell            Notebook   15.6   \n",
       "1277    Acer            Notebook   15.6   \n",
       "1278    Dell            Notebook   15.6   \n",
       "1279  Lenovo            Notebook   15.6   \n",
       "1280      HP            Notebook   15.6   \n",
       "1281    Dell            Notebook   15.6   \n",
       "1282      HP             Netbook   11.6   \n",
       "1283    Asus            Notebook   15.6   \n",
       "1284  Lenovo  2 in 1 Convertible     14   \n",
       "1285  Lenovo  2 in 1 Convertible   13.3   \n",
       "1286  Lenovo            Notebook     14   \n",
       "1287      HP            Notebook   15.6   \n",
       "1288    Asus            Notebook   15.6   \n",
       "\n",
       "                                ScreenResolution  \\\n",
       "1172                                    1366x768   \n",
       "1261                 IPS Panel Full HD 1920x1080   \n",
       "1262                                    1366x768   \n",
       "1263                                    1366x768   \n",
       "1264                                    1366x768   \n",
       "1265                 IPS Panel Full HD 1920x1080   \n",
       "1266                           Full HD 1920x1080   \n",
       "1267                                    1366x768   \n",
       "1268                                    1366x768   \n",
       "1269                                    1366x768   \n",
       "1270   IPS Panel Full HD / Touchscreen 1920x1080   \n",
       "1271  IPS Panel Quad HD+ / Touchscreen 3200x1800   \n",
       "1272                                    1366x768   \n",
       "1273                                    1366x768   \n",
       "1274                                    1366x768   \n",
       "1275                 IPS Panel Full HD 1920x1080   \n",
       "1276                                    1366x768   \n",
       "1277                                    1366x768   \n",
       "1278                                    1366x768   \n",
       "1279                 IPS Panel Full HD 1920x1080   \n",
       "1280                           Full HD 1920x1080   \n",
       "1281                                    1366x768   \n",
       "1282                                    1366x768   \n",
       "1283                                    1366x768   \n",
       "1284   IPS Panel Full HD / Touchscreen 1920x1080   \n",
       "1285  IPS Panel Quad HD+ / Touchscreen 3200x1800   \n",
       "1286                                    1366x768   \n",
       "1287                                    1366x768   \n",
       "1288                                    1366x768   \n",
       "\n",
       "                                       Cpu   Ram              Memory  \\\n",
       "1172  Intel Celeron Dual Core N3050 1.6GHz   4GB           500GB HDD   \n",
       "1261              Intel Core M 6Y30 0.9GHz   8GB           512GB SSD   \n",
       "1262            Intel Core i3 7100U 2.4GHz   6GB             1TB HDD   \n",
       "1263  Intel Celeron Dual Core N3060 1.6GHz   4GB           500GB HDD   \n",
       "1264  Intel Celeron Dual Core N3050 1.6GHz   2GB           500GB HDD   \n",
       "1265           Intel Core i7 6700HQ 2.6GHz   8GB             1TB HDD   \n",
       "1266             AMD A9-Series 9410 2.9GHz   6GB        1.0TB Hybrid   \n",
       "1267            Intel Core i7 7500U 2.7GHz   8GB             1TB HDD   \n",
       "1268  Intel Celeron Dual Core N3060 1.6GHz   2GB  32GB Flash Storage   \n",
       "1269            Intel Core i7 6500U 2.5GHz   4GB           500GB HDD   \n",
       "1270            Intel Core i7 6500U 2.5GHz   4GB           128GB SSD   \n",
       "1271            Intel Core i7 6500U 2.5GHz  16GB           512GB SSD   \n",
       "1272  Intel Celeron Dual Core N3050 1.6GHz   2GB  64GB Flash Storage   \n",
       "1273            Intel Core i7 6500U 2.5GHz   6GB             1TB HDD   \n",
       "1274  Intel Celeron Dual Core N3050 1.6GHz   4GB           500GB HDD   \n",
       "1275              Intel Core M 6Y30 0.9GHz   8GB           512GB SSD   \n",
       "1276            Intel Core i3 7100U 2.4GHz   6GB             1TB HDD   \n",
       "1277  Intel Celeron Dual Core N3060 1.6GHz   4GB           500GB HDD   \n",
       "1278  Intel Celeron Dual Core N3050 1.6GHz   2GB           500GB HDD   \n",
       "1279           Intel Core i7 6700HQ 2.6GHz   8GB             1TB HDD   \n",
       "1280             AMD A9-Series 9410 2.9GHz   6GB        1.0TB Hybrid   \n",
       "1281            Intel Core i7 7500U 2.7GHz   8GB             1TB HDD   \n",
       "1282  Intel Celeron Dual Core N3060 1.6GHz   2GB  32GB Flash Storage   \n",
       "1283            Intel Core i7 6500U 2.5GHz   4GB           500GB HDD   \n",
       "1284            Intel Core i7 6500U 2.5GHz   4GB           128GB SSD   \n",
       "1285            Intel Core i7 6500U 2.5GHz  16GB           512GB SSD   \n",
       "1286  Intel Celeron Dual Core N3050 1.6GHz   2GB  64GB Flash Storage   \n",
       "1287            Intel Core i7 6500U 2.5GHz   6GB             1TB HDD   \n",
       "1288  Intel Celeron Dual Core N3050 1.6GHz   4GB           500GB HDD   \n",
       "\n",
       "                          Gpu       OpSys  Weight       Price  \n",
       "1172        Intel HD Graphics  Windows 10   2.2kg  19660.3200  \n",
       "1261    Intel HD Graphics 515  Windows 10   1.2kg  38841.1200  \n",
       "1262    Intel HD Graphics 620  Windows 10   2.3kg  24455.5200  \n",
       "1263    Intel HD Graphics 400       Linux   2.4kg  15397.9200  \n",
       "1264        Intel HD Graphics  Windows 10  2.20kg  20193.1200  \n",
       "1265  Nvidia GeForce GTX 960M  Windows 10   2.6kg  47898.7200  \n",
       "1266       AMD Radeon R7 M440  Windows 10  2.04kg  29303.4672  \n",
       "1267       AMD Radeon R5 M430       Linux   2.3kg  42943.1472  \n",
       "1268    Intel HD Graphics 400  Windows 10  1.17kg  11135.5200  \n",
       "1269      Nvidia GeForce 920M  Windows 10   2.2kg  38378.6496  \n",
       "1270    Intel HD Graphics 520  Windows 10   1.8kg  33992.6400  \n",
       "1271    Intel HD Graphics 520  Windows 10   1.3kg  79866.7200  \n",
       "1272        Intel HD Graphics  Windows 10   1.5kg  12201.1200  \n",
       "1273       AMD Radeon R5 M330  Windows 10  2.19kg  40705.9200  \n",
       "1274        Intel HD Graphics  Windows 10   2.2kg  19660.3200  \n",
       "1275    Intel HD Graphics 515  Windows 10   1.2kg  38841.1200  \n",
       "1276    Intel HD Graphics 620  Windows 10   2.3kg  24455.5200  \n",
       "1277    Intel HD Graphics 400       Linux   2.4kg  15397.9200  \n",
       "1278        Intel HD Graphics  Windows 10  2.20kg  20193.1200  \n",
       "1279  Nvidia GeForce GTX 960M  Windows 10   2.6kg  47898.7200  \n",
       "1280       AMD Radeon R7 M440  Windows 10  2.04kg  29303.4672  \n",
       "1281       AMD Radeon R5 M430       Linux   2.3kg  42943.1472  \n",
       "1282    Intel HD Graphics 400  Windows 10  1.17kg  11135.5200  \n",
       "1283      Nvidia GeForce 920M  Windows 10   2.2kg  38378.6496  \n",
       "1284    Intel HD Graphics 520  Windows 10   1.8kg  33992.6400  \n",
       "1285    Intel HD Graphics 520  Windows 10   1.3kg  79866.7200  \n",
       "1286        Intel HD Graphics  Windows 10   1.5kg  12201.1200  \n",
       "1287       AMD Radeon R5 M330  Windows 10  2.19kg  40705.9200  \n",
       "1288        Intel HD Graphics  Windows 10   2.2kg  19660.3200  "
      ]
     },
     "execution_count": 571,
     "metadata": {},
     "output_type": "execute_result"
    }
   ],
   "source": [
    "df[df.duplicated(keep='last')] "
   ]
  },
  {
   "cell_type": "code",
   "execution_count": 572,
   "id": "a67054f9-e426-45a6-8b7b-1386bef157fd",
   "metadata": {},
   "outputs": [],
   "source": [
    "df.drop_duplicates(inplace=True) # dropping all the duplicate values\n"
   ]
  },
  {
   "cell_type": "code",
   "execution_count": 573,
   "id": "35f793cc-25db-4f80-ad68-e15180fc16ca",
   "metadata": {},
   "outputs": [
    {
     "data": {
      "text/plain": [
       "0"
      ]
     },
     "execution_count": 573,
     "metadata": {},
     "output_type": "execute_result"
    }
   ],
   "source": [
    "df.duplicated().sum() "
   ]
  },
  {
   "cell_type": "code",
   "execution_count": 574,
   "id": "708470a4-164f-498d-8645-8bbd6f0185db",
   "metadata": {},
   "outputs": [
    {
     "name": "stdout",
     "output_type": "stream",
     "text": [
      "208 Weight\n",
      "476 Inches\n",
      "770 Memory\n",
      "[208, 476, 770]\n"
     ]
    }
   ],
   "source": [
    "cat=df.select_dtypes(include='object')\n",
    "index=[]\n",
    "for i,r in df.iterrows():\n",
    "    for j in cat:\n",
    "          if  '?' in r[j]:\n",
    "             print(i,j) \n",
    "             index.append(i)\n",
    "print(index)"
   ]
  },
  {
   "cell_type": "markdown",
   "id": "26e252d1-ec10-4af4-906c-979a0e32ad31",
   "metadata": {},
   "source": [
    "## Feature Engineering"
   ]
  },
  {
   "cell_type": "code",
   "execution_count": 575,
   "id": "973fee45-903c-45d3-a548-e4ee43de4081",
   "metadata": {},
   "outputs": [],
   "source": [
    "df['Ram']=df['Ram'].apply(lambda x:str(x)[:-2]) #extracting only numeric values \n",
    "df['Weight']=df['Weight'].apply(lambda x : str(x)[:-2])"
   ]
  },
  {
   "cell_type": "code",
   "execution_count": 576,
   "id": "2365d060-7dcf-4af3-a709-5c99e48b8988",
   "metadata": {},
   "outputs": [
    {
     "data": {
      "text/plain": [
       "array(['8', '16', '4', '2', '12', '64', '6', '32', '24', '1'],\n",
       "      dtype=object)"
      ]
     },
     "execution_count": 576,
     "metadata": {},
     "output_type": "execute_result"
    }
   ],
   "source": [
    "df['Ram'].unique()"
   ]
  },
  {
   "cell_type": "markdown",
   "id": "68971ad3-f894-4542-a69c-8e117a9782bd",
   "metadata": {},
   "source": [
    "### Converting cat feature to numeric"
   ]
  },
  {
   "cell_type": "code",
   "execution_count": 577,
   "id": "cb6b84b4-6d41-47b3-bdf9-11327c2e8331",
   "metadata": {},
   "outputs": [],
   "source": [
    "df['Ram'] = df['Ram'].astype(str).astype(int) \n",
    "df['Weight'] =pd.to_numeric(df['Weight'], errors ='coerce') \n",
    "df['Inches'] =pd.to_numeric(df['Inches'], errors ='coerce') \n"
   ]
  },
  {
   "cell_type": "code",
   "execution_count": 578,
   "id": "52d8a756-264c-4216-bf94-2129ca208d2f",
   "metadata": {},
   "outputs": [
    {
     "name": "stdout",
     "output_type": "stream",
     "text": [
      "<class 'pandas.core.frame.DataFrame'>\n",
      "Index: 1244 entries, 0 to 1273\n",
      "Data columns (total 11 columns):\n",
      " #   Column            Non-Null Count  Dtype  \n",
      "---  ------            --------------  -----  \n",
      " 0   Company           1244 non-null   object \n",
      " 1   TypeName          1244 non-null   object \n",
      " 2   Inches            1243 non-null   float64\n",
      " 3   ScreenResolution  1244 non-null   object \n",
      " 4   Cpu               1244 non-null   object \n",
      " 5   Ram               1244 non-null   int32  \n",
      " 6   Memory            1244 non-null   object \n",
      " 7   Gpu               1244 non-null   object \n",
      " 8   OpSys             1244 non-null   object \n",
      " 9   Weight            1243 non-null   float64\n",
      " 10  Price             1244 non-null   float64\n",
      "dtypes: float64(3), int32(1), object(7)\n",
      "memory usage: 111.8+ KB\n"
     ]
    }
   ],
   "source": [
    "df.info()"
   ]
  },
  {
   "cell_type": "code",
   "execution_count": 579,
   "id": "48e56f25-8de5-42aa-80bb-8c4d838e1991",
   "metadata": {},
   "outputs": [
    {
     "data": {
      "text/plain": [
       "Company             0\n",
       "TypeName            0\n",
       "Inches              1\n",
       "ScreenResolution    0\n",
       "Cpu                 0\n",
       "Ram                 0\n",
       "Memory              0\n",
       "Gpu                 0\n",
       "OpSys               0\n",
       "Weight              1\n",
       "Price               0\n",
       "dtype: int64"
      ]
     },
     "execution_count": 579,
     "metadata": {},
     "output_type": "execute_result"
    }
   ],
   "source": [
    "df.isna().sum()"
   ]
  },
  {
   "cell_type": "code",
   "execution_count": 580,
   "id": "dc12faf2-1a78-474d-b53d-6551af2fe573",
   "metadata": {},
   "outputs": [
    {
     "data": {
      "text/plain": [
       "array(['128GB SSD', '128GB Flash Storage', '256GB SSD', '512GB SSD',\n",
       "       '500GB HDD', '256GB Flash Storage', '1TB HDD',\n",
       "       '128GB SSD +  1TB HDD', '256GB SSD +  256GB SSD',\n",
       "       '64GB Flash Storage', '32GB Flash Storage', '256GB SSD +  1TB HDD',\n",
       "       '256GB SSD +  2TB HDD', '32GB SSD', '2TB HDD', '64GB SSD',\n",
       "       '1.0TB Hybrid', '512GB SSD +  1TB HDD', '1TB SSD',\n",
       "       '256GB SSD +  500GB HDD', '128GB SSD +  2TB HDD',\n",
       "       '512GB SSD +  512GB SSD', '16GB SSD', '16GB Flash Storage',\n",
       "       '512GB SSD +  256GB SSD', '512GB SSD +  2TB HDD',\n",
       "       '64GB Flash Storage +  1TB HDD', '180GB SSD', '1TB HDD +  1TB HDD',\n",
       "       '32GB HDD', '1TB SSD +  1TB HDD', '?', '512GB Flash Storage',\n",
       "       '128GB HDD', '240GB SSD', '8GB SSD', '508GB Hybrid', '1.0TB HDD',\n",
       "       '512GB SSD +  1.0TB Hybrid', '256GB SSD +  1.0TB Hybrid'],\n",
       "      dtype=object)"
      ]
     },
     "execution_count": 580,
     "metadata": {},
     "output_type": "execute_result"
    }
   ],
   "source": [
    "# feature engineering on memory \n",
    "df['Memory'].unique()"
   ]
  },
  {
   "cell_type": "code",
   "execution_count": 581,
   "id": "77abf73f-b222-4e43-af3c-d2ecff038d99",
   "metadata": {},
   "outputs": [
    {
     "data": {
      "text/html": [
       "<div>\n",
       "<style scoped>\n",
       "    .dataframe tbody tr th:only-of-type {\n",
       "        vertical-align: middle;\n",
       "    }\n",
       "\n",
       "    .dataframe tbody tr th {\n",
       "        vertical-align: top;\n",
       "    }\n",
       "\n",
       "    .dataframe thead th {\n",
       "        text-align: right;\n",
       "    }\n",
       "</style>\n",
       "<table border=\"1\" class=\"dataframe\">\n",
       "  <thead>\n",
       "    <tr style=\"text-align: right;\">\n",
       "      <th></th>\n",
       "      <th>Company</th>\n",
       "      <th>TypeName</th>\n",
       "      <th>Inches</th>\n",
       "      <th>ScreenResolution</th>\n",
       "      <th>Cpu</th>\n",
       "      <th>Ram</th>\n",
       "      <th>Memory</th>\n",
       "      <th>Gpu</th>\n",
       "      <th>OpSys</th>\n",
       "      <th>Weight</th>\n",
       "      <th>Price</th>\n",
       "    </tr>\n",
       "  </thead>\n",
       "  <tbody>\n",
       "    <tr>\n",
       "      <th>0</th>\n",
       "      <td>Apple</td>\n",
       "      <td>Ultrabook</td>\n",
       "      <td>13.3</td>\n",
       "      <td>IPS Panel Retina Display 2560x1600</td>\n",
       "      <td>Intel Core i5 2.3GHz</td>\n",
       "      <td>8</td>\n",
       "      <td>128GB SSD</td>\n",
       "      <td>Intel Iris Plus Graphics 640</td>\n",
       "      <td>macOS</td>\n",
       "      <td>1.37</td>\n",
       "      <td>71378.6832</td>\n",
       "    </tr>\n",
       "    <tr>\n",
       "      <th>1</th>\n",
       "      <td>Apple</td>\n",
       "      <td>Ultrabook</td>\n",
       "      <td>13.3</td>\n",
       "      <td>1440x900</td>\n",
       "      <td>Intel Core i5 1.8GHz</td>\n",
       "      <td>8</td>\n",
       "      <td>128GB Flash Storage</td>\n",
       "      <td>Intel HD Graphics 6000</td>\n",
       "      <td>macOS</td>\n",
       "      <td>1.34</td>\n",
       "      <td>47895.5232</td>\n",
       "    </tr>\n",
       "    <tr>\n",
       "      <th>2</th>\n",
       "      <td>HP</td>\n",
       "      <td>Notebook</td>\n",
       "      <td>15.6</td>\n",
       "      <td>Full HD 1920x1080</td>\n",
       "      <td>Intel Core i5 7200U 2.5GHz</td>\n",
       "      <td>8</td>\n",
       "      <td>256GB SSD</td>\n",
       "      <td>Intel HD Graphics 620</td>\n",
       "      <td>No OS</td>\n",
       "      <td>1.86</td>\n",
       "      <td>30636.0000</td>\n",
       "    </tr>\n",
       "    <tr>\n",
       "      <th>3</th>\n",
       "      <td>Apple</td>\n",
       "      <td>Ultrabook</td>\n",
       "      <td>15.4</td>\n",
       "      <td>IPS Panel Retina Display 2880x1800</td>\n",
       "      <td>Intel Core i7 2.7GHz</td>\n",
       "      <td>16</td>\n",
       "      <td>512GB SSD</td>\n",
       "      <td>AMD Radeon Pro 455</td>\n",
       "      <td>macOS</td>\n",
       "      <td>1.83</td>\n",
       "      <td>135195.3360</td>\n",
       "    </tr>\n",
       "    <tr>\n",
       "      <th>4</th>\n",
       "      <td>Apple</td>\n",
       "      <td>Ultrabook</td>\n",
       "      <td>13.3</td>\n",
       "      <td>IPS Panel Retina Display 2560x1600</td>\n",
       "      <td>Intel Core i5 3.1GHz</td>\n",
       "      <td>8</td>\n",
       "      <td>256GB SSD</td>\n",
       "      <td>Intel Iris Plus Graphics 650</td>\n",
       "      <td>macOS</td>\n",
       "      <td>1.37</td>\n",
       "      <td>96095.8080</td>\n",
       "    </tr>\n",
       "  </tbody>\n",
       "</table>\n",
       "</div>"
      ],
      "text/plain": [
       "  Company   TypeName  Inches                    ScreenResolution  \\\n",
       "0   Apple  Ultrabook    13.3  IPS Panel Retina Display 2560x1600   \n",
       "1   Apple  Ultrabook    13.3                            1440x900   \n",
       "2      HP   Notebook    15.6                   Full HD 1920x1080   \n",
       "3   Apple  Ultrabook    15.4  IPS Panel Retina Display 2880x1800   \n",
       "4   Apple  Ultrabook    13.3  IPS Panel Retina Display 2560x1600   \n",
       "\n",
       "                          Cpu  Ram               Memory  \\\n",
       "0        Intel Core i5 2.3GHz    8            128GB SSD   \n",
       "1        Intel Core i5 1.8GHz    8  128GB Flash Storage   \n",
       "2  Intel Core i5 7200U 2.5GHz    8            256GB SSD   \n",
       "3        Intel Core i7 2.7GHz   16            512GB SSD   \n",
       "4        Intel Core i5 3.1GHz    8            256GB SSD   \n",
       "\n",
       "                            Gpu  OpSys  Weight        Price  \n",
       "0  Intel Iris Plus Graphics 640  macOS    1.37   71378.6832  \n",
       "1        Intel HD Graphics 6000  macOS    1.34   47895.5232  \n",
       "2         Intel HD Graphics 620  No OS    1.86   30636.0000  \n",
       "3            AMD Radeon Pro 455  macOS    1.83  135195.3360  \n",
       "4  Intel Iris Plus Graphics 650  macOS    1.37   96095.8080  "
      ]
     },
     "execution_count": 581,
     "metadata": {},
     "output_type": "execute_result"
    }
   ],
   "source": [
    "df.head()"
   ]
  },
  {
   "cell_type": "code",
   "execution_count": 582,
   "id": "02a5164a-43ff-4846-a255-456d3700d40d",
   "metadata": {},
   "outputs": [],
   "source": [
    "# splitting the memory into 2 columns\n",
    "df['Memory_size']=df['Memory'].apply(lambda x :x.split(' ')[0])\n",
    "\n",
    "df['Memory_type']=df['Memory'].apply(lambda x : ' '.join(x.split()[1:2]))\n"
   ]
  },
  {
   "cell_type": "code",
   "execution_count": 583,
   "id": "56e470fa-da7c-4673-a868-ae0c643b2202",
   "metadata": {},
   "outputs": [
    {
     "data": {
      "text/plain": [
       "array(['128GB', '256GB', '512GB', '500GB', '1TB', '64GB', '32GB', '2TB',\n",
       "       '1.0TB', '16GB', '180GB', '?', '240GB', '8GB', '508GB'],\n",
       "      dtype=object)"
      ]
     },
     "execution_count": 583,
     "metadata": {},
     "output_type": "execute_result"
    }
   ],
   "source": [
    "df['Memory_size'].unique()"
   ]
  },
  {
   "cell_type": "code",
   "execution_count": 584,
   "id": "b70e1178-7f13-4730-9087-76f1c533a367",
   "metadata": {},
   "outputs": [
    {
     "data": {
      "text/plain": [
       "array(['SSD', 'Flash', 'HDD', 'Hybrid', ''], dtype=object)"
      ]
     },
     "execution_count": 584,
     "metadata": {},
     "output_type": "execute_result"
    }
   ],
   "source": [
    "df['Memory_type'].unique()"
   ]
  },
  {
   "cell_type": "code",
   "execution_count": 585,
   "id": "9704bc57-7f34-475a-91ea-a8aef22c1dd5",
   "metadata": {},
   "outputs": [],
   "source": [
    "df['Memory_type'].replace('',np.nan,inplace=True)"
   ]
  },
  {
   "cell_type": "code",
   "execution_count": 586,
   "id": "047769f2-8999-4525-bd27-c0fe787832f2",
   "metadata": {},
   "outputs": [],
   "source": [
    "# df['Memory_size'] =pd.to_numeric(df['Memory_size'], errors ='coerce') \n"
   ]
  },
  {
   "cell_type": "code",
   "execution_count": 587,
   "id": "2e0462ba-e256-4931-baa4-0963a54881a6",
   "metadata": {},
   "outputs": [],
   "source": [
    "def memory(name):\n",
    "    if 'GB' in name:\n",
    "        return int(name.replace('GB',''))\n",
    "    elif '?' in name:\n",
    "        return np.nan\n",
    "    else:\n",
    "        return float(name.replace('TB',''))*float(1000)"
   ]
  },
  {
   "cell_type": "code",
   "execution_count": 588,
   "id": "c6552b83-a79d-4e83-a1d1-c2999d600fe5",
   "metadata": {},
   "outputs": [
    {
     "name": "stdout",
     "output_type": "stream",
     "text": [
      "<class 'pandas.core.frame.DataFrame'>\n",
      "Index: 1244 entries, 0 to 1273\n",
      "Data columns (total 13 columns):\n",
      " #   Column            Non-Null Count  Dtype  \n",
      "---  ------            --------------  -----  \n",
      " 0   Company           1244 non-null   object \n",
      " 1   TypeName          1244 non-null   object \n",
      " 2   Inches            1243 non-null   float64\n",
      " 3   ScreenResolution  1244 non-null   object \n",
      " 4   Cpu               1244 non-null   object \n",
      " 5   Ram               1244 non-null   int32  \n",
      " 6   Memory            1244 non-null   object \n",
      " 7   Gpu               1244 non-null   object \n",
      " 8   OpSys             1244 non-null   object \n",
      " 9   Weight            1243 non-null   float64\n",
      " 10  Price             1244 non-null   float64\n",
      " 11  Memory_size       1244 non-null   object \n",
      " 12  Memory_type       1243 non-null   object \n",
      "dtypes: float64(3), int32(1), object(9)\n",
      "memory usage: 131.2+ KB\n"
     ]
    }
   ],
   "source": [
    "df.info()"
   ]
  },
  {
   "cell_type": "code",
   "execution_count": 589,
   "id": "d74b8378-a9ec-403b-8388-857402523f74",
   "metadata": {},
   "outputs": [
    {
     "data": {
      "text/plain": [
       "0       128GB\n",
       "1       128GB\n",
       "2       256GB\n",
       "3       512GB\n",
       "4       256GB\n",
       "        ...  \n",
       "1269    500GB\n",
       "1270    128GB\n",
       "1271    512GB\n",
       "1272     64GB\n",
       "1273      1TB\n",
       "Name: Memory_size, Length: 1244, dtype: object"
      ]
     },
     "execution_count": 589,
     "metadata": {},
     "output_type": "execute_result"
    }
   ],
   "source": [
    "df['Memory_size']"
   ]
  },
  {
   "cell_type": "code",
   "execution_count": 590,
   "id": "a22b2985-7a23-4bed-b089-3fa855ef8892",
   "metadata": {},
   "outputs": [],
   "source": [
    "df['Memory_size']=df['Memory_size'].apply(memory)"
   ]
  },
  {
   "cell_type": "code",
   "execution_count": 591,
   "id": "e123d5d0-8887-4995-8319-81941af62c29",
   "metadata": {},
   "outputs": [
    {
     "data": {
      "text/plain": [
       "array([ 128.,  256.,  512.,  500., 1000.,   64.,   32., 2000.,   16.,\n",
       "        180.,   nan,  240.,    8.,  508.])"
      ]
     },
     "execution_count": 591,
     "metadata": {},
     "output_type": "execute_result"
    }
   ],
   "source": [
    "df['Memory_size'].unique()"
   ]
  },
  {
   "cell_type": "code",
   "execution_count": 592,
   "id": "04e0a47d-ed39-47b5-af50-c9eb8e5309d3",
   "metadata": {},
   "outputs": [
    {
     "data": {
      "text/plain": [
       "Company             0\n",
       "TypeName            0\n",
       "Inches              1\n",
       "ScreenResolution    0\n",
       "Cpu                 0\n",
       "Ram                 0\n",
       "Memory              0\n",
       "Gpu                 0\n",
       "OpSys               0\n",
       "Weight              1\n",
       "Price               0\n",
       "Memory_size         1\n",
       "Memory_type         1\n",
       "dtype: int64"
      ]
     },
     "execution_count": 592,
     "metadata": {},
     "output_type": "execute_result"
    }
   ],
   "source": [
    "# checking for null values in df\n",
    "df.isna().sum()"
   ]
  },
  {
   "cell_type": "code",
   "execution_count": 593,
   "id": "592a2882-a005-467b-8ebc-5cb0c097b354",
   "metadata": {},
   "outputs": [],
   "source": [
    "df['Width']=df['ScreenResolution'].apply(lambda x : (x.split()[-1].split('x')[0]))\n",
    "df['Height']=df['ScreenResolution'].apply(lambda x : (x.split()[-1].split('x')[1]))"
   ]
  },
  {
   "cell_type": "code",
   "execution_count": 594,
   "id": "65b3d617-cfa2-4c67-bc9d-f83ec585f376",
   "metadata": {},
   "outputs": [],
   "source": [
    "df['Height']=df['Height'].astype('int')\n",
    "df['Width']=df['Width'].astype('int')"
   ]
  },
  {
   "cell_type": "code",
   "execution_count": 595,
   "id": "2db2b6aa-9495-4e48-b507-4a64473df066",
   "metadata": {},
   "outputs": [],
   "source": [
    "df['ppi']=((df['Width']**2)+(df['Height']**2)**(1/2))/df['Inches']"
   ]
  },
  {
   "cell_type": "code",
   "execution_count": 596,
   "id": "b773338f-d38c-4ceb-b7de-56e000e03d59",
   "metadata": {},
   "outputs": [],
   "source": [
    "df['ppi']=df['ppi'].astype('float')\n"
   ]
  },
  {
   "cell_type": "code",
   "execution_count": 597,
   "id": "1df7f250-b533-4b1a-9178-7b93a2908999",
   "metadata": {},
   "outputs": [],
   "source": [
    "df['Touch']=df['ScreenResolution'].apply(lambda x:1 if 'Touchscreen' in x else 0)\n",
    "df['IPS']=df['ScreenResolution'].apply(lambda x:1 if 'IPS' in x else 0)\n"
   ]
  },
  {
   "cell_type": "code",
   "execution_count": 598,
   "id": "3a7f77ff-bae3-4e51-af3e-d87429a09270",
   "metadata": {},
   "outputs": [],
   "source": [
    "df['cpu_name']=df['Cpu'].apply(lambda x:' '.join(x.split()[:3]))"
   ]
  },
  {
   "cell_type": "code",
   "execution_count": 599,
   "id": "3d8137fc-06f2-4bef-90d6-d3a6bf91d4c1",
   "metadata": {},
   "outputs": [
    {
     "data": {
      "text/html": [
       "<div>\n",
       "<style scoped>\n",
       "    .dataframe tbody tr th:only-of-type {\n",
       "        vertical-align: middle;\n",
       "    }\n",
       "\n",
       "    .dataframe tbody tr th {\n",
       "        vertical-align: top;\n",
       "    }\n",
       "\n",
       "    .dataframe thead th {\n",
       "        text-align: right;\n",
       "    }\n",
       "</style>\n",
       "<table border=\"1\" class=\"dataframe\">\n",
       "  <thead>\n",
       "    <tr style=\"text-align: right;\">\n",
       "      <th></th>\n",
       "      <th>Company</th>\n",
       "      <th>TypeName</th>\n",
       "      <th>Inches</th>\n",
       "      <th>ScreenResolution</th>\n",
       "      <th>Cpu</th>\n",
       "      <th>Ram</th>\n",
       "      <th>Memory</th>\n",
       "      <th>Gpu</th>\n",
       "      <th>OpSys</th>\n",
       "      <th>Weight</th>\n",
       "      <th>Price</th>\n",
       "      <th>Memory_size</th>\n",
       "      <th>Memory_type</th>\n",
       "      <th>Width</th>\n",
       "      <th>Height</th>\n",
       "      <th>ppi</th>\n",
       "      <th>Touch</th>\n",
       "      <th>IPS</th>\n",
       "      <th>cpu_name</th>\n",
       "      <th>cpu_brand</th>\n",
       "    </tr>\n",
       "  </thead>\n",
       "  <tbody>\n",
       "    <tr>\n",
       "      <th>1054</th>\n",
       "      <td>Dell</td>\n",
       "      <td>Ultrabook</td>\n",
       "      <td>13.3</td>\n",
       "      <td>Quad HD+ / Touchscreen 3200x1800</td>\n",
       "      <td>Intel Core i7 7500U 2.7GHz</td>\n",
       "      <td>16</td>\n",
       "      <td>1TB SSD</td>\n",
       "      <td>Intel HD Graphics 620</td>\n",
       "      <td>Windows 10</td>\n",
       "      <td>1.20</td>\n",
       "      <td>120093.12</td>\n",
       "      <td>1000.0</td>\n",
       "      <td>SSD</td>\n",
       "      <td>3200</td>\n",
       "      <td>1800</td>\n",
       "      <td>770060.150376</td>\n",
       "      <td>1</td>\n",
       "      <td>0</td>\n",
       "      <td>Intel Core i7</td>\n",
       "      <td>Intel Core i7</td>\n",
       "    </tr>\n",
       "    <tr>\n",
       "      <th>580</th>\n",
       "      <td>Mediacom</td>\n",
       "      <td>Notebook</td>\n",
       "      <td>14.0</td>\n",
       "      <td>IPS Panel Full HD 1920x1080</td>\n",
       "      <td>Intel Celeron Quad Core N3450 1.1GHz</td>\n",
       "      <td>4</td>\n",
       "      <td>32GB SSD</td>\n",
       "      <td>Intel HD Graphics 500</td>\n",
       "      <td>Windows 10</td>\n",
       "      <td>1.45</td>\n",
       "      <td>20725.92</td>\n",
       "      <td>32.0</td>\n",
       "      <td>SSD</td>\n",
       "      <td>1920</td>\n",
       "      <td>1080</td>\n",
       "      <td>263391.428571</td>\n",
       "      <td>0</td>\n",
       "      <td>1</td>\n",
       "      <td>Intel Celeron Quad</td>\n",
       "      <td>Intel</td>\n",
       "    </tr>\n",
       "    <tr>\n",
       "      <th>187</th>\n",
       "      <td>Lenovo</td>\n",
       "      <td>Gaming</td>\n",
       "      <td>15.6</td>\n",
       "      <td>IPS Panel Full HD 1920x1080</td>\n",
       "      <td>Intel Core i5 7300HQ 2.5GHz</td>\n",
       "      <td>8</td>\n",
       "      <td>256GB SSD</td>\n",
       "      <td>Nvidia GeForce GTX 1050</td>\n",
       "      <td>No OS</td>\n",
       "      <td>2.40</td>\n",
       "      <td>41505.12</td>\n",
       "      <td>256.0</td>\n",
       "      <td>SSD</td>\n",
       "      <td>1920</td>\n",
       "      <td>1080</td>\n",
       "      <td>236376.923077</td>\n",
       "      <td>0</td>\n",
       "      <td>1</td>\n",
       "      <td>Intel Core i5</td>\n",
       "      <td>Intel Core i5</td>\n",
       "    </tr>\n",
       "    <tr>\n",
       "      <th>732</th>\n",
       "      <td>HP</td>\n",
       "      <td>Notebook</td>\n",
       "      <td>15.6</td>\n",
       "      <td>Full HD 1920x1080</td>\n",
       "      <td>AMD A9-Series A9-9420 3GHz</td>\n",
       "      <td>6</td>\n",
       "      <td>128GB SSD +  1TB HDD</td>\n",
       "      <td>AMD Radeon 520</td>\n",
       "      <td>Windows 10</td>\n",
       "      <td>2.10</td>\n",
       "      <td>34632.00</td>\n",
       "      <td>128.0</td>\n",
       "      <td>SSD</td>\n",
       "      <td>1920</td>\n",
       "      <td>1080</td>\n",
       "      <td>236376.923077</td>\n",
       "      <td>0</td>\n",
       "      <td>0</td>\n",
       "      <td>AMD A9-Series A9-9420</td>\n",
       "      <td>AMB</td>\n",
       "    </tr>\n",
       "    <tr>\n",
       "      <th>1078</th>\n",
       "      <td>Lenovo</td>\n",
       "      <td>Notebook</td>\n",
       "      <td>15.6</td>\n",
       "      <td>1366x768</td>\n",
       "      <td>Intel Core i5 6200U 2.3GHz</td>\n",
       "      <td>4</td>\n",
       "      <td>500GB HDD</td>\n",
       "      <td>Intel HD Graphics 520</td>\n",
       "      <td>Windows 10</td>\n",
       "      <td>2.10</td>\n",
       "      <td>28771.20</td>\n",
       "      <td>500.0</td>\n",
       "      <td>HDD</td>\n",
       "      <td>1366</td>\n",
       "      <td>768</td>\n",
       "      <td>119661.794872</td>\n",
       "      <td>0</td>\n",
       "      <td>0</td>\n",
       "      <td>Intel Core i5</td>\n",
       "      <td>Intel Core i5</td>\n",
       "    </tr>\n",
       "  </tbody>\n",
       "</table>\n",
       "</div>"
      ],
      "text/plain": [
       "       Company   TypeName  Inches                  ScreenResolution  \\\n",
       "1054      Dell  Ultrabook    13.3  Quad HD+ / Touchscreen 3200x1800   \n",
       "580   Mediacom   Notebook    14.0       IPS Panel Full HD 1920x1080   \n",
       "187     Lenovo     Gaming    15.6       IPS Panel Full HD 1920x1080   \n",
       "732         HP   Notebook    15.6                 Full HD 1920x1080   \n",
       "1078    Lenovo   Notebook    15.6                          1366x768   \n",
       "\n",
       "                                       Cpu  Ram                Memory  \\\n",
       "1054            Intel Core i7 7500U 2.7GHz   16               1TB SSD   \n",
       "580   Intel Celeron Quad Core N3450 1.1GHz    4              32GB SSD   \n",
       "187            Intel Core i5 7300HQ 2.5GHz    8             256GB SSD   \n",
       "732             AMD A9-Series A9-9420 3GHz    6  128GB SSD +  1TB HDD   \n",
       "1078            Intel Core i5 6200U 2.3GHz    4             500GB HDD   \n",
       "\n",
       "                          Gpu       OpSys  Weight      Price  Memory_size  \\\n",
       "1054    Intel HD Graphics 620  Windows 10    1.20  120093.12       1000.0   \n",
       "580     Intel HD Graphics 500  Windows 10    1.45   20725.92         32.0   \n",
       "187   Nvidia GeForce GTX 1050       No OS    2.40   41505.12        256.0   \n",
       "732            AMD Radeon 520  Windows 10    2.10   34632.00        128.0   \n",
       "1078    Intel HD Graphics 520  Windows 10    2.10   28771.20        500.0   \n",
       "\n",
       "     Memory_type  Width  Height            ppi  Touch  IPS  \\\n",
       "1054         SSD   3200    1800  770060.150376      1    0   \n",
       "580          SSD   1920    1080  263391.428571      0    1   \n",
       "187          SSD   1920    1080  236376.923077      0    1   \n",
       "732          SSD   1920    1080  236376.923077      0    0   \n",
       "1078         HDD   1366     768  119661.794872      0    0   \n",
       "\n",
       "                   cpu_name      cpu_brand  \n",
       "1054          Intel Core i7  Intel Core i7  \n",
       "580      Intel Celeron Quad          Intel  \n",
       "187           Intel Core i5  Intel Core i5  \n",
       "732   AMD A9-Series A9-9420            AMB  \n",
       "1078          Intel Core i5  Intel Core i5  "
      ]
     },
     "execution_count": 599,
     "metadata": {},
     "output_type": "execute_result"
    }
   ],
   "source": [
    "def cpuu(name):\n",
    "    if 'i5' in name or 'i7' in name or 'i3' in name:\n",
    "        return name\n",
    "    elif name.split()[0] == 'Intel':\n",
    "        return name.split()[0]\n",
    "    else:\n",
    "        return f'AMB'\n",
    "df['cpu_brand']=df['cpu_name'].apply(cpuu)\n",
    "df.sample(5)"
   ]
  },
  {
   "cell_type": "code",
   "execution_count": 600,
   "id": "ed989eda-ffce-4424-9c1f-68543e400021",
   "metadata": {},
   "outputs": [],
   "source": [
    "df['Gpu_brand']=df['Gpu'].apply(lambda x :x.split()[0])"
   ]
  },
  {
   "cell_type": "code",
   "execution_count": 601,
   "id": "03f06a39-cc7d-497b-9ba3-85061db9ff4a",
   "metadata": {},
   "outputs": [],
   "source": [
    "# Drop all unnecessary columns\n",
    "df.drop(columns=['ScreenResolution','Inches','Width','Height','Gpu','Cpu','Memory'],inplace=True)"
   ]
  },
  {
   "cell_type": "code",
   "execution_count": 602,
   "id": "ffa83004-fb1f-4e93-bd16-54543c6895e7",
   "metadata": {},
   "outputs": [],
   "source": [
    "df.drop(columns=['cpu_name'],inplace=True)"
   ]
  },
  {
   "cell_type": "code",
   "execution_count": 603,
   "id": "6f114762-ed1d-47ee-84b0-d4b39654f4c0",
   "metadata": {},
   "outputs": [
    {
     "data": {
      "text/plain": [
       "Index(['Company', 'TypeName', 'Ram', 'OpSys', 'Weight', 'Price', 'Memory_size',\n",
       "       'Memory_type', 'ppi', 'Touch', 'IPS', 'cpu_brand', 'Gpu_brand'],\n",
       "      dtype='object')"
      ]
     },
     "execution_count": 603,
     "metadata": {},
     "output_type": "execute_result"
    }
   ],
   "source": [
    "df.columns"
   ]
  },
  {
   "cell_type": "code",
   "execution_count": 604,
   "id": "56d7b6eb-7e7a-4a3f-b8fb-ec622b0eb1cc",
   "metadata": {},
   "outputs": [
    {
     "data": {
      "text/plain": [
       "array(['macOS', 'No OS', 'Windows 10', 'Mac OS X', 'Linux',\n",
       "       'Windows 10 S', 'Chrome OS', 'Windows 7', 'Android'], dtype=object)"
      ]
     },
     "execution_count": 604,
     "metadata": {},
     "output_type": "execute_result"
    }
   ],
   "source": [
    "df['OpSys'].unique()"
   ]
  },
  {
   "cell_type": "code",
   "execution_count": 605,
   "id": "5bab36d2-d303-44ca-b8ec-1fab122d215d",
   "metadata": {},
   "outputs": [],
   "source": [
    "def opsys(name):\n",
    "    if 'Windows' in name:\n",
    "        return f'Windows'\n",
    "    elif 'Mac' in name or 'mac' in name:\n",
    "        return f'Mac'\n",
    "    elif 'Linux' in name:\n",
    "        return name\n",
    "    else:\n",
    "        return f'Chrome/No Os'\n",
    "df['OpSys']=df['OpSys'].apply(opsys)"
   ]
  },
  {
   "cell_type": "code",
   "execution_count": 606,
   "id": "1b40e0d9-32e4-4508-961a-82a7653a3f53",
   "metadata": {},
   "outputs": [
    {
     "data": {
      "text/html": [
       "<div>\n",
       "<style scoped>\n",
       "    .dataframe tbody tr th:only-of-type {\n",
       "        vertical-align: middle;\n",
       "    }\n",
       "\n",
       "    .dataframe tbody tr th {\n",
       "        vertical-align: top;\n",
       "    }\n",
       "\n",
       "    .dataframe thead th {\n",
       "        text-align: right;\n",
       "    }\n",
       "</style>\n",
       "<table border=\"1\" class=\"dataframe\">\n",
       "  <thead>\n",
       "    <tr style=\"text-align: right;\">\n",
       "      <th></th>\n",
       "      <th>Company</th>\n",
       "      <th>TypeName</th>\n",
       "      <th>Ram</th>\n",
       "      <th>OpSys</th>\n",
       "      <th>Weight</th>\n",
       "      <th>Price</th>\n",
       "      <th>Memory_size</th>\n",
       "      <th>Memory_type</th>\n",
       "      <th>ppi</th>\n",
       "      <th>Touch</th>\n",
       "      <th>IPS</th>\n",
       "      <th>cpu_brand</th>\n",
       "      <th>Gpu_brand</th>\n",
       "    </tr>\n",
       "  </thead>\n",
       "  <tbody>\n",
       "    <tr>\n",
       "      <th>1181</th>\n",
       "      <td>Lenovo</td>\n",
       "      <td>Ultrabook</td>\n",
       "      <td>6</td>\n",
       "      <td>Windows</td>\n",
       "      <td>1.54</td>\n",
       "      <td>44275.68</td>\n",
       "      <td>256.0</td>\n",
       "      <td>SSD</td>\n",
       "      <td>236376.923077</td>\n",
       "      <td>0</td>\n",
       "      <td>0</td>\n",
       "      <td>Intel Core i7</td>\n",
       "      <td>Nvidia</td>\n",
       "    </tr>\n",
       "    <tr>\n",
       "      <th>824</th>\n",
       "      <td>Lenovo</td>\n",
       "      <td>Ultrabook</td>\n",
       "      <td>8</td>\n",
       "      <td>Windows</td>\n",
       "      <td>1.13</td>\n",
       "      <td>99900.00</td>\n",
       "      <td>256.0</td>\n",
       "      <td>Flash</td>\n",
       "      <td>263391.428571</td>\n",
       "      <td>0</td>\n",
       "      <td>1</td>\n",
       "      <td>Intel Core i5</td>\n",
       "      <td>Intel</td>\n",
       "    </tr>\n",
       "    <tr>\n",
       "      <th>1022</th>\n",
       "      <td>HP</td>\n",
       "      <td>Notebook</td>\n",
       "      <td>8</td>\n",
       "      <td>Windows</td>\n",
       "      <td>1.11</td>\n",
       "      <td>61218.72</td>\n",
       "      <td>256.0</td>\n",
       "      <td>SSD</td>\n",
       "      <td>277254.135338</td>\n",
       "      <td>0</td>\n",
       "      <td>1</td>\n",
       "      <td>Intel Core i5</td>\n",
       "      <td>Intel</td>\n",
       "    </tr>\n",
       "    <tr>\n",
       "      <th>463</th>\n",
       "      <td>Lenovo</td>\n",
       "      <td>Notebook</td>\n",
       "      <td>8</td>\n",
       "      <td>Chrome/No Os</td>\n",
       "      <td>1.50</td>\n",
       "      <td>42570.72</td>\n",
       "      <td>512.0</td>\n",
       "      <td>SSD</td>\n",
       "      <td>263391.428571</td>\n",
       "      <td>0</td>\n",
       "      <td>1</td>\n",
       "      <td>Intel Core i7</td>\n",
       "      <td>AMD</td>\n",
       "    </tr>\n",
       "  </tbody>\n",
       "</table>\n",
       "</div>"
      ],
      "text/plain": [
       "     Company   TypeName  Ram         OpSys  Weight     Price  Memory_size  \\\n",
       "1181  Lenovo  Ultrabook    6       Windows    1.54  44275.68        256.0   \n",
       "824   Lenovo  Ultrabook    8       Windows    1.13  99900.00        256.0   \n",
       "1022      HP   Notebook    8       Windows    1.11  61218.72        256.0   \n",
       "463   Lenovo   Notebook    8  Chrome/No Os    1.50  42570.72        512.0   \n",
       "\n",
       "     Memory_type            ppi  Touch  IPS      cpu_brand Gpu_brand  \n",
       "1181         SSD  236376.923077      0    0  Intel Core i7    Nvidia  \n",
       "824        Flash  263391.428571      0    1  Intel Core i5     Intel  \n",
       "1022         SSD  277254.135338      0    1  Intel Core i5     Intel  \n",
       "463          SSD  263391.428571      0    1  Intel Core i7       AMD  "
      ]
     },
     "execution_count": 606,
     "metadata": {},
     "output_type": "execute_result"
    }
   ],
   "source": [
    "df.sample(4)"
   ]
  },
  {
   "cell_type": "code",
   "execution_count": 607,
   "id": "9531097c-c8e6-4837-8192-ed1217bb7cc4",
   "metadata": {},
   "outputs": [
    {
     "data": {
      "text/plain": [
       "(1244, 13)"
      ]
     },
     "execution_count": 607,
     "metadata": {},
     "output_type": "execute_result"
    }
   ],
   "source": [
    "df.shape"
   ]
  },
  {
   "cell_type": "markdown",
   "id": "534c2820-8d6a-4741-ad15-b1056b382b95",
   "metadata": {},
   "source": [
    "## Data Visualization"
   ]
  },
  {
   "cell_type": "code",
   "execution_count": 608,
   "id": "9b9ded1b-d516-4b25-b3f0-f2ce5a535eb2",
   "metadata": {},
   "outputs": [
    {
     "data": {
      "text/plain": [
       "Index(['Company', 'TypeName', 'Ram', 'OpSys', 'Weight', 'Price', 'Memory_size',\n",
       "       'Memory_type', 'ppi', 'Touch', 'IPS', 'cpu_brand', 'Gpu_brand'],\n",
       "      dtype='object')"
      ]
     },
     "execution_count": 608,
     "metadata": {},
     "output_type": "execute_result"
    }
   ],
   "source": [
    "df.columns"
   ]
  },
  {
   "cell_type": "code",
   "execution_count": 609,
   "id": "2d3fadc6-b5fb-4a93-84b7-0284d07ccb2d",
   "metadata": {},
   "outputs": [
    {
     "data": {
      "text/plain": [
       "<Axes: xlabel='Price', ylabel='Company'>"
      ]
     },
     "execution_count": 609,
     "metadata": {},
     "output_type": "execute_result"
    },
    {
     "data": {
      "image/png": "[encoded data removed]",
      "text/plain": [
       "<Figure size 640x480 with 1 Axes>"
      ]
     },
     "metadata": {},
     "output_type": "display_data"
    }
   ],
   "source": [
    "sns.barplot(y=df['Company'],x=df['Price'],ci=None)\n",
    "\n",
    "# X.ticksrotation()"
   ]
  },
  {
   "cell_type": "code",
   "execution_count": 610,
   "id": "e6e57264-c249-42bd-a8d4-518760760cab",
   "metadata": {},
   "outputs": [
    {
     "data": {
      "image/png": "[encoded data removed]",
      "text/plain": [
       "<Figure size 640x480 with 1 Axes>"
      ]
     },
     "metadata": {},
     "output_type": "display_data"
    }
   ],
   "source": [
    "sns.barplot(x=df['TypeName'],y=df['Price'],hue=df['cpu_brand'],ci=None)\n",
    "plt.xticks(rotation='vertical')\n",
    "plt.show()"
   ]
  },
  {
   "cell_type": "code",
   "execution_count": 611,
   "id": "19d04c9b-5ae3-4880-8eaf-4657d0d135c8",
   "metadata": {},
   "outputs": [
    {
     "data": {
      "text/plain": [
       "<Axes: xlabel='Price', ylabel='OpSys'>"
      ]
     },
     "execution_count": 611,
     "metadata": {},
     "output_type": "execute_result"
    },
    {
     "data": {
      "image/png": "[encoded data removed]",
      "text/plain": [
       "<Figure size 640x480 with 1 Axes>"
      ]
     },
     "metadata": {},
     "output_type": "display_data"
    }
   ],
   "source": [
    "sns.barplot(y=df['OpSys'],x=df['Price'],hue=df['cpu_brand'],ci=True)"
   ]
  },
  {
   "cell_type": "code",
   "execution_count": 612,
   "id": "cb1009da-6bf6-4127-8017-ceac0dead30f",
   "metadata": {},
   "outputs": [
    {
     "data": {
      "text/plain": [
       "OpSys\n",
       "Chrome/No Os    31152.429574\n",
       "Linux           33182.494232\n",
       "Mac             83340.499886\n",
       "Windows         64109.506444\n",
       "Name: Price, dtype: float64"
      ]
     },
     "execution_count": 612,
     "metadata": {},
     "output_type": "execute_result"
    }
   ],
   "source": [
    "df.groupby(['OpSys'])['Price'].mean()"
   ]
  },
  {
   "cell_type": "code",
   "execution_count": 613,
   "id": "a851c5a0-9fe0-4814-819c-9479c5687af0",
   "metadata": {},
   "outputs": [
    {
     "data": {
      "text/plain": [
       "<Axes: xlabel='Price', ylabel='OpSys'>"
      ]
     },
     "execution_count": 613,
     "metadata": {},
     "output_type": "execute_result"
    },
    {
     "data": {
      "image/png": "[encoded data removed]",
      "text/plain": [
       "<Figure size 640x480 with 1 Axes>"
      ]
     },
     "metadata": {},
     "output_type": "display_data"
    }
   ],
   "source": [
    "sns.barplot(y=df['OpSys'],x=df['Price'],ci=None)"
   ]
  },
  {
   "cell_type": "code",
   "execution_count": 614,
   "id": "eecdddeb-2bb0-45d8-a174-2c033e56a38e",
   "metadata": {},
   "outputs": [
    {
     "data": {
      "text/plain": [
       "<Axes: xlabel='Price', ylabel='cpu_brand'>"
      ]
     },
     "execution_count": 614,
     "metadata": {},
     "output_type": "execute_result"
    },
    {
     "data": {
      "image/png": "[encoded data removed]",
      "text/plain": [
       "<Figure size 640x480 with 1 Axes>"
      ]
     },
     "metadata": {},
     "output_type": "display_data"
    }
   ],
   "source": [
    "sns.barplot(y=df['cpu_brand'],x=df['Price'],ci=None)"
   ]
  },
  {
   "cell_type": "markdown",
   "id": "859d6cd9-02da-40d5-8be4-c552a7c7a9e5",
   "metadata": {},
   "source": [
    "### lapi with No Touch Screen is being sold much"
   ]
  },
  {
   "cell_type": "code",
   "execution_count": 615,
   "id": "3992ea7f-2fb0-4977-8194-4137db6a0b30",
   "metadata": {},
   "outputs": [
    {
     "data": {
      "text/plain": [
       "<Axes: xlabel='Touch', ylabel='count'>"
      ]
     },
     "execution_count": 615,
     "metadata": {},
     "output_type": "execute_result"
    },
    {
     "data": {
      "image/png": "[encoded data removed]",
      "text/plain": [
       "<Figure size 640x480 with 1 Axes>"
      ]
     },
     "metadata": {},
     "output_type": "display_data"
    }
   ],
   "source": [
    "sns.countplot(x=df['Touch'],data=df)\n",
    "# plt.xticks(rotation='vertical')"
   ]
  },
  {
   "cell_type": "markdown",
   "id": "e8de1eda-4a72-4d51-b964-57dfa2f93c0d",
   "metadata": {},
   "source": [
    "### lapi with No IPS is being sold much"
   ]
  },
  {
   "cell_type": "code",
   "execution_count": 616,
   "id": "e5a70caf-d8f2-4841-b3ad-e6b92398a86f",
   "metadata": {},
   "outputs": [
    {
     "data": {
      "text/plain": [
       "<Axes: xlabel='IPS', ylabel='count'>"
      ]
     },
     "execution_count": 616,
     "metadata": {},
     "output_type": "execute_result"
    },
    {
     "data": {
      "image/png": "[encoded data removed]",
      "text/plain": [
       "<Figure size 640x480 with 1 Axes>"
      ]
     },
     "metadata": {},
     "output_type": "display_data"
    }
   ],
   "source": [
    "sns.countplot(x=df['IPS'],data=df)"
   ]
  },
  {
   "cell_type": "code",
   "execution_count": 617,
   "id": "97e53465-78ed-44b4-ad3d-c09cc1ff2c4c",
   "metadata": {},
   "outputs": [
    {
     "data": {
      "text/plain": [
       "count      1244.000000\n",
       "mean      60606.224427\n",
       "std       37424.636161\n",
       "min        9270.720000\n",
       "25%       32655.445200\n",
       "50%       52693.920000\n",
       "75%       79813.440000\n",
       "max      324954.720000\n",
       "Name: Price, dtype: float64"
      ]
     },
     "execution_count": 617,
     "metadata": {},
     "output_type": "execute_result"
    }
   ],
   "source": [
    "df['Price'].describe()"
   ]
  },
  {
   "cell_type": "code",
   "execution_count": 618,
   "id": "7dfd56e1-208c-41e9-b647-1c532e9a8cf7",
   "metadata": {},
   "outputs": [
    {
     "data": {
      "text/plain": [
       "<Axes: xlabel='Ram', ylabel='Price'>"
      ]
     },
     "execution_count": 618,
     "metadata": {},
     "output_type": "execute_result"
    },
    {
     "data": {
      "image/png": "[encoded data removed]",
      "text/plain": [
       "<Figure size 640x480 with 1 Axes>"
      ]
     },
     "metadata": {},
     "output_type": "display_data"
    }
   ],
   "source": [
    "df['Ram'].unique()\n",
    "sns.barplot(x=df['Ram'],y=df['Price'])\n",
    "# plt.xticks(labels, labels)\n",
    "# # pylab.rcParams['xtick.major.pad']='8'\n",
    "# # plt.xticks(np.arange(0, 11, step=1))  # ticks at 0, 2, 4, ..., 10\n",
    "# plt.tick_params(axis='x', which='major', labelsize=10)\n",
    "\n",
    "# plt.tight_layout()\n",
    "# df['Ram'].value_counts().plot(kind='bar')\n",
    "# ramm=df['Ram'].value_counts().reset_index(name='Count')\n",
    "# sns.scatterplot(x=ramm['Ram'],y=ramm['Count'])\n",
    "# ramm"
   ]
  },
  {
   "cell_type": "code",
   "execution_count": 619,
   "id": "b7c8fb2f-3cf6-42a0-bb06-0ccc465dc5da",
   "metadata": {},
   "outputs": [
    {
     "data": {
      "text/plain": [
       "<Axes: xlabel='Ram', ylabel='Count'>"
      ]
     },
     "execution_count": 619,
     "metadata": {},
     "output_type": "execute_result"
    },
    {
     "data": {
      "image/png": "[encoded data removed]",
      "text/plain": [
       "<Figure size 640x480 with 1 Axes>"
      ]
     },
     "metadata": {},
     "output_type": "display_data"
    }
   ],
   "source": [
    "sns.lineplot(x=ramm['Ram'],y=ramm['Count'])\n"
   ]
  },
  {
   "cell_type": "code",
   "execution_count": 621,
   "id": "ee1afd9f-d7e7-47e6-a3a2-2f362fb4e76d",
   "metadata": {},
   "outputs": [
    {
     "data": {
      "text/plain": [
       "Ram            0.681922\n",
       "Weight         0.176362\n",
       "Price          1.000000\n",
       "Memory_size   -0.125331\n",
       "ppi            0.475824\n",
       "Touch          0.186393\n",
       "IPS            0.252956\n",
       "Name: Price, dtype: float64"
      ]
     },
     "execution_count": 621,
     "metadata": {},
     "output_type": "execute_result"
    }
   ],
   "source": [
    "# check the corr \n",
    "df.corr(numeric_only=True)['Price']"
   ]
  },
  {
   "cell_type": "code",
   "execution_count": 623,
   "id": "ba35e0a5-6f03-4caf-8a53-c40f3845ffa8",
   "metadata": {},
   "outputs": [
    {
     "data": {
      "text/plain": [
       "(1244, 13)"
      ]
     },
     "execution_count": 623,
     "metadata": {},
     "output_type": "execute_result"
    }
   ],
   "source": [
    "df.shape"
   ]
  },
  {
   "cell_type": "code",
   "execution_count": 624,
   "id": "82508edf-9431-4c2f-b1ca-60fae4eaa24a",
   "metadata": {},
   "outputs": [
    {
     "data": {
      "text/plain": [
       "<Axes: xlabel='Price', ylabel='Count'>"
      ]
     },
     "execution_count": 624,
     "metadata": {},
     "output_type": "execute_result"
    },
    {
     "data": {
      "image/png": "[encoded data removed]",
      "text/plain": [
       "<Figure size 640x480 with 1 Axes>"
      ]
     },
     "metadata": {},
     "output_type": "display_data"
    }
   ],
   "source": [
    "sns.histplot(x=df['Price']) # Price is right skewed"
   ]
  },
  {
   "cell_type": "code",
   "execution_count": 625,
   "id": "90b57d2d-6831-4b7a-b145-b5af83965cf9",
   "metadata": {},
   "outputs": [],
   "source": [
    "df['Price'].skew()\n",
    "df['Price']=np.log(df['Price'])\n",
    "# sns.histplot(x=df['Price']) # Price is right skewed"
   ]
  },
  {
   "cell_type": "code",
   "execution_count": 626,
   "id": "7bb577d6-9607-4248-a602-f31bd8676459",
   "metadata": {},
   "outputs": [
    {
     "data": {
      "text/plain": [
       "Company        0\n",
       "TypeName       0\n",
       "Ram            0\n",
       "OpSys          0\n",
       "Weight         1\n",
       "Price          0\n",
       "Memory_size    1\n",
       "Memory_type    1\n",
       "ppi            1\n",
       "Touch          0\n",
       "IPS            0\n",
       "cpu_brand      0\n",
       "Gpu_brand      0\n",
       "dtype: int64"
      ]
     },
     "execution_count": 626,
     "metadata": {},
     "output_type": "execute_result"
    }
   ],
   "source": [
    "df.isna().sum()"
   ]
  },
  {
   "cell_type": "code",
   "execution_count": 627,
   "id": "34dbeb38-f1e5-4283-a625-66878c7d1b6d",
   "metadata": {},
   "outputs": [],
   "source": [
    "# df.dropna(inplace=True)"
   ]
  },
  {
   "cell_type": "markdown",
   "id": "52f10eb9-76a2-449a-a38c-8961f7eda4d8",
   "metadata": {},
   "source": [
    "### Model Training"
   ]
  },
  {
   "cell_type": "code",
   "execution_count": 628,
   "id": "a80a26fe-d428-479d-ae1d-7a8c7a0be2c5",
   "metadata": {},
   "outputs": [],
   "source": [
    "X=df.drop(columns=['Price'])"
   ]
  },
  {
   "cell_type": "code",
   "execution_count": 629,
   "id": "56bf063a-7e17-426d-9855-a29806e534e7",
   "metadata": {},
   "outputs": [],
   "source": [
    "y=df['Price']"
   ]
  },
  {
   "cell_type": "markdown",
   "id": "f225ca82-07db-4f49-ba61-562664a10d39",
   "metadata": {},
   "source": [
    "### Deploying all the sklearn libaries"
   ]
  },
  {
   "cell_type": "code",
   "execution_count": 630,
   "id": "5511505d-d0c1-4d08-af56-d10a953197d2",
   "metadata": {},
   "outputs": [],
   "source": [
    "from sklearn.compose import ColumnTransformer \n",
    "from sklearn.model_selection import train_test_split, cross_val_score\n",
    "from sklearn.impute import SimpleImputer \n",
    "from sklearn.preprocessing import OneHotEncoder, StandardScaler, MinMaxScaler,OrdinalEncoder\n",
    "from sklearn.pipeline import Pipeline,make_pipeline \n",
    "from sklearn.linear_model import LinearRegression\n",
    "\n",
    "from sklearn.ensemble import RandomForestRegressor "
   ]
  },
  {
   "cell_type": "markdown",
   "id": "eeaa3f00-bfe2-4391-b181-74e6c35400ed",
   "metadata": {},
   "source": [
    "### Spitting Train and test data for model training"
   ]
  },
  {
   "cell_type": "code",
   "execution_count": 631,
   "id": "c77f6c29-9539-40e0-9e34-a1838d2ba304",
   "metadata": {},
   "outputs": [],
   "source": [
    "X_train, X_test, y_train, y_test = train_test_split(X, \n",
    "\t\t\t\t\t\t\t\t\t\t\t\t\ty, \n",
    "\t\t\t\t\t\t\t\t\t\t\t\t\ttest_size = 0.2, random_state = 42) \n"
   ]
  },
  {
   "cell_type": "code",
   "execution_count": 632,
   "id": "685a95e2-e58d-4966-8409-a62343277253",
   "metadata": {},
   "outputs": [
    {
     "data": {
      "text/plain": [
       "['Ram', 'Weight', 'Memory_size', 'ppi']"
      ]
     },
     "execution_count": 632,
     "metadata": {},
     "output_type": "execute_result"
    }
   ],
   "source": [
    "cat=X.select_dtypes(include='object').columns.tolist()\n",
    "num=X.select_dtypes(exclude='object').columns.tolist()\n",
    "num=num[:-2]\n",
    "num"
   ]
  },
  {
   "cell_type": "markdown",
   "id": "8df34a52-978e-443e-90ff-7cf72a421451",
   "metadata": {},
   "source": [
    "### Column Transformer for Imputation,Scaling,OneHotEncoder"
   ]
  },
  {
   "cell_type": "code",
   "execution_count": 633,
   "id": "951b233b-252a-4db5-9fde-731c27b3647e",
   "metadata": {},
   "outputs": [],
   "source": [
    "categorical_transformer = Pipeline(steps=[\n",
    "    ('imputer', SimpleImputer(strategy='most_frequent')),\n",
    "    ('onehot', OneHotEncoder(sparse=False,drop='first')),\n",
    "    \n",
    "\n",
    "])\n",
    "\n",
    "numerical_transformer = Pipeline(steps=[\n",
    "    ('imputer', SimpleImputer(strategy='median')),\n",
    "    ('scale',StandardScaler())\n",
    "])\n",
    "\n",
    "# Bundle preprocessing for numerical and categorical data\n"
   ]
  },
  {
   "cell_type": "code",
   "execution_count": 634,
   "id": "e736d987-e16b-42aa-9d66-95f83c70b682",
   "metadata": {},
   "outputs": [],
   "source": [
    "preprocessor = ColumnTransformer(\n",
    "    transformers=[\n",
    "        ('num', numerical_transformer, num),\n",
    "        ('cat', categorical_transformer, cat)\n",
    "    ])"
   ]
  },
  {
   "cell_type": "code",
   "execution_count": 635,
   "id": "6d581857-239e-474b-a3f7-e825a0d57795",
   "metadata": {},
   "outputs": [],
   "source": [
    "model=LinearRegression()"
   ]
  },
  {
   "cell_type": "code",
   "execution_count": 636,
   "id": "a7622b06-e1fc-48bf-8634-a6b4a07fa5a3",
   "metadata": {},
   "outputs": [],
   "source": [
    "pipe=Pipeline([\n",
    "    (\"step1\",preprocessor),\n",
    "    ('step2',model)\n",
    "])"
   ]
  },
  {
   "cell_type": "code",
   "execution_count": 637,
   "id": "6b50f40b-7784-4d67-aaa2-a86e0ef91bf8",
   "metadata": {},
   "outputs": [
    {
     "data": {
      "text/html": [
       "<style>#sk-container-id-14 {color: black;background-color: white;}#sk-container-id-14 pre{padding: 0;}#sk-container-id-14 div.sk-toggleable {background-color: white;}#sk-container-id-14 label.sk-toggleable__label {cursor: pointer;display: block;width: 100%;margin-bottom: 0;padding: 0.3em;box-sizing: border-box;text-align: center;}#sk-container-id-14 label.sk-toggleable__label-arrow:before {content: \"▸\";float: left;margin-right: 0.25em;color: #696969;}#sk-container-id-14 label.sk-toggleable__label-arrow:hover:before {color: black;}#sk-container-id-14 div.sk-estimator:hover label.sk-toggleable__label-arrow:before {color: black;}#sk-container-id-14 div.sk-toggleable__content {max-height: 0;max-width: 0;overflow: hidden;text-align: left;background-color: #f0f8ff;}#sk-container-id-14 div.sk-toggleable__content pre {margin: 0.2em;color: black;border-radius: 0.25em;background-color: #f0f8ff;}#sk-container-id-14 input.sk-toggleable__control:checked~div.sk-toggleable__content {max-height: 200px;max-width: 100%;overflow: auto;}#sk-container-id-14 input.sk-toggleable__control:checked~label.sk-toggleable__label-arrow:before {content: \"▾\";}#sk-container-id-14 div.sk-estimator input.sk-toggleable__control:checked~label.sk-toggleable__label {background-color: #d4ebff;}#sk-container-id-14 div.sk-label input.sk-toggleable__control:checked~label.sk-toggleable__label {background-color: #d4ebff;}#sk-container-id-14 input.sk-hidden--visually {border: 0;clip: rect(1px 1px 1px 1px);clip: rect(1px, 1px, 1px, 1px);height: 1px;margin: -1px;overflow: hidden;padding: 0;position: absolute;width: 1px;}#sk-container-id-14 div.sk-estimator {font-family: monospace;background-color: #f0f8ff;border: 1px dotted black;border-radius: 0.25em;box-sizing: border-box;margin-bottom: 0.5em;}#sk-container-id-14 div.sk-estimator:hover {background-color: #d4ebff;}#sk-container-id-14 div.sk-parallel-item::after {content: \"\";width: 100%;border-bottom: 1px solid gray;flex-grow: 1;}#sk-container-id-14 div.sk-label:hover label.sk-toggleable__label {background-color: #d4ebff;}#sk-container-id-14 div.sk-serial::before {content: \"\";position: absolute;border-left: 1px solid gray;box-sizing: border-box;top: 0;bottom: 0;left: 50%;z-index: 0;}#sk-container-id-14 div.sk-serial {display: flex;flex-direction: column;align-items: center;background-color: white;padding-right: 0.2em;padding-left: 0.2em;position: relative;}#sk-container-id-14 div.sk-item {position: relative;z-index: 1;}#sk-container-id-14 div.sk-parallel {display: flex;align-items: stretch;justify-content: center;background-color: white;position: relative;}#sk-container-id-14 div.sk-item::before, #sk-container-id-14 div.sk-parallel-item::before {content: \"\";position: absolute;border-left: 1px solid gray;box-sizing: border-box;top: 0;bottom: 0;left: 50%;z-index: -1;}#sk-container-id-14 div.sk-parallel-item {display: flex;flex-direction: column;z-index: 1;position: relative;background-color: white;}#sk-container-id-14 div.sk-parallel-item:first-child::after {align-self: flex-end;width: 50%;}#sk-container-id-14 div.sk-parallel-item:last-child::after {align-self: flex-start;width: 50%;}#sk-container-id-14 div.sk-parallel-item:only-child::after {width: 0;}#sk-container-id-14 div.sk-dashed-wrapped {border: 1px dashed gray;margin: 0 0.4em 0.5em 0.4em;box-sizing: border-box;padding-bottom: 0.4em;background-color: white;}#sk-container-id-14 div.sk-label label {font-family: monospace;font-weight: bold;display: inline-block;line-height: 1.2em;}#sk-container-id-14 div.sk-label-container {text-align: center;}#sk-container-id-14 div.sk-container {/* jupyter's `normalize.less` sets `[hidden] { display: none; }` but bootstrap.min.css set `[hidden] { display: none !important; }` so we also need the `!important` here to be able to override the default hidden behavior on the sphinx rendered scikit-learn.org. See: https://github.com/scikit-learn/scikit-learn/issues/21755 */display: inline-block !important;position: relative;}#sk-container-id-14 div.sk-text-repr-fallback {display: none;}</style><div id=\"sk-container-id-14\" class=\"sk-top-container\"><div class=\"sk-text-repr-fallback\"><pre>Pipeline(steps=[(&#x27;step1&#x27;,\n",
       "                 ColumnTransformer(transformers=[(&#x27;num&#x27;,\n",
       "                                                  Pipeline(steps=[(&#x27;imputer&#x27;,\n",
       "                                                                   SimpleImputer(strategy=&#x27;median&#x27;)),\n",
       "                                                                  (&#x27;scale&#x27;,\n",
       "                                                                   StandardScaler())]),\n",
       "                                                  [&#x27;Ram&#x27;, &#x27;Weight&#x27;,\n",
       "                                                   &#x27;Memory_size&#x27;, &#x27;ppi&#x27;]),\n",
       "                                                 (&#x27;cat&#x27;,\n",
       "                                                  Pipeline(steps=[(&#x27;imputer&#x27;,\n",
       "                                                                   SimpleImputer(strategy=&#x27;most_frequent&#x27;)),\n",
       "                                                                  (&#x27;onehot&#x27;,\n",
       "                                                                   OneHotEncoder(drop=&#x27;first&#x27;,\n",
       "                                                                                 sparse=False))]),\n",
       "                                                  [&#x27;Company&#x27;, &#x27;TypeName&#x27;,\n",
       "                                                   &#x27;OpSys&#x27;, &#x27;Memory_type&#x27;,\n",
       "                                                   &#x27;cpu_brand&#x27;,\n",
       "                                                   &#x27;Gpu_brand&#x27;])])),\n",
       "                (&#x27;step2&#x27;, LinearRegression())])</pre><b>In a Jupyter environment, please rerun this cell to show the HTML representation or trust the notebook. <br />On GitHub, the HTML representation is unable to render, please try loading this page with nbviewer.org.</b></div><div class=\"sk-container\" hidden><div class=\"sk-item sk-dashed-wrapped\"><div class=\"sk-label-container\"><div class=\"sk-label sk-toggleable\"><input class=\"sk-toggleable__control sk-hidden--visually\" id=\"sk-estimator-id-86\" type=\"checkbox\" ><label for=\"sk-estimator-id-86\" class=\"sk-toggleable__label sk-toggleable__label-arrow\">Pipeline</label><div class=\"sk-toggleable__content\"><pre>Pipeline(steps=[(&#x27;step1&#x27;,\n",
       "                 ColumnTransformer(transformers=[(&#x27;num&#x27;,\n",
       "                                                  Pipeline(steps=[(&#x27;imputer&#x27;,\n",
       "                                                                   SimpleImputer(strategy=&#x27;median&#x27;)),\n",
       "                                                                  (&#x27;scale&#x27;,\n",
       "                                                                   StandardScaler())]),\n",
       "                                                  [&#x27;Ram&#x27;, &#x27;Weight&#x27;,\n",
       "                                                   &#x27;Memory_size&#x27;, &#x27;ppi&#x27;]),\n",
       "                                                 (&#x27;cat&#x27;,\n",
       "                                                  Pipeline(steps=[(&#x27;imputer&#x27;,\n",
       "                                                                   SimpleImputer(strategy=&#x27;most_frequent&#x27;)),\n",
       "                                                                  (&#x27;onehot&#x27;,\n",
       "                                                                   OneHotEncoder(drop=&#x27;first&#x27;,\n",
       "                                                                                 sparse=False))]),\n",
       "                                                  [&#x27;Company&#x27;, &#x27;TypeName&#x27;,\n",
       "                                                   &#x27;OpSys&#x27;, &#x27;Memory_type&#x27;,\n",
       "                                                   &#x27;cpu_brand&#x27;,\n",
       "                                                   &#x27;Gpu_brand&#x27;])])),\n",
       "                (&#x27;step2&#x27;, LinearRegression())])</pre></div></div></div><div class=\"sk-serial\"><div class=\"sk-item sk-dashed-wrapped\"><div class=\"sk-label-container\"><div class=\"sk-label sk-toggleable\"><input class=\"sk-toggleable__control sk-hidden--visually\" id=\"sk-estimator-id-87\" type=\"checkbox\" ><label for=\"sk-estimator-id-87\" class=\"sk-toggleable__label sk-toggleable__label-arrow\">step1: ColumnTransformer</label><div class=\"sk-toggleable__content\"><pre>ColumnTransformer(transformers=[(&#x27;num&#x27;,\n",
       "                                 Pipeline(steps=[(&#x27;imputer&#x27;,\n",
       "                                                  SimpleImputer(strategy=&#x27;median&#x27;)),\n",
       "                                                 (&#x27;scale&#x27;, StandardScaler())]),\n",
       "                                 [&#x27;Ram&#x27;, &#x27;Weight&#x27;, &#x27;Memory_size&#x27;, &#x27;ppi&#x27;]),\n",
       "                                (&#x27;cat&#x27;,\n",
       "                                 Pipeline(steps=[(&#x27;imputer&#x27;,\n",
       "                                                  SimpleImputer(strategy=&#x27;most_frequent&#x27;)),\n",
       "                                                 (&#x27;onehot&#x27;,\n",
       "                                                  OneHotEncoder(drop=&#x27;first&#x27;,\n",
       "                                                                sparse=False))]),\n",
       "                                 [&#x27;Company&#x27;, &#x27;TypeName&#x27;, &#x27;OpSys&#x27;, &#x27;Memory_type&#x27;,\n",
       "                                  &#x27;cpu_brand&#x27;, &#x27;Gpu_brand&#x27;])])</pre></div></div></div><div class=\"sk-parallel\"><div class=\"sk-parallel-item\"><div class=\"sk-item\"><div class=\"sk-label-container\"><div class=\"sk-label sk-toggleable\"><input class=\"sk-toggleable__control sk-hidden--visually\" id=\"sk-estimator-id-88\" type=\"checkbox\" ><label for=\"sk-estimator-id-88\" class=\"sk-toggleable__label sk-toggleable__label-arrow\">num</label><div class=\"sk-toggleable__content\"><pre>[&#x27;Ram&#x27;, &#x27;Weight&#x27;, &#x27;Memory_size&#x27;, &#x27;ppi&#x27;]</pre></div></div></div><div class=\"sk-serial\"><div class=\"sk-item\"><div class=\"sk-serial\"><div class=\"sk-item\"><div class=\"sk-estimator sk-toggleable\"><input class=\"sk-toggleable__control sk-hidden--visually\" id=\"sk-estimator-id-89\" type=\"checkbox\" ><label for=\"sk-estimator-id-89\" class=\"sk-toggleable__label sk-toggleable__label-arrow\">SimpleImputer</label><div class=\"sk-toggleable__content\"><pre>SimpleImputer(strategy=&#x27;median&#x27;)</pre></div></div></div><div class=\"sk-item\"><div class=\"sk-estimator sk-toggleable\"><input class=\"sk-toggleable__control sk-hidden--visually\" id=\"sk-estimator-id-90\" type=\"checkbox\" ><label for=\"sk-estimator-id-90\" class=\"sk-toggleable__label sk-toggleable__label-arrow\">StandardScaler</label><div class=\"sk-toggleable__content\"><pre>StandardScaler()</pre></div></div></div></div></div></div></div></div><div class=\"sk-parallel-item\"><div class=\"sk-item\"><div class=\"sk-label-container\"><div class=\"sk-label sk-toggleable\"><input class=\"sk-toggleable__control sk-hidden--visually\" id=\"sk-estimator-id-91\" type=\"checkbox\" ><label for=\"sk-estimator-id-91\" class=\"sk-toggleable__label sk-toggleable__label-arrow\">cat</label><div class=\"sk-toggleable__content\"><pre>[&#x27;Company&#x27;, &#x27;TypeName&#x27;, &#x27;OpSys&#x27;, &#x27;Memory_type&#x27;, &#x27;cpu_brand&#x27;, &#x27;Gpu_brand&#x27;]</pre></div></div></div><div class=\"sk-serial\"><div class=\"sk-item\"><div class=\"sk-serial\"><div class=\"sk-item\"><div class=\"sk-estimator sk-toggleable\"><input class=\"sk-toggleable__control sk-hidden--visually\" id=\"sk-estimator-id-92\" type=\"checkbox\" ><label for=\"sk-estimator-id-92\" class=\"sk-toggleable__label sk-toggleable__label-arrow\">SimpleImputer</label><div class=\"sk-toggleable__content\"><pre>SimpleImputer(strategy=&#x27;most_frequent&#x27;)</pre></div></div></div><div class=\"sk-item\"><div class=\"sk-estimator sk-toggleable\"><input class=\"sk-toggleable__control sk-hidden--visually\" id=\"sk-estimator-id-93\" type=\"checkbox\" ><label for=\"sk-estimator-id-93\" class=\"sk-toggleable__label sk-toggleable__label-arrow\">OneHotEncoder</label><div class=\"sk-toggleable__content\"><pre>OneHotEncoder(drop=&#x27;first&#x27;, sparse=False)</pre></div></div></div></div></div></div></div></div></div></div><div class=\"sk-item\"><div class=\"sk-estimator sk-toggleable\"><input class=\"sk-toggleable__control sk-hidden--visually\" id=\"sk-estimator-id-94\" type=\"checkbox\" ><label for=\"sk-estimator-id-94\" class=\"sk-toggleable__label sk-toggleable__label-arrow\">LinearRegression</label><div class=\"sk-toggleable__content\"><pre>LinearRegression()</pre></div></div></div></div></div></div></div>"
      ],
      "text/plain": [
       "Pipeline(steps=[('step1',\n",
       "                 ColumnTransformer(transformers=[('num',\n",
       "                                                  Pipeline(steps=[('imputer',\n",
       "                                                                   SimpleImputer(strategy='median')),\n",
       "                                                                  ('scale',\n",
       "                                                                   StandardScaler())]),\n",
       "                                                  ['Ram', 'Weight',\n",
       "                                                   'Memory_size', 'ppi']),\n",
       "                                                 ('cat',\n",
       "                                                  Pipeline(steps=[('imputer',\n",
       "                                                                   SimpleImputer(strategy='most_frequent')),\n",
       "                                                                  ('onehot',\n",
       "                                                                   OneHotEncoder(drop='first',\n",
       "                                                                                 sparse=False))]),\n",
       "                                                  ['Company', 'TypeName',\n",
       "                                                   'OpSys', 'Memory_type',\n",
       "                                                   'cpu_brand',\n",
       "                                                   'Gpu_brand'])])),\n",
       "                ('step2', LinearRegression())])"
      ]
     },
     "execution_count": 637,
     "metadata": {},
     "output_type": "execute_result"
    }
   ],
   "source": [
    "pipe.fit(X_train,y_train)"
   ]
  },
  {
   "cell_type": "code",
   "execution_count": 638,
   "id": "6fd218c9-78bd-4dad-8857-0ad4cd15b2d5",
   "metadata": {},
   "outputs": [],
   "source": [
    "y_predict_linear=pipe.predict(X_test)"
   ]
  },
  {
   "cell_type": "markdown",
   "id": "7040f810-ef11-4722-9baf-8d909c8d74a5",
   "metadata": {},
   "source": [
    "### Model Evaluation"
   ]
  },
  {
   "cell_type": "code",
   "execution_count": 639,
   "id": "43503748-1c8f-48d5-a711-f8fb18a566c6",
   "metadata": {},
   "outputs": [
    {
     "name": "stdout",
     "output_type": "stream",
     "text": [
      "0.27651359891796917\n",
      "0.7831559222975285\n"
     ]
    }
   ],
   "source": [
    "from sklearn.metrics import mean_squared_error,r2_score\n",
    "mse=mean_squared_error(y_test,y_predict_linear)\n",
    "print(np.sqrt(mse)) # root mean squared error\n",
    "print(r2_score(y_test,y_predict_linear))"
   ]
  },
  {
   "cell_type": "code",
   "execution_count": 640,
   "id": "8e933173-b33b-4dc9-9e0c-8e3398027cd3",
   "metadata": {},
   "outputs": [
    {
     "data": {
      "text/plain": [
       "0.7831559222975285"
      ]
     },
     "execution_count": 640,
     "metadata": {},
     "output_type": "execute_result"
    }
   ],
   "source": [
    "r2_score(y_test,y_predict_linear)"
   ]
  },
  {
   "cell_type": "markdown",
   "id": "95ecbd3a-42ed-4996-8138-86fd9625c419",
   "metadata": {},
   "source": [
    "### K fold cross validation"
   ]
  },
  {
   "cell_type": "code",
   "execution_count": 641,
   "id": "c379befb-700a-4364-9f87-5df8486bc4b3",
   "metadata": {},
   "outputs": [],
   "source": [
    "from sklearn.model_selection import train_test_split, cross_val_score \n",
    "\n",
    "scores = cross_val_score(pipe, X, y, scoring='r2', cv=5, n_jobs=-1)"
   ]
  },
  {
   "cell_type": "code",
   "execution_count": 642,
   "id": "f2489fc6-b1e0-4229-860a-112ceae4eed3",
   "metadata": {},
   "outputs": [],
   "source": [
    "pipe=Pipeline([\n",
    "    (\"step1\",preprocessor),\n",
    "    ('step2',model)\n",
    "])"
   ]
  },
  {
   "cell_type": "code",
   "execution_count": 643,
   "id": "eeb80db8-318c-45cc-9e73-6876ffc16573",
   "metadata": {},
   "outputs": [],
   "source": [
    "# # Evaluate the model using K-Fold cross-validation\n",
    "# from sklearn.model_selection import KFold\n",
    "# kf = KFold(n_splits=5, shuffle=True, random_state=42)\n",
    "# cv_scores = cross_val_score(estimator=pipe, X_train, y_train, cv=kf)\n"
   ]
  },
  {
   "cell_type": "code",
   "execution_count": 644,
   "id": "85baf8d7-a3bf-4f94-9320-571451a92a96",
   "metadata": {},
   "outputs": [],
   "source": [
    "# cv_scores"
   ]
  },
  {
   "cell_type": "code",
   "execution_count": 645,
   "id": "b58ae446-1f4e-41ce-8ae7-6536f6908d17",
   "metadata": {},
   "outputs": [],
   "source": [
    "from sklearn.ensemble import GradientBoostingRegressor\n",
    "GradientBoosting=GradientBoostingRegressor()"
   ]
  },
  {
   "cell_type": "code",
   "execution_count": 646,
   "id": "1f8f6002-2d6b-4241-aba2-12a25295f81b",
   "metadata": {},
   "outputs": [],
   "source": [
    "%%capture\n",
    "pip install xgboost\n"
   ]
  },
  {
   "cell_type": "code",
   "execution_count": 649,
   "id": "f3dffb88-ff60-4a2c-8392-d54a08d6d320",
   "metadata": {},
   "outputs": [],
   "source": [
    "from xgboost import XGBRegressor\n",
    "XGBRegressor=XGBRegressor()\n"
   ]
  },
  {
   "cell_type": "code",
   "execution_count": 652,
   "id": "5a5f4884-5be6-4227-accb-0bdff31e9b8e",
   "metadata": {},
   "outputs": [],
   "source": [
    "models=[RandomForestRegressor(max_samples=0.75,n_estimators=100),\n",
    "        LinearRegression(),\n",
    "        GradientBoosting,XGBRegressor]"
   ]
  },
  {
   "cell_type": "code",
   "execution_count": 651,
   "id": "84e17bba-cb2f-4a5a-ba0a-de36d0ca3dd6",
   "metadata": {},
   "outputs": [
    {
     "name": "stdout",
     "output_type": "stream",
     "text": [
      "RandomForestRegressor(max_samples=0.75)\n",
      "MSE 0.07645977038656751\n",
      "training error RMSE 0.11023443718367107\n",
      "testing error RMSE 0.27651359891796917\n",
      "r2 0.8461219720788038\n",
      "------------------------------\n",
      "LinearRegression()\n",
      "MSE 0.07645977038656751\n",
      "training error RMSE 0.26667788807233594\n",
      "testing error RMSE 0.27651359891796917\n",
      "r2 0.7831559222975285\n",
      "------------------------------\n",
      "GradientBoostingRegressor()\n",
      "MSE 0.07645977038656751\n",
      "training error RMSE 0.19345733405094112\n",
      "testing error RMSE 0.27651359891796917\n",
      "r2 0.8425641467021258\n",
      "------------------------------\n",
      "XGBRegressor(base_score=None, booster=None, callbacks=None,\n",
      "             colsample_bylevel=None, colsample_bynode=None,\n",
      "             colsample_bytree=None, device=None, early_stopping_rounds=None,\n",
      "             enable_categorical=False, eval_metric=None, feature_types=None,\n",
      "             gamma=None, grow_policy=None, importance_type=None,\n",
      "             interaction_constraints=None, learning_rate=None, max_bin=None,\n",
      "             max_cat_threshold=None, max_cat_to_onehot=None,\n",
      "             max_delta_step=None, max_depth=None, max_leaves=None,\n",
      "             min_child_weight=None, missing=nan, monotone_constraints=None,\n",
      "             multi_strategy=None, n_estimators=None, n_jobs=None,\n",
      "             num_parallel_tree=None, random_state=None, ...)\n",
      "MSE 0.07645977038656751\n",
      "training error RMSE 0.06855612477313305\n",
      "testing error RMSE 0.27651359891796917\n",
      "r2 0.8526170372190461\n",
      "------------------------------\n"
     ]
    }
   ],
   "source": [
    "for i in range(len(models)):\n",
    "    # print(models[i])\n",
    "    pipe=Pipeline([\n",
    "    (\"step1\",preprocessor),\n",
    "    ('step2',models[i])\n",
    "        ])\n",
    "    pipe.fit(X_train,y_train)\n",
    "    y_predict_t=pipe.predict(X_train)\n",
    "    y_predict=pipe.predict(X_test)\n",
    "    print(models[i])\n",
    "    mse_t=mean_squared_error(y_train,y_predict_t)\n",
    "    mse=mean_squared_error(y_test,y_predict_linear)\n",
    "    print('MSE',mse)\n",
    "    print('training error RMSE',np.sqrt(mse_t)) # root mean squared error\n",
    "    print('testing error RMSE',np.sqrt(mse)) # root mean squared error\n",
    "\n",
    "    print('r2',r2_score(y_test,y_predict))\n",
    "    print('-'*30)"
   ]
  },
  {
   "cell_type": "markdown",
   "id": "f1ae1ede-402a-403a-9c42-27616b3a2d9a",
   "metadata": {},
   "source": [
    "### XGBRegressor Hyperparameter Tuning"
   ]
  },
  {
   "cell_type": "code",
   "execution_count": 653,
   "id": "b0f90bb4-82c1-4356-b687-73d78fdc28d3",
   "metadata": {},
   "outputs": [],
   "source": [
    "from sklearn.model_selection import GridSearchCV\n",
    "\n",
    "# Define the hyperparameter grid\n",
    "param_grid = {\n",
    "    'max_depth': [3, 5, 7],\n",
    "    'learning_rate': [0.1, 0.2],\n",
    "    'subsample': [0.5, 0.7, 1],\n",
    "    'random_state':[42]\n",
    "}\n"
   ]
  },
  {
   "cell_type": "code",
   "execution_count": 654,
   "id": "d9ba44c6-bc58-48a5-b1a6-5b0fc9407797",
   "metadata": {},
   "outputs": [],
   "source": [
    "from xgboost import XGBRegressor\n",
    "XGBRegressor=XGBRegressor()"
   ]
  },
  {
   "cell_type": "code",
   "execution_count": 655,
   "id": "97bafca0-96e9-4e57-8bbb-9e8a991a2e81",
   "metadata": {},
   "outputs": [],
   "source": [
    "grid_search = GridSearchCV(XGBRegressor, param_grid, cv=5,scoring='r2')\n"
   ]
  },
  {
   "cell_type": "code",
   "execution_count": 656,
   "id": "9432eaec-3cd5-476e-9ddc-cb500ccc6074",
   "metadata": {},
   "outputs": [],
   "source": [
    "pipe_Xgradient_grid=Pipeline([\n",
    "    ('step1',preprocessor),\n",
    "    \n",
    "    ('step2',grid_search),\n",
    "])"
   ]
  },
  {
   "cell_type": "code",
   "execution_count": 657,
   "id": "36030909-d1d8-4b99-a6cd-e250307a6844",
   "metadata": {
    "scrolled": true
   },
   "outputs": [
    {
     "data": {
      "text/html": [
       "<style>#sk-container-id-15 {color: black;background-color: white;}#sk-container-id-15 pre{padding: 0;}#sk-container-id-15 div.sk-toggleable {background-color: white;}#sk-container-id-15 label.sk-toggleable__label {cursor: pointer;display: block;width: 100%;margin-bottom: 0;padding: 0.3em;box-sizing: border-box;text-align: center;}#sk-container-id-15 label.sk-toggleable__label-arrow:before {content: \"▸\";float: left;margin-right: 0.25em;color: #696969;}#sk-container-id-15 label.sk-toggleable__label-arrow:hover:before {color: black;}#sk-container-id-15 div.sk-estimator:hover label.sk-toggleable__label-arrow:before {color: black;}#sk-container-id-15 div.sk-toggleable__content {max-height: 0;max-width: 0;overflow: hidden;text-align: left;background-color: #f0f8ff;}#sk-container-id-15 div.sk-toggleable__content pre {margin: 0.2em;color: black;border-radius: 0.25em;background-color: #f0f8ff;}#sk-container-id-15 input.sk-toggleable__control:checked~div.sk-toggleable__content {max-height: 200px;max-width: 100%;overflow: auto;}#sk-container-id-15 input.sk-toggleable__control:checked~label.sk-toggleable__label-arrow:before {content: \"▾\";}#sk-container-id-15 div.sk-estimator input.sk-toggleable__control:checked~label.sk-toggleable__label {background-color: #d4ebff;}#sk-container-id-15 div.sk-label input.sk-toggleable__control:checked~label.sk-toggleable__label {background-color: #d4ebff;}#sk-container-id-15 input.sk-hidden--visually {border: 0;clip: rect(1px 1px 1px 1px);clip: rect(1px, 1px, 1px, 1px);height: 1px;margin: -1px;overflow: hidden;padding: 0;position: absolute;width: 1px;}#sk-container-id-15 div.sk-estimator {font-family: monospace;background-color: #f0f8ff;border: 1px dotted black;border-radius: 0.25em;box-sizing: border-box;margin-bottom: 0.5em;}#sk-container-id-15 div.sk-estimator:hover {background-color: #d4ebff;}#sk-container-id-15 div.sk-parallel-item::after {content: \"\";width: 100%;border-bottom: 1px solid gray;flex-grow: 1;}#sk-container-id-15 div.sk-label:hover label.sk-toggleable__label {background-color: #d4ebff;}#sk-container-id-15 div.sk-serial::before {content: \"\";position: absolute;border-left: 1px solid gray;box-sizing: border-box;top: 0;bottom: 0;left: 50%;z-index: 0;}#sk-container-id-15 div.sk-serial {display: flex;flex-direction: column;align-items: center;background-color: white;padding-right: 0.2em;padding-left: 0.2em;position: relative;}#sk-container-id-15 div.sk-item {position: relative;z-index: 1;}#sk-container-id-15 div.sk-parallel {display: flex;align-items: stretch;justify-content: center;background-color: white;position: relative;}#sk-container-id-15 div.sk-item::before, #sk-container-id-15 div.sk-parallel-item::before {content: \"\";position: absolute;border-left: 1px solid gray;box-sizing: border-box;top: 0;bottom: 0;left: 50%;z-index: -1;}#sk-container-id-15 div.sk-parallel-item {display: flex;flex-direction: column;z-index: 1;position: relative;background-color: white;}#sk-container-id-15 div.sk-parallel-item:first-child::after {align-self: flex-end;width: 50%;}#sk-container-id-15 div.sk-parallel-item:last-child::after {align-self: flex-start;width: 50%;}#sk-container-id-15 div.sk-parallel-item:only-child::after {width: 0;}#sk-container-id-15 div.sk-dashed-wrapped {border: 1px dashed gray;margin: 0 0.4em 0.5em 0.4em;box-sizing: border-box;padding-bottom: 0.4em;background-color: white;}#sk-container-id-15 div.sk-label label {font-family: monospace;font-weight: bold;display: inline-block;line-height: 1.2em;}#sk-container-id-15 div.sk-label-container {text-align: center;}#sk-container-id-15 div.sk-container {/* jupyter's `normalize.less` sets `[hidden] { display: none; }` but bootstrap.min.css set `[hidden] { display: none !important; }` so we also need the `!important` here to be able to override the default hidden behavior on the sphinx rendered scikit-learn.org. See: https://github.com/scikit-learn/scikit-learn/issues/21755 */display: inline-block !important;position: relative;}#sk-container-id-15 div.sk-text-repr-fallback {display: none;}</style><div id=\"sk-container-id-15\" class=\"sk-top-container\"><div class=\"sk-text-repr-fallback\"><pre>Pipeline(steps=[(&#x27;step1&#x27;,\n",
       "                 ColumnTransformer(transformers=[(&#x27;num&#x27;,\n",
       "                                                  Pipeline(steps=[(&#x27;imputer&#x27;,\n",
       "                                                                   SimpleImputer(strategy=&#x27;median&#x27;)),\n",
       "                                                                  (&#x27;scale&#x27;,\n",
       "                                                                   StandardScaler())]),\n",
       "                                                  [&#x27;Ram&#x27;, &#x27;Weight&#x27;,\n",
       "                                                   &#x27;Memory_size&#x27;, &#x27;ppi&#x27;]),\n",
       "                                                 (&#x27;cat&#x27;,\n",
       "                                                  Pipeline(steps=[(&#x27;imputer&#x27;,\n",
       "                                                                   SimpleImputer(strategy=&#x27;most_frequent&#x27;)),\n",
       "                                                                  (&#x27;onehot&#x27;,\n",
       "                                                                   OneHotEncoder(drop=&#x27;first&#x27;,\n",
       "                                                                                 sparse=False))]),\n",
       "                                                  [&#x27;Company&#x27;, &#x27;TypeName&#x27;,\n",
       "                                                   &#x27;OpSys&#x27;...\n",
       "                                                     max_cat_threshold=None,\n",
       "                                                     max_cat_to_onehot=None,\n",
       "                                                     max_delta_step=None,\n",
       "                                                     max_depth=None,\n",
       "                                                     max_leaves=None,\n",
       "                                                     min_child_weight=None,\n",
       "                                                     missing=nan,\n",
       "                                                     monotone_constraints=None,\n",
       "                                                     multi_strategy=None,\n",
       "                                                     n_estimators=None,\n",
       "                                                     n_jobs=None,\n",
       "                                                     num_parallel_tree=None,\n",
       "                                                     random_state=None, ...),\n",
       "                              param_grid={&#x27;learning_rate&#x27;: [0.1, 0.2],\n",
       "                                          &#x27;max_depth&#x27;: [3, 5, 7],\n",
       "                                          &#x27;random_state&#x27;: [42],\n",
       "                                          &#x27;subsample&#x27;: [0.5, 0.7, 1]},\n",
       "                              scoring=&#x27;r2&#x27;))])</pre><b>In a Jupyter environment, please rerun this cell to show the HTML representation or trust the notebook. <br />On GitHub, the HTML representation is unable to render, please try loading this page with nbviewer.org.</b></div><div class=\"sk-container\" hidden><div class=\"sk-item sk-dashed-wrapped\"><div class=\"sk-label-container\"><div class=\"sk-label sk-toggleable\"><input class=\"sk-toggleable__control sk-hidden--visually\" id=\"sk-estimator-id-95\" type=\"checkbox\" ><label for=\"sk-estimator-id-95\" class=\"sk-toggleable__label sk-toggleable__label-arrow\">Pipeline</label><div class=\"sk-toggleable__content\"><pre>Pipeline(steps=[(&#x27;step1&#x27;,\n",
       "                 ColumnTransformer(transformers=[(&#x27;num&#x27;,\n",
       "                                                  Pipeline(steps=[(&#x27;imputer&#x27;,\n",
       "                                                                   SimpleImputer(strategy=&#x27;median&#x27;)),\n",
       "                                                                  (&#x27;scale&#x27;,\n",
       "                                                                   StandardScaler())]),\n",
       "                                                  [&#x27;Ram&#x27;, &#x27;Weight&#x27;,\n",
       "                                                   &#x27;Memory_size&#x27;, &#x27;ppi&#x27;]),\n",
       "                                                 (&#x27;cat&#x27;,\n",
       "                                                  Pipeline(steps=[(&#x27;imputer&#x27;,\n",
       "                                                                   SimpleImputer(strategy=&#x27;most_frequent&#x27;)),\n",
       "                                                                  (&#x27;onehot&#x27;,\n",
       "                                                                   OneHotEncoder(drop=&#x27;first&#x27;,\n",
       "                                                                                 sparse=False))]),\n",
       "                                                  [&#x27;Company&#x27;, &#x27;TypeName&#x27;,\n",
       "                                                   &#x27;OpSys&#x27;...\n",
       "                                                     max_cat_threshold=None,\n",
       "                                                     max_cat_to_onehot=None,\n",
       "                                                     max_delta_step=None,\n",
       "                                                     max_depth=None,\n",
       "                                                     max_leaves=None,\n",
       "                                                     min_child_weight=None,\n",
       "                                                     missing=nan,\n",
       "                                                     monotone_constraints=None,\n",
       "                                                     multi_strategy=None,\n",
       "                                                     n_estimators=None,\n",
       "                                                     n_jobs=None,\n",
       "                                                     num_parallel_tree=None,\n",
       "                                                     random_state=None, ...),\n",
       "                              param_grid={&#x27;learning_rate&#x27;: [0.1, 0.2],\n",
       "                                          &#x27;max_depth&#x27;: [3, 5, 7],\n",
       "                                          &#x27;random_state&#x27;: [42],\n",
       "                                          &#x27;subsample&#x27;: [0.5, 0.7, 1]},\n",
       "                              scoring=&#x27;r2&#x27;))])</pre></div></div></div><div class=\"sk-serial\"><div class=\"sk-item sk-dashed-wrapped\"><div class=\"sk-label-container\"><div class=\"sk-label sk-toggleable\"><input class=\"sk-toggleable__control sk-hidden--visually\" id=\"sk-estimator-id-96\" type=\"checkbox\" ><label for=\"sk-estimator-id-96\" class=\"sk-toggleable__label sk-toggleable__label-arrow\">step1: ColumnTransformer</label><div class=\"sk-toggleable__content\"><pre>ColumnTransformer(transformers=[(&#x27;num&#x27;,\n",
       "                                 Pipeline(steps=[(&#x27;imputer&#x27;,\n",
       "                                                  SimpleImputer(strategy=&#x27;median&#x27;)),\n",
       "                                                 (&#x27;scale&#x27;, StandardScaler())]),\n",
       "                                 [&#x27;Ram&#x27;, &#x27;Weight&#x27;, &#x27;Memory_size&#x27;, &#x27;ppi&#x27;]),\n",
       "                                (&#x27;cat&#x27;,\n",
       "                                 Pipeline(steps=[(&#x27;imputer&#x27;,\n",
       "                                                  SimpleImputer(strategy=&#x27;most_frequent&#x27;)),\n",
       "                                                 (&#x27;onehot&#x27;,\n",
       "                                                  OneHotEncoder(drop=&#x27;first&#x27;,\n",
       "                                                                sparse=False))]),\n",
       "                                 [&#x27;Company&#x27;, &#x27;TypeName&#x27;, &#x27;OpSys&#x27;, &#x27;Memory_type&#x27;,\n",
       "                                  &#x27;cpu_brand&#x27;, &#x27;Gpu_brand&#x27;])])</pre></div></div></div><div class=\"sk-parallel\"><div class=\"sk-parallel-item\"><div class=\"sk-item\"><div class=\"sk-label-container\"><div class=\"sk-label sk-toggleable\"><input class=\"sk-toggleable__control sk-hidden--visually\" id=\"sk-estimator-id-97\" type=\"checkbox\" ><label for=\"sk-estimator-id-97\" class=\"sk-toggleable__label sk-toggleable__label-arrow\">num</label><div class=\"sk-toggleable__content\"><pre>[&#x27;Ram&#x27;, &#x27;Weight&#x27;, &#x27;Memory_size&#x27;, &#x27;ppi&#x27;]</pre></div></div></div><div class=\"sk-serial\"><div class=\"sk-item\"><div class=\"sk-serial\"><div class=\"sk-item\"><div class=\"sk-estimator sk-toggleable\"><input class=\"sk-toggleable__control sk-hidden--visually\" id=\"sk-estimator-id-98\" type=\"checkbox\" ><label for=\"sk-estimator-id-98\" class=\"sk-toggleable__label sk-toggleable__label-arrow\">SimpleImputer</label><div class=\"sk-toggleable__content\"><pre>SimpleImputer(strategy=&#x27;median&#x27;)</pre></div></div></div><div class=\"sk-item\"><div class=\"sk-estimator sk-toggleable\"><input class=\"sk-toggleable__control sk-hidden--visually\" id=\"sk-estimator-id-99\" type=\"checkbox\" ><label for=\"sk-estimator-id-99\" class=\"sk-toggleable__label sk-toggleable__label-arrow\">StandardScaler</label><div class=\"sk-toggleable__content\"><pre>StandardScaler()</pre></div></div></div></div></div></div></div></div><div class=\"sk-parallel-item\"><div class=\"sk-item\"><div class=\"sk-label-container\"><div class=\"sk-label sk-toggleable\"><input class=\"sk-toggleable__control sk-hidden--visually\" id=\"sk-estimator-id-100\" type=\"checkbox\" ><label for=\"sk-estimator-id-100\" class=\"sk-toggleable__label sk-toggleable__label-arrow\">cat</label><div class=\"sk-toggleable__content\"><pre>[&#x27;Company&#x27;, &#x27;TypeName&#x27;, &#x27;OpSys&#x27;, &#x27;Memory_type&#x27;, &#x27;cpu_brand&#x27;, &#x27;Gpu_brand&#x27;]</pre></div></div></div><div class=\"sk-serial\"><div class=\"sk-item\"><div class=\"sk-serial\"><div class=\"sk-item\"><div class=\"sk-estimator sk-toggleable\"><input class=\"sk-toggleable__control sk-hidden--visually\" id=\"sk-estimator-id-101\" type=\"checkbox\" ><label for=\"sk-estimator-id-101\" class=\"sk-toggleable__label sk-toggleable__label-arrow\">SimpleImputer</label><div class=\"sk-toggleable__content\"><pre>SimpleImputer(strategy=&#x27;most_frequent&#x27;)</pre></div></div></div><div class=\"sk-item\"><div class=\"sk-estimator sk-toggleable\"><input class=\"sk-toggleable__control sk-hidden--visually\" id=\"sk-estimator-id-102\" type=\"checkbox\" ><label for=\"sk-estimator-id-102\" class=\"sk-toggleable__label sk-toggleable__label-arrow\">OneHotEncoder</label><div class=\"sk-toggleable__content\"><pre>OneHotEncoder(drop=&#x27;first&#x27;, sparse=False)</pre></div></div></div></div></div></div></div></div></div></div><div class=\"sk-item sk-dashed-wrapped\"><div class=\"sk-label-container\"><div class=\"sk-label sk-toggleable\"><input class=\"sk-toggleable__control sk-hidden--visually\" id=\"sk-estimator-id-103\" type=\"checkbox\" ><label for=\"sk-estimator-id-103\" class=\"sk-toggleable__label sk-toggleable__label-arrow\">step2: GridSearchCV</label><div class=\"sk-toggleable__content\"><pre>GridSearchCV(cv=5,\n",
       "             estimator=XGBRegressor(base_score=None, booster=None,\n",
       "                                    callbacks=None, colsample_bylevel=None,\n",
       "                                    colsample_bynode=None,\n",
       "                                    colsample_bytree=None, device=None,\n",
       "                                    early_stopping_rounds=None,\n",
       "                                    enable_categorical=False, eval_metric=None,\n",
       "                                    feature_types=None, gamma=None,\n",
       "                                    grow_policy=None, importance_type=None,\n",
       "                                    interaction_constraints=None,\n",
       "                                    learning_rate=None, m...\n",
       "                                    max_cat_threshold=None,\n",
       "                                    max_cat_to_onehot=None, max_delta_step=None,\n",
       "                                    max_depth=None, max_leaves=None,\n",
       "                                    min_child_weight=None, missing=nan,\n",
       "                                    monotone_constraints=None,\n",
       "                                    multi_strategy=None, n_estimators=None,\n",
       "                                    n_jobs=None, num_parallel_tree=None,\n",
       "                                    random_state=None, ...),\n",
       "             param_grid={&#x27;learning_rate&#x27;: [0.1, 0.2], &#x27;max_depth&#x27;: [3, 5, 7],\n",
       "                         &#x27;random_state&#x27;: [42], &#x27;subsample&#x27;: [0.5, 0.7, 1]},\n",
       "             scoring=&#x27;r2&#x27;)</pre></div></div></div><div class=\"sk-parallel\"><div class=\"sk-parallel-item\"><div class=\"sk-item\"><div class=\"sk-label-container\"><div class=\"sk-label sk-toggleable\"><input class=\"sk-toggleable__control sk-hidden--visually\" id=\"sk-estimator-id-104\" type=\"checkbox\" ><label for=\"sk-estimator-id-104\" class=\"sk-toggleable__label sk-toggleable__label-arrow\">estimator: XGBRegressor</label><div class=\"sk-toggleable__content\"><pre>XGBRegressor(base_score=None, booster=None, callbacks=None,\n",
       "             colsample_bylevel=None, colsample_bynode=None,\n",
       "             colsample_bytree=None, device=None, early_stopping_rounds=None,\n",
       "             enable_categorical=False, eval_metric=None, feature_types=None,\n",
       "             gamma=None, grow_policy=None, importance_type=None,\n",
       "             interaction_constraints=None, learning_rate=None, max_bin=None,\n",
       "             max_cat_threshold=None, max_cat_to_onehot=None,\n",
       "             max_delta_step=None, max_depth=None, max_leaves=None,\n",
       "             min_child_weight=None, missing=nan, monotone_constraints=None,\n",
       "             multi_strategy=None, n_estimators=None, n_jobs=None,\n",
       "             num_parallel_tree=None, random_state=None, ...)</pre></div></div></div><div class=\"sk-serial\"><div class=\"sk-item\"><div class=\"sk-estimator sk-toggleable\"><input class=\"sk-toggleable__control sk-hidden--visually\" id=\"sk-estimator-id-105\" type=\"checkbox\" ><label for=\"sk-estimator-id-105\" class=\"sk-toggleable__label sk-toggleable__label-arrow\">XGBRegressor</label><div class=\"sk-toggleable__content\"><pre>XGBRegressor(base_score=None, booster=None, callbacks=None,\n",
       "             colsample_bylevel=None, colsample_bynode=None,\n",
       "             colsample_bytree=None, device=None, early_stopping_rounds=None,\n",
       "             enable_categorical=False, eval_metric=None, feature_types=None,\n",
       "             gamma=None, grow_policy=None, importance_type=None,\n",
       "             interaction_constraints=None, learning_rate=None, max_bin=None,\n",
       "             max_cat_threshold=None, max_cat_to_onehot=None,\n",
       "             max_delta_step=None, max_depth=None, max_leaves=None,\n",
       "             min_child_weight=None, missing=nan, monotone_constraints=None,\n",
       "             multi_strategy=None, n_estimators=None, n_jobs=None,\n",
       "             num_parallel_tree=None, random_state=None, ...)</pre></div></div></div></div></div></div></div></div></div></div></div></div>"
      ],
      "text/plain": [
       "Pipeline(steps=[('step1',\n",
       "                 ColumnTransformer(transformers=[('num',\n",
       "                                                  Pipeline(steps=[('imputer',\n",
       "                                                                   SimpleImputer(strategy='median')),\n",
       "                                                                  ('scale',\n",
       "                                                                   StandardScaler())]),\n",
       "                                                  ['Ram', 'Weight',\n",
       "                                                   'Memory_size', 'ppi']),\n",
       "                                                 ('cat',\n",
       "                                                  Pipeline(steps=[('imputer',\n",
       "                                                                   SimpleImputer(strategy='most_frequent')),\n",
       "                                                                  ('onehot',\n",
       "                                                                   OneHotEncoder(drop='first',\n",
       "                                                                                 sparse=False))]),\n",
       "                                                  ['Company', 'TypeName',\n",
       "                                                   'OpSys'...\n",
       "                                                     max_cat_threshold=None,\n",
       "                                                     max_cat_to_onehot=None,\n",
       "                                                     max_delta_step=None,\n",
       "                                                     max_depth=None,\n",
       "                                                     max_leaves=None,\n",
       "                                                     min_child_weight=None,\n",
       "                                                     missing=nan,\n",
       "                                                     monotone_constraints=None,\n",
       "                                                     multi_strategy=None,\n",
       "                                                     n_estimators=None,\n",
       "                                                     n_jobs=None,\n",
       "                                                     num_parallel_tree=None,\n",
       "                                                     random_state=None, ...),\n",
       "                              param_grid={'learning_rate': [0.1, 0.2],\n",
       "                                          'max_depth': [3, 5, 7],\n",
       "                                          'random_state': [42],\n",
       "                                          'subsample': [0.5, 0.7, 1]},\n",
       "                              scoring='r2'))])"
      ]
     },
     "execution_count": 657,
     "metadata": {},
     "output_type": "execute_result"
    }
   ],
   "source": [
    "pipe_Xgradient_grid.fit(X_train,y_train)"
   ]
  },
  {
   "cell_type": "code",
   "execution_count": 658,
   "id": "a38af0bb-79d0-461c-b2ac-d1ed5f85ba72",
   "metadata": {},
   "outputs": [],
   "source": [
    "y_Xgradient=pipe_Xgradient_grid.predict(X_test)\n",
    "# y_Xgradient"
   ]
  },
  {
   "cell_type": "code",
   "execution_count": 659,
   "id": "8ede1311-ad4d-47e8-922b-016d5d426959",
   "metadata": {},
   "outputs": [
    {
     "name": "stdout",
     "output_type": "stream",
     "text": [
      "0.047325283771997344\n",
      "RMSE 0.2175437513972703\n",
      "R2_score 0.8657829148627764\n"
     ]
    }
   ],
   "source": [
    "mse=mean_squared_error(y_test,y_Xgradient)\n",
    "print(mse) #0.038552737977463024\n",
    "print('RMSE',np.sqrt(mse)) # root mean squared error - 0.1963485115234211\n",
    "print('R2_score',r2_score(y_test,y_Xgradient)) #0.8829628211803406\n",
    "# print('score', grid_search.score(X_train,y_train))"
   ]
  },
  {
   "cell_type": "code",
   "execution_count": 660,
   "id": "373218f8-a327-4f6f-902c-8e840d7f5793",
   "metadata": {},
   "outputs": [
    {
     "name": "stdout",
     "output_type": "stream",
     "text": [
      "XGBRegressor Hyperparameter Tuning\n",
      "Best set of hyperparameters:  {'learning_rate': 0.1, 'max_depth': 5, 'random_state': 42, 'subsample': 0.5}\n",
      "Best score:  0.8778298011956343\n",
      "Best estimator:  XGBRegressor(base_score=None, booster=None, callbacks=None,\n",
      "             colsample_bylevel=None, colsample_bynode=None,\n",
      "             colsample_bytree=None, device=None, early_stopping_rounds=None,\n",
      "             enable_categorical=False, eval_metric=None, feature_types=None,\n",
      "             gamma=None, grow_policy=None, importance_type=None,\n",
      "             interaction_constraints=None, learning_rate=0.1, max_bin=None,\n",
      "             max_cat_threshold=None, max_cat_to_onehot=None,\n",
      "             max_delta_step=None, max_depth=5, max_leaves=None,\n",
      "             min_child_weight=None, missing=nan, monotone_constraints=None,\n",
      "             multi_strategy=None, n_estimators=None, n_jobs=None,\n",
      "             num_parallel_tree=None, random_state=42, ...)\n"
     ]
    },
    {
     "data": {
      "text/html": [
       "<style>#sk-container-id-16 {color: black;background-color: white;}#sk-container-id-16 pre{padding: 0;}#sk-container-id-16 div.sk-toggleable {background-color: white;}#sk-container-id-16 label.sk-toggleable__label {cursor: pointer;display: block;width: 100%;margin-bottom: 0;padding: 0.3em;box-sizing: border-box;text-align: center;}#sk-container-id-16 label.sk-toggleable__label-arrow:before {content: \"▸\";float: left;margin-right: 0.25em;color: #696969;}#sk-container-id-16 label.sk-toggleable__label-arrow:hover:before {color: black;}#sk-container-id-16 div.sk-estimator:hover label.sk-toggleable__label-arrow:before {color: black;}#sk-container-id-16 div.sk-toggleable__content {max-height: 0;max-width: 0;overflow: hidden;text-align: left;background-color: #f0f8ff;}#sk-container-id-16 div.sk-toggleable__content pre {margin: 0.2em;color: black;border-radius: 0.25em;background-color: #f0f8ff;}#sk-container-id-16 input.sk-toggleable__control:checked~div.sk-toggleable__content {max-height: 200px;max-width: 100%;overflow: auto;}#sk-container-id-16 input.sk-toggleable__control:checked~label.sk-toggleable__label-arrow:before {content: \"▾\";}#sk-container-id-16 div.sk-estimator input.sk-toggleable__control:checked~label.sk-toggleable__label {background-color: #d4ebff;}#sk-container-id-16 div.sk-label input.sk-toggleable__control:checked~label.sk-toggleable__label {background-color: #d4ebff;}#sk-container-id-16 input.sk-hidden--visually {border: 0;clip: rect(1px 1px 1px 1px);clip: rect(1px, 1px, 1px, 1px);height: 1px;margin: -1px;overflow: hidden;padding: 0;position: absolute;width: 1px;}#sk-container-id-16 div.sk-estimator {font-family: monospace;background-color: #f0f8ff;border: 1px dotted black;border-radius: 0.25em;box-sizing: border-box;margin-bottom: 0.5em;}#sk-container-id-16 div.sk-estimator:hover {background-color: #d4ebff;}#sk-container-id-16 div.sk-parallel-item::after {content: \"\";width: 100%;border-bottom: 1px solid gray;flex-grow: 1;}#sk-container-id-16 div.sk-label:hover label.sk-toggleable__label {background-color: #d4ebff;}#sk-container-id-16 div.sk-serial::before {content: \"\";position: absolute;border-left: 1px solid gray;box-sizing: border-box;top: 0;bottom: 0;left: 50%;z-index: 0;}#sk-container-id-16 div.sk-serial {display: flex;flex-direction: column;align-items: center;background-color: white;padding-right: 0.2em;padding-left: 0.2em;position: relative;}#sk-container-id-16 div.sk-item {position: relative;z-index: 1;}#sk-container-id-16 div.sk-parallel {display: flex;align-items: stretch;justify-content: center;background-color: white;position: relative;}#sk-container-id-16 div.sk-item::before, #sk-container-id-16 div.sk-parallel-item::before {content: \"\";position: absolute;border-left: 1px solid gray;box-sizing: border-box;top: 0;bottom: 0;left: 50%;z-index: -1;}#sk-container-id-16 div.sk-parallel-item {display: flex;flex-direction: column;z-index: 1;position: relative;background-color: white;}#sk-container-id-16 div.sk-parallel-item:first-child::after {align-self: flex-end;width: 50%;}#sk-container-id-16 div.sk-parallel-item:last-child::after {align-self: flex-start;width: 50%;}#sk-container-id-16 div.sk-parallel-item:only-child::after {width: 0;}#sk-container-id-16 div.sk-dashed-wrapped {border: 1px dashed gray;margin: 0 0.4em 0.5em 0.4em;box-sizing: border-box;padding-bottom: 0.4em;background-color: white;}#sk-container-id-16 div.sk-label label {font-family: monospace;font-weight: bold;display: inline-block;line-height: 1.2em;}#sk-container-id-16 div.sk-label-container {text-align: center;}#sk-container-id-16 div.sk-container {/* jupyter's `normalize.less` sets `[hidden] { display: none; }` but bootstrap.min.css set `[hidden] { display: none !important; }` so we also need the `!important` here to be able to override the default hidden behavior on the sphinx rendered scikit-learn.org. See: https://github.com/scikit-learn/scikit-learn/issues/21755 */display: inline-block !important;position: relative;}#sk-container-id-16 div.sk-text-repr-fallback {display: none;}</style><div id=\"sk-container-id-16\" class=\"sk-top-container\"><div class=\"sk-text-repr-fallback\"><pre>XGBRegressor(base_score=None, booster=None, callbacks=None,\n",
       "             colsample_bylevel=None, colsample_bynode=None,\n",
       "             colsample_bytree=None, device=None, early_stopping_rounds=None,\n",
       "             enable_categorical=False, eval_metric=None, feature_types=None,\n",
       "             gamma=None, grow_policy=None, importance_type=None,\n",
       "             interaction_constraints=None, learning_rate=0.1, max_bin=None,\n",
       "             max_cat_threshold=None, max_cat_to_onehot=None,\n",
       "             max_delta_step=None, max_depth=5, max_leaves=None,\n",
       "             min_child_weight=None, missing=nan, monotone_constraints=None,\n",
       "             multi_strategy=None, n_estimators=None, n_jobs=None,\n",
       "             num_parallel_tree=None, random_state=42, ...)</pre><b>In a Jupyter environment, please rerun this cell to show the HTML representation or trust the notebook. <br />On GitHub, the HTML representation is unable to render, please try loading this page with nbviewer.org.</b></div><div class=\"sk-container\" hidden><div class=\"sk-item\"><div class=\"sk-estimator sk-toggleable\"><input class=\"sk-toggleable__control sk-hidden--visually\" id=\"sk-estimator-id-106\" type=\"checkbox\" checked><label for=\"sk-estimator-id-106\" class=\"sk-toggleable__label sk-toggleable__label-arrow\">XGBRegressor</label><div class=\"sk-toggleable__content\"><pre>XGBRegressor(base_score=None, booster=None, callbacks=None,\n",
       "             colsample_bylevel=None, colsample_bynode=None,\n",
       "             colsample_bytree=None, device=None, early_stopping_rounds=None,\n",
       "             enable_categorical=False, eval_metric=None, feature_types=None,\n",
       "             gamma=None, grow_policy=None, importance_type=None,\n",
       "             interaction_constraints=None, learning_rate=0.1, max_bin=None,\n",
       "             max_cat_threshold=None, max_cat_to_onehot=None,\n",
       "             max_delta_step=None, max_depth=5, max_leaves=None,\n",
       "             min_child_weight=None, missing=nan, monotone_constraints=None,\n",
       "             multi_strategy=None, n_estimators=None, n_jobs=None,\n",
       "             num_parallel_tree=None, random_state=42, ...)</pre></div></div></div></div></div>"
      ],
      "text/plain": [
       "XGBRegressor(base_score=None, booster=None, callbacks=None,\n",
       "             colsample_bylevel=None, colsample_bynode=None,\n",
       "             colsample_bytree=None, device=None, early_stopping_rounds=None,\n",
       "             enable_categorical=False, eval_metric=None, feature_types=None,\n",
       "             gamma=None, grow_policy=None, importance_type=None,\n",
       "             interaction_constraints=None, learning_rate=0.1, max_bin=None,\n",
       "             max_cat_threshold=None, max_cat_to_onehot=None,\n",
       "             max_delta_step=None, max_depth=5, max_leaves=None,\n",
       "             min_child_weight=None, missing=nan, monotone_constraints=None,\n",
       "             multi_strategy=None, n_estimators=None, n_jobs=None,\n",
       "             num_parallel_tree=None, random_state=42, ...)"
      ]
     },
     "execution_count": 660,
     "metadata": {},
     "output_type": "execute_result"
    }
   ],
   "source": [
    "print('XGBRegressor Hyperparameter Tuning')\n",
    "print(\"Best set of hyperparameters: \", grid_search.best_params_)\n",
    "print(\"Best score: \", grid_search.best_score_)\n",
    "print(\"Best estimator: \", grid_search.best_estimator_)\n",
    "grid_search.best_estimator_\n"
   ]
  },
  {
   "cell_type": "markdown",
   "id": "e34909e5-1133-4c4d-99d4-5b3667548425",
   "metadata": {},
   "source": [
    "### Using hyper parameter tuning in xgboost r2 increase to 0.8778298011956343"
   ]
  },
  {
   "cell_type": "code",
   "execution_count": 661,
   "id": "c5447402-b424-4548-908b-e3448b3bc65d",
   "metadata": {
    "scrolled": true
   },
   "outputs": [],
   "source": [
    "# grid_search.best_estimator_.predict(X_test)"
   ]
  },
  {
   "cell_type": "code",
   "execution_count": 662,
   "id": "9cba4abf-06d5-4035-8dec-56547410bc6d",
   "metadata": {},
   "outputs": [
    {
     "data": {
      "text/plain": [
       "4115428.571428572"
      ]
     },
     "execution_count": 662,
     "metadata": {},
     "output_type": "execute_result"
    }
   ],
   "source": [
    "w='2400x1600'\n",
    "width=int(w.split('x')[0])\n",
    "height=int(w.split('x')[1])\n",
    "Inches=1.4\n",
    "width\n",
    "height\n",
    "P=((width**2)+(height**2)**(1/2))/Inches\n",
    "P"
   ]
  },
  {
   "cell_type": "markdown",
   "id": "4d23bad4-9e70-48e7-a7b0-b212af0ef644",
   "metadata": {},
   "source": [
    "### Deployment of application using gradio"
   ]
  },
  {
   "cell_type": "code",
   "execution_count": 674,
   "id": "e5378da1-6287-4b3a-adbb-40316183720e",
   "metadata": {},
   "outputs": [],
   "source": [
    "# gradio application\n",
    "def predicting_price(Company,TypeName,Ram,Weight,cpu_brand,Gpu_brand,OpSys,Touch,IPS,Memory_size,Memory_type,Inches,Resolution):\n",
    "  # print(Company,TypeName,Ram,Weight,cpu_brand,Gpu_brand,OpSys,Touch,IPS,Memory_size,Memory_type,Inches,Resolution)\n",
    "  width=int(Resolution.split('x')[0])\n",
    "  height=int(Resolution.split('x')[1])\n",
    "  ppi=0\n",
    "  ppi=((width**2)+(height**2)**(1/2))/Inches\n",
    "  if Touch == 'Yes':\n",
    "      Touch=1\n",
    "  else:\n",
    "      Touch=0\n",
    "  if IPS == 'Yes':\n",
    "      IPS = 1\n",
    "  else:\n",
    "      IPS = 0\n",
    "  # print(pipe_Xgradient_grid.predict(inputs)[0])\n",
    "\n",
    "  # print(Company,TypeName,Ram,Weight,cpu_brand,Gpu_brand,OpSys,Touch,IPS,Memory_size,Memory_type,ppi)\n",
    "  inputs=pd.DataFrame([[Company,TypeName,Ram,Weight,cpu_brand,Gpu_brand,OpSys,Touch,IPS,Memory_size,Memory_type,ppi]],\n",
    "  columns=['Company','TypeName','Ram','Weight','cpu_brand','Gpu_brand','OpSys','Touch','IPS','Memory_size','Memory_type','ppi'])\n",
    "  price=np.exp(pipe_Xgradient_grid.predict(inputs)[0])\n",
    "  \n",
    "  return price\n",
    "\n"
   ]
  },
  {
   "cell_type": "code",
   "execution_count": 675,
   "id": "fb59eb85-0934-47a9-b486-715aea9f690f",
   "metadata": {},
   "outputs": [
    {
     "data": {
      "text/plain": [
       "88912.39"
      ]
     },
     "execution_count": 675,
     "metadata": {},
     "output_type": "execute_result"
    }
   ],
   "source": [
    "predicting_price(\"Apple\",\"Ultrabook\",8,1.37,\"Intel Core i5\",\"Intel\",\"Mac\"\t,'No',\t'Yes'\t,256.0\t,\"SSD\",13.5,'2560x1600')\n"
   ]
  },
  {
   "cell_type": "markdown",
   "id": "063b07f8-d8e5-45c8-aa59-1d070817980f",
   "metadata": {},
   "source": [
    "## Real-time Predictions\n",
    "\n"
   ]
  },
  {
   "cell_type": "code",
   "execution_count": 665,
   "id": "34859e0a-8967-41d4-991f-9a5881c95755",
   "metadata": {},
   "outputs": [],
   "source": [
    "%%capture\n",
    "pip install gradio"
   ]
  },
  {
   "cell_type": "code",
   "execution_count": 666,
   "id": "05c60e9f-48bb-44d4-8275-53efcd2bede1",
   "metadata": {},
   "outputs": [],
   "source": [
    "import gradio as gr"
   ]
  },
  {
   "cell_type": "code",
   "execution_count": 667,
   "id": "1046a669-323e-4b1c-ba2f-e65de8bf4a65",
   "metadata": {
    "scrolled": true
   },
   "outputs": [],
   "source": [
    "c_v=df['Company'].unique().tolist()\n",
    "t=df['TypeName'].unique().tolist()\n",
    "r=X['Ram'].unique().tolist()\n",
    "W=['1.37', '1.34', '1.86', '1.83', '2.10', '2.04', '1.30', '1.60',\n",
    "       '2.20', '0.92', '1.22', '2.50', '1.62', '1.91', '2.30', '1.35',\n",
    "       '1.88', '1.89', '1.65', '2.71', '1.20', '1.44', '2.80', '2.00',\n",
    "       '2.65', '2.77', '3.20', '1.49', '2.40', '2.13', '2.43', '1.70',\n",
    "       '1.40', '1.80', '1.90', '3.00', '1.25', '2.70', '2.02', '1.63',\n",
    "       '1.96', '1.21', '2.45', '1.50', '2.62', '1.38', '1.58', '1.85',\n",
    "       '1.23', '2.16', '2.36', '7.20', '2.05', '1.32', '1.75', '0.97',\n",
    "       '2.56', '1.48', '1.74', '1.10', '1.56', '2.03', '1.05', '5.40',\n",
    "       '4.40', '1.29', '1.95', '2.06', '1.12', '3.49', '3.35', '2.23',\n",
    "       '2.90', '4.42', '2.69', '2.37', '4.70', '3.60', '2.08', '4.30',\n",
    "       '1.68', '1.41', '4.14', '2.18', '2.24', '2.67', '4.10', '2.14',\n",
    "       '1.36', '2.25', '2.15', '2.19', '2.54', '3.42', '5.80', '1.28',\n",
    "       '2.33', '1.45', '2.79', '8.23', '1.26', '1.84', '0.00', '2.60',\n",
    "       '2.26', '3.25', '1.59', '1.13', '1.42', '1.78', '1.15', '1.27',\n",
    "       '1.43', '2.31', '1.16', '1.64', '2.17', '1.47', '3.78', '1.79',\n",
    "       '0.91', '1.99', '4.33', '1.93', '1.87', '2.63', '3.40', '3.14',\n",
    "       '1.94', '1.24', '4.60', '4.50', '8.40', '2.73', '1.39', '2.29',\n",
    "       '2.59', '2.94', '11.10', '1.14', '3.80', '6.20', '3.31', '1.09',\n",
    "       '3.21', '1.19', '1.98', '1.17', '4.36', '1.71', '2.32', '4.20',\n",
    "       '1.55', '0.81', '1.18', '2.72', '1.31', '3.74', '1.76', '1.54',\n",
    "       '2.83', '2.07', '2.38', '3.58', '1.08', '0.98', '2.75', '2.99',\n",
    "       '1.11', '2.09', '4.00', '0.99', '0.69', '3.52', '2.21', '3.30',\n",
    "       '2.34']\n",
    "cpu_brand=X['cpu_brand'].unique().tolist()\n",
    "Gpu_brand=df['Gpu_brand'].unique().tolist()\n",
    "OpSys=df['OpSys'].unique().tolist()\n",
    "Memory_size=df['Memory_size'].unique().tolist()\n",
    "Memory_type=df['Memory_type'].unique().tolist()"
   ]
  },
  {
   "cell_type": "code",
   "execution_count": 668,
   "id": "c2d37fe4-bfb0-45e6-aff8-463e3fec38a9",
   "metadata": {},
   "outputs": [],
   "source": [
    "Company=gr.Dropdown(label='Company',choices=c_v)\n",
    "TypeName=gr.Dropdown(label='Type',choices=t)\n",
    "Ram=gr.Dropdown(label='Ram',choices=r)\n",
    "Weight=gr.Dropdown(label='Weight',choices=W)\n",
    "cpu_brand=gr.Dropdown(label='cpu_brand',choices=cpu_brand)\n",
    "# Cpu_ghz=gr.Dropdown(label='Cpu_ghz',choices=Cpu_ghz)\n",
    "Gpu_brand=gr.Dropdown(label='Gpu_brand',choices=Gpu_brand)\n",
    "OpSys=gr.Dropdown(label='OperatingSys',choices=OpSys)\n",
    "Touch=gr.Dropdown(label='Touch',choices=['Yes','No'])\n",
    "IPS=gr.Dropdown(label='IPS',choices=['Yes','No'])\n",
    "Memory_size=gr.Dropdown(label='Memory_size',choices=Memory_size)\n",
    "Memory_type=gr.Dropdown(label='Memory_type',choices=Memory_type)\n",
    "Touch=gr.Dropdown(label='Touch',choices=['Yes','No'])\n",
    "IPS=gr.Dropdown(label='IPS',choices=['Yes','No'])\n",
    "Inches=gr.Dropdown(label='Inches',choices=[13.3, 15.6, 15.4, 14. , 12. , 17.3, 13.5, 12.5, 13. , 18.4, 13.9,\n",
    "       11.6, 25.6, 35.6, 12.3, 27.3, 24. , 33.5, 31.6, 17. , 15. , 14.1,\n",
    "       11.3, 10.1])\n",
    "Resolution=gr.Dropdown(label='Resolution',choices=['2560x1600', '1440x900', '1920x1080', '2880x1800', '1366x768',\n",
    "       '2304x1440', '3200x1800', '2256x1504', '3840x2160', '2160x1440',\n",
    "       '1600x900', '2560x1440', '2736x1824', '2400x1600', '1920x1200'])"
   ]
  },
  {
   "cell_type": "code",
   "execution_count": 669,
   "id": "99c9bc12-985e-4227-b6b6-95f2512fb93e",
   "metadata": {},
   "outputs": [],
   "source": [
    "demo=gr.Interface(fn=predicting_price,\n",
    "                  inputs=[Company,TypeName,Ram,Weight,cpu_brand,Gpu_brand,OpSys,Touch,IPS,Memory_size,Memory_type,Inches,Resolution],\n",
    "                  outputs=gr.Textbox(label=\"Predicted Price\"))"
   ]
  },
  {
   "cell_type": "code",
   "execution_count": 670,
   "id": "64eb9bf7-2f8b-49fc-a1a2-5833cbc2c2ea",
   "metadata": {},
   "outputs": [
    {
     "name": "stdout",
     "output_type": "stream",
     "text": [
      "Running on local URL:  http://127.0.0.1:7867\n",
      "\n",
      "Could not create share link. Please check your internet connection or our status page: https://status.gradio.app.\n"
     ]
    },
    {
     "data": {
      "text/html": [
       "<div><iframe src=\"http://127.0.0.1:7867/\" width=\"100%\" height=\"500\" allow=\"autoplay; camera; microphone; clipboard-read; clipboard-write;\" frameborder=\"0\" allowfullscreen></iframe></div>"
      ],
      "text/plain": [
       "<IPython.core.display.HTML object>"
      ]
     },
     "metadata": {},
     "output_type": "display_data"
    },
    {
     "data": {
      "text/plain": []
     },
     "execution_count": 670,
     "metadata": {},
     "output_type": "execute_result"
    }
   ],
   "source": [
    "demo.launch(share=True)"
   ]
  },
  {
   "cell_type": "code",
   "execution_count": null,
   "id": "b76c7d4c-8258-4e9e-9a1a-9462c9acfb0e",
   "metadata": {},
   "outputs": [],
   "source": []
  },
  {
   "cell_type": "code",
   "execution_count": null,
   "id": "daec243c-406e-4cf4-afd0-2bcf6165ac97",
   "metadata": {},
   "outputs": [],
   "source": []
  }
 ],
 "metadata": {
  "kernelspec": {
   "display_name": "Python 3 (ipykernel)",
   "language": "python",
   "name": "python3"
  },
  "language_info": {
   "codemirror_mode": {
    "name": "ipython",
    "version": 3
   },
   "file_extension": ".py",
   "mimetype": "text/x-python",
   "name": "python",
   "nbconvert_exporter": "python",
   "pygments_lexer": "ipython3",
   "version": "3.11.7"
  }
 },
 "nbformat": 4,
 "nbformat_minor": 5
}
